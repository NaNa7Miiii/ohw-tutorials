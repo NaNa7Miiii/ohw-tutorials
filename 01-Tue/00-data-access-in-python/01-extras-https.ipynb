{
 "cells": [
  {
   "cell_type": "markdown",
   "metadata": {
    "slideshow": {
     "slide_type": "slide"
    }
   },
   "source": [
    "# Extras: load netCDF files directly from HTTPS"
   ]
  },
  {
   "cell_type": "code",
   "execution_count": 1,
   "metadata": {
    "slideshow": {
     "slide_type": "slide"
    }
   },
   "outputs": [
    {
     "name": "stdout",
     "output_type": "stream",
     "text": [
      "[Errno -90] NetCDF: file not found: b'https://noaa-goes16.s3.amazonaws.com/ABI-L2-CMIPC/2019/027/00/OR_ABI-L2-CMIPC-M3C01_G16_s20190270002156_e20190270004529_c20190270004598.nc'\n"
     ]
    },
    {
     "name": "stderr",
     "output_type": "stream",
     "text": [
      "syntax error, unexpected WORD_WORD, expecting SCAN_ATTR or SCAN_DATASET or SCAN_ERROR\n",
      "context: <?xml^ version=\"1.0\" encoding=\"UTF-8\"?><Error><Code>NoSuchKey</Code><Message>The specified key does not exist.</Message><Key>ABI-L2-CMIPC/2019/027/00/OR_ABI-L2-CMIPC-M3C01_G16_s20190270002156_e20190270004529_c20190270004598.nc.dds</Key><RequestId>PYNRN438TTA692V5</RequestId><HostId>NBEwFD5sIx6OZfsek/kqTf25cgkogZeMJBYBAk2G/9aZKZ4ap80cY8l7I+803Ror0P9u9sVtIac=</HostId></Error>\n"
     ]
    }
   ],
   "source": [
    "from netCDF4 import Dataset\n",
    "\n",
    "try:\n",
    "    url = (\n",
    "        \"https://noaa-goes16.s3.amazonaws.com/\"\n",
    "        \"ABI-L2-CMIPC/2019/027/00/\"\n",
    "        \"OR_ABI-L2-CMIPC-M3C01_G16_\"\n",
    "        \"s20190270002156_e20190270004529_c20190270004598.nc\"\n",
    "    )\n",
    "    nc = Dataset(url)\n",
    "except OSError as e:\n",
    "    print(e)"
   ]
  },
  {
   "cell_type": "code",
   "execution_count": 2,
   "metadata": {
    "slideshow": {
     "slide_type": "slide"
    }
   },
   "outputs": [
    {
     "name": "stdout",
     "output_type": "stream",
     "text": [
      "Single reflective band Cloud and Moisture Imagery Products are digital maps of clouds, moisture, and atmospheric windows at visible and near-IR bands.\n"
     ]
    }
   ],
   "source": [
    "with Dataset(f\"{url}#mode=bytes\") as nc:\n",
    "    print(nc.summary)"
   ]
  },
  {
   "cell_type": "markdown",
   "metadata": {
    "slideshow": {
     "slide_type": "fragment"
    }
   },
   "source": [
    "![](https://media.giphy.com/media/12NUbkX6p4xOO4/giphy.gif)\n"
   ]
  }
 ],
 "metadata": {
  "celltoolbar": "Slideshow",
  "kernelspec": {
   "display_name": "Python 3 (ipykernel)",
   "language": "python",
   "name": "python3"
  },
  "language_info": {
   "codemirror_mode": {
    "name": "ipython",
    "version": 3
   },
   "file_extension": ".py",
   "mimetype": "text/x-python",
   "name": "python",
   "nbconvert_exporter": "python",
   "pygments_lexer": "ipython3",
   "version": "3.9.13"
  },
  "livereveal": {
   "auto_select": "none",
   "footer": " ",
   "header": "<script src='/files/static/theme/reveal.js'></script>",
   "start_slideshow_at": "selected"
  }
 },
 "nbformat": 4,
 "nbformat_minor": 4
}
