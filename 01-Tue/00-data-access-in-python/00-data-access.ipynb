{
 "cells": [
  {
   "cell_type": "code",
   "execution_count": 1,
   "metadata": {
    "slideshow": {
     "slide_type": "skip"
    }
   },
   "outputs": [],
   "source": [
    "from pandas.plotting import register_matplotlib_converters\n",
    "\n",
    "register_matplotlib_converters()\n",
    "\n",
    "import warnings\n",
    "\n",
    "warnings.filterwarnings(\"ignore\")"
   ]
  },
  {
   "cell_type": "markdown",
   "metadata": {
    "slideshow": {
     "slide_type": "slide"
    }
   },
   "source": [
    "# Data Access\n",
    "\n",
    "## servers, servers everywhere and not a bit to flip\n",
    "\n",
    "![](https://imgs.xkcd.com/comics/digital_data.png)"
   ]
  },
  {
   "cell_type": "markdown",
   "metadata": {
    "slideshow": {
     "slide_type": "slide"
    }
   },
   "source": [
    "## whoami\n",
    "\n",
    "`ocefpaf` (Filipe Fernandes)\n",
    "\n",
    "- Physical Oceanographer\n",
    "- Data Plumber\n",
    "- Code Janitor\n",
    "- CI babysitter\n",
    "- package-Dash-Button for conda-forge"
   ]
  },
  {
   "cell_type": "markdown",
   "metadata": {
    "slideshow": {
     "slide_type": "slide"
    }
   },
   "source": [
    "## My day job: IOOS\n",
    "\n",
    "![](https://raw.githubusercontent.com/ocefpaf/2018-SciPy-talk/gh-pages/images/IOOS-RAs.jpg)"
   ]
  },
  {
   "cell_type": "markdown",
   "metadata": {
    "slideshow": {
     "slide_type": "slide"
    }
   },
   "source": [
    "## Big or small we need data!\n",
    "\n",
    "- There are various sources: variety of servers, APIs, and web services. Just to\n",
    "  list a few: OPeNDAP, ERDDAP, THREDDS, ftp, http(s), S3, LAS, etc.\n",
    "\n",
    "![](https://imgs.xkcd.com/comics/data_pipeline.png)"
   ]
  },
  {
   "cell_type": "markdown",
   "metadata": {
    "slideshow": {
     "slide_type": "slide"
    }
   },
   "source": [
    "## Feedback\n",
    "\n",
    "As you suffer from my tutorial on Data Access I'd love that you keep the following questions in mind so we can improve this tutorial. Should we focus on?\n",
    "\n",
    "- Leveraging metadata for finding and exploring data?\n",
    "- Software packages to access, slice, and dice data?\n",
    "- Data sources?\n",
    "- None of the above, we don't need this tutorial!"
   ]
  },
  {
   "cell_type": "markdown",
   "metadata": {
    "slideshow": {
     "slide_type": "slide"
    }
   },
   "source": [
    "## Web Services/Type of servers\n",
    "\n",
    "| Data Type                              | Web Service | Response    |\n",
    "| -------------------------------------- | ----------- | ----------- |\n",
    "| In-situ data<br>(buoys, stations, etc) | OGC SOS     | XML/CSV     |\n",
    "| Gridded data (models, satellite)       | OPeNDAP     | Binary      |\n",
    "| Raster Images                          | OGC WMS     | GeoTIFF/PNG |\n",
    "| ERDDAP                                 | Restful API | \\*          |\n",
    "\n",
    "- Your imagination is the limit!\n",
    "PS: There are also `stac` for images, cloud buckets for various formats, and many more."
   ]
  },
  {
   "cell_type": "markdown",
   "metadata": {
    "slideshow": {
     "slide_type": "slide"
    }
   },
   "source": [
    "## What are we going to see in this tutorial?\n",
    "\n",
    "Browse and access data from:\n",
    "\n",
    "1. ERDDAP\n",
    "2. OPeNDAP\n",
    "3. ~~SOS~~\n",
    "4. WMS\n",
    "5. CSW and CKAN\\*\n",
    "\n",
    "\n",
    "\\* There are many examples on CSW in [the IOOS code lab] jupyter-book (https://ioos.github.io/ioos_code_lab/content/intro.html)."
   ]
  },
  {
   "cell_type": "markdown",
   "metadata": {
    "slideshow": {
     "slide_type": "slide"
    }
   },
   "source": [
    "## 1) ERDDAP\n",
    "\n",
    "### Learning objectives:\n",
    "\n",
    "- Explore an ERDDAP server with the python interface (erddapy);\n",
    "- Find a data for a time/region of interest;\n",
    "- Download the data with a familiar format and create some plots."
   ]
  },
  {
   "cell_type": "markdown",
   "metadata": {
    "slideshow": {
     "slide_type": "slide"
    }
   },
   "source": [
    "## What is ERDDAP?\n",
    "\n",
    "- Flexible outputs: .html table, ESRI .asc and .csv, .csvp, Google Earth .kml,\n",
    "  OPeNDAP binary, .mat, .nc, ODV .txt, .tsv, .json, and .xhtml\n",
    "- RESTful API to access the data\n",
    "- Standardize dates and time in the results\n",
    "- Server-side searching and slicing"
   ]
  },
  {
   "cell_type": "code",
   "execution_count": 2,
   "metadata": {
    "slideshow": {
     "slide_type": "slide"
    }
   },
   "outputs": [],
   "source": [
    "from erddapy import ERDDAP\n",
    "\n",
    "server = \"http://erddap.dataexplorer.oceanobservatories.org/erddap\"\n",
    "\n",
    "e = ERDDAP(server=server, protocol=\"tabledap\")"
   ]
  },
  {
   "cell_type": "markdown",
   "metadata": {
    "slideshow": {
     "slide_type": "slide"
    }
   },
   "source": [
    "### What services are available in the server?"
   ]
  },
  {
   "cell_type": "code",
   "execution_count": 3,
   "metadata": {
    "slideshow": {
     "slide_type": "fragment"
    }
   },
   "outputs": [],
   "source": [
    "import pandas as pd\n",
    "\n",
    "df = pd.read_csv(\n",
    "    e.get_search_url(\n",
    "        response=\"csv\",\n",
    "        search_for=\"all\",\n",
    "    )\n",
    ")"
   ]
  },
  {
   "cell_type": "code",
   "execution_count": 4,
   "metadata": {
    "slideshow": {
     "slide_type": "fragment"
    }
   },
   "outputs": [
    {
     "name": "stdout",
     "output_type": "stream",
     "text": [
      "We have 600 tabledap, 0 griddap, and 0 wms.\n"
     ]
    }
   ],
   "source": [
    "print(\n",
    "    f'We have {len(set(df[\"tabledap\"].dropna()))} '\n",
    "    f'tabledap, {len(set(df[\"griddap\"].dropna()))} '\n",
    "    f'griddap, and {len(set(df[\"wms\"].dropna()))} wms.'\n",
    ")"
   ]
  },
  {
   "cell_type": "markdown",
   "metadata": {
    "slideshow": {
     "slide_type": "slide"
    }
   },
   "source": [
    "### Let's query all the datasets that have the _standard_name_ of _sea_water_practical_salinity_."
   ]
  },
  {
   "cell_type": "code",
   "execution_count": 5,
   "metadata": {
    "slideshow": {
     "slide_type": "fragment"
    }
   },
   "outputs": [
    {
     "name": "stdout",
     "output_type": "stream",
     "text": [
      "Found 379 datasets\n"
     ]
    }
   ],
   "source": [
    "url = e.get_categorize_url(\n",
    "    categorize_by=\"standard_name\",\n",
    "    value=\"sea_water_practical_salinity\",\n",
    "    response=\"csv\",\n",
    ")\n",
    "\n",
    "df = pd.read_csv(url)\n",
    "\n",
    "dataset_ids = df.loc[\n",
    "    ~df[\"tabledap\"].isnull(), \"Dataset ID\"\n",
    "].tolist()\n",
    "\n",
    "dataset_ids_list = \"\\n\".join(dataset_ids)\n",
    "print(f\"Found {len(dataset_ids)} datasets\")"
   ]
  },
  {
   "cell_type": "markdown",
   "metadata": {
    "slideshow": {
     "slide_type": "slide"
    }
   },
   "source": [
    "### Let us narrow our search to deployments that within a lon/lat/time extent."
   ]
  },
  {
   "cell_type": "code",
   "execution_count": 6,
   "metadata": {
    "slideshow": {
     "slide_type": "fragment"
    }
   },
   "outputs": [],
   "source": [
    "from ipyleaflet import FullScreenControl, Map, Rectangle\n",
    "\n",
    "min_lon, max_lon = -72, -69\n",
    "min_lat, max_lat = 38, 41\n",
    "\n",
    "rectangle = Rectangle(bounds=((min_lat, min_lon), (max_lat, max_lon)))\n",
    "\n",
    "m = Map(\n",
    "    center=((min_lat + max_lat) / 2, (min_lon + max_lon) / 2),\n",
    "    zoom=6,\n",
    ")\n",
    "\n",
    "m.add_layer(rectangle)\n",
    "m.add_control(FullScreenControl())"
   ]
  },
  {
   "cell_type": "code",
   "execution_count": 7,
   "metadata": {
    "scrolled": true,
    "slideshow": {
     "slide_type": "slide"
    }
   },
   "outputs": [
    {
     "data": {
      "application/vnd.jupyter.widget-view+json": {
       "model_id": "205eb56e92244c26985045f128c3c339",
       "version_major": 2,
       "version_minor": 0
      },
      "text/plain": [
       "Map(center=[39.5, -70.5], controls=(ZoomControl(options=['position', 'zoom_in_text', 'zoom_in_title', 'zoom_ou…"
      ]
     },
     "metadata": {},
     "output_type": "display_data"
    }
   ],
   "source": [
    "m"
   ]
  },
  {
   "cell_type": "code",
   "execution_count": 8,
   "metadata": {
    "slideshow": {
     "slide_type": "fragment"
    }
   },
   "outputs": [],
   "source": [
    "kw = {\n",
    "    \"min_time\": \"2016-07-10T00:00:00Z\",\n",
    "    \"max_time\": \"2017-02-10T00:00:00Z\",\n",
    "    \"min_lon\": min_lon,\n",
    "    \"max_lon\": max_lon,\n",
    "    \"min_lat\": min_lat,\n",
    "    \"max_lat\": max_lat,\n",
    "    \"standard_name\": \"sea_water_practical_salinity\",\n",
    "}"
   ]
  },
  {
   "cell_type": "code",
   "execution_count": 9,
   "metadata": {
    "scrolled": true,
    "slideshow": {
     "slide_type": "slide"
    }
   },
   "outputs": [],
   "source": [
    "search_url = e.get_search_url(response=\"csv\", **kw)\n",
    "search = pd.read_csv(search_url)\n",
    "dataset_ids = search[\"Dataset ID\"].values\n",
    "\n",
    "dataset_ids_list = \"\\n\".join(dataset_ids)"
   ]
  },
  {
   "cell_type": "code",
   "execution_count": 10,
   "metadata": {
    "scrolled": true,
    "slideshow": {
     "slide_type": "slide"
    }
   },
   "outputs": [
    {
     "name": "stdout",
     "output_type": "stream",
     "text": [
      "Found 36 Datasets:\n",
      "ooi-cp02pmci-wfp01-04-flortk000\n",
      "ooi-cp02pmci-wfp01-03-ctdpfk000\n",
      "ooi-cp02pmci-wfp01-02-dofstk000\n",
      "ooi-cp02pmco-wfp01-04-flortk000\n",
      "ooi-cp02pmco-wfp01-03-ctdpfk000\n",
      "ooi-cp02pmco-wfp01-02-dofstk000\n",
      "ooi-cp01cnsm-rid27-02-flortd000\n",
      "ooi-cp01cnsm-rid27-03-ctdbpc000\n",
      "ooi-cp01cnsm-rid27-04-dostad000\n",
      "ooi-cp01cnsm-mfd37-03-ctdbpd000\n",
      "ooi-cp01cnsm-mfd37-04-dostad000\n",
      "ooi-cp01cnsm-sbd11-06-metbka000\n",
      "ooi-cp01cnsm-sbd12-06-metbka000\n",
      "ooi-cp01cnsm-sbd12-04-pco2aa000\n",
      "ooi-cp03issm-rid27-02-flortd000\n",
      "ooi-cp03issm-rid27-03-ctdbpc000\n",
      "ooi-cp03issm-rid27-04-dostad000\n",
      "ooi-cp03issm-mfd37-03-ctdbpd000\n",
      "ooi-cp03issm-mfd37-04-dostad000\n",
      "ooi-cp03issm-sbd11-06-metbka000\n",
      "ooi-cp03issm-sbd12-04-pco2aa000\n",
      "ooi-cp04ospm-wfp01-04-flortk000\n",
      "ooi-cp04ospm-wfp01-03-ctdpfk000\n",
      "ooi-cp04ospm-wfp01-02-dofstk000\n",
      "ooi-cp04ossm-rid27-02-flortd000\n",
      "ooi-cp04ossm-rid27-03-ctdbpc000\n",
      "ooi-cp04ossm-rid27-04-dostad000\n",
      "ooi-cp04ossm-mfd37-03-ctdbpe000\n",
      "ooi-cp04ossm-mfd37-04-dostad000\n",
      "ooi-cp04ossm-sbd11-06-metbka000\n",
      "ooi-cp02pmui-wfp01-04-flortk000\n",
      "ooi-cp02pmui-wfp01-03-ctdpfk000\n",
      "ooi-cp02pmui-wfp01-02-dofstk000\n",
      "ooi-cp02pmuo-wfp01-04-flortk000\n",
      "ooi-cp02pmuo-wfp01-03-ctdpfk000\n",
      "ooi-cp02pmuo-wfp01-02-dofstk000\n"
     ]
    }
   ],
   "source": [
    "print(f\"Found {len(dataset_ids)} Datasets:\\n{dataset_ids_list}\")"
   ]
  },
  {
   "cell_type": "code",
   "execution_count": 11,
   "metadata": {
    "slideshow": {
     "slide_type": "slide"
    }
   },
   "outputs": [
    {
     "name": "stdout",
     "output_type": "stream",
     "text": [
      "http://erddap.dataexplorer.oceanobservatories.org/erddap/tabledap/ooi-cp02pmci-wfp01-04-flortk000.html?z,latitude,longitude,sea_water_practical_salinity_profiler_depth_enabled,sea_water_temperature_profiler_depth_enabled,time\n"
     ]
    }
   ],
   "source": [
    "sal = \"sea_water_practical_salinity_profiler_depth_enabled\"\n",
    "temp = \"sea_water_temperature_profiler_depth_enabled\"\n",
    "\n",
    "e.dataset_id = dataset_ids[0]\n",
    "\n",
    "e.variables = [\n",
    "    \"z\",\n",
    "    \"latitude\",\n",
    "    \"longitude\",\n",
    "    sal,\n",
    "    temp,\n",
    "    \"time\",\n",
    "]\n",
    "\n",
    "url = e.get_download_url()\n",
    "print(url)"
   ]
  },
  {
   "cell_type": "code",
   "execution_count": 12,
   "metadata": {
    "scrolled": true,
    "slideshow": {
     "slide_type": "slide"
    }
   },
   "outputs": [
    {
     "data": {
      "text/html": [
       "<div>\n",
       "<style scoped>\n",
       "    .dataframe tbody tr th:only-of-type {\n",
       "        vertical-align: middle;\n",
       "    }\n",
       "\n",
       "    .dataframe tbody tr th {\n",
       "        vertical-align: top;\n",
       "    }\n",
       "\n",
       "    .dataframe thead th {\n",
       "        text-align: right;\n",
       "    }\n",
       "</style>\n",
       "<table border=\"1\" class=\"dataframe\">\n",
       "  <thead>\n",
       "    <tr style=\"text-align: right;\">\n",
       "      <th></th>\n",
       "      <th>z (m)</th>\n",
       "      <th>latitude (degrees_north)</th>\n",
       "      <th>longitude (degrees_east)</th>\n",
       "      <th>sea_water_practical_salinity_profiler_depth_enabled (1e-3)</th>\n",
       "      <th>sea_water_temperature_profiler_depth_enabled (degree_Celsius)</th>\n",
       "    </tr>\n",
       "    <tr>\n",
       "      <th>time (UTC)</th>\n",
       "      <th></th>\n",
       "      <th></th>\n",
       "      <th></th>\n",
       "      <th></th>\n",
       "      <th></th>\n",
       "    </tr>\n",
       "  </thead>\n",
       "  <tbody>\n",
       "    <tr>\n",
       "      <th>2014-04-17 01:02:00+00:00</th>\n",
       "      <td>-87.0</td>\n",
       "      <td>40.226983</td>\n",
       "      <td>-70.878183</td>\n",
       "      <td>33.479348</td>\n",
       "      <td>6.4195</td>\n",
       "    </tr>\n",
       "    <tr>\n",
       "      <th>2014-04-17 01:02:00+00:00</th>\n",
       "      <td>-86.0</td>\n",
       "      <td>40.226983</td>\n",
       "      <td>-70.878183</td>\n",
       "      <td>33.462495</td>\n",
       "      <td>6.4229</td>\n",
       "    </tr>\n",
       "    <tr>\n",
       "      <th>2014-04-17 01:02:00+00:00</th>\n",
       "      <td>-84.0</td>\n",
       "      <td>40.226983</td>\n",
       "      <td>-70.878183</td>\n",
       "      <td>33.445957</td>\n",
       "      <td>6.3958</td>\n",
       "    </tr>\n",
       "    <tr>\n",
       "      <th>2014-04-17 01:02:00+00:00</th>\n",
       "      <td>-83.0</td>\n",
       "      <td>40.226983</td>\n",
       "      <td>-70.878183</td>\n",
       "      <td>33.413812</td>\n",
       "      <td>6.3296</td>\n",
       "    </tr>\n",
       "    <tr>\n",
       "      <th>2014-04-17 01:02:00+00:00</th>\n",
       "      <td>-82.0</td>\n",
       "      <td>40.226983</td>\n",
       "      <td>-70.878183</td>\n",
       "      <td>33.371549</td>\n",
       "      <td>6.0903</td>\n",
       "    </tr>\n",
       "  </tbody>\n",
       "</table>\n",
       "</div>"
      ],
      "text/plain": [
       "                           z (m)  latitude (degrees_north)  \\\n",
       "time (UTC)                                                   \n",
       "2014-04-17 01:02:00+00:00  -87.0                 40.226983   \n",
       "2014-04-17 01:02:00+00:00  -86.0                 40.226983   \n",
       "2014-04-17 01:02:00+00:00  -84.0                 40.226983   \n",
       "2014-04-17 01:02:00+00:00  -83.0                 40.226983   \n",
       "2014-04-17 01:02:00+00:00  -82.0                 40.226983   \n",
       "\n",
       "                           longitude (degrees_east)  \\\n",
       "time (UTC)                                            \n",
       "2014-04-17 01:02:00+00:00                -70.878183   \n",
       "2014-04-17 01:02:00+00:00                -70.878183   \n",
       "2014-04-17 01:02:00+00:00                -70.878183   \n",
       "2014-04-17 01:02:00+00:00                -70.878183   \n",
       "2014-04-17 01:02:00+00:00                -70.878183   \n",
       "\n",
       "                           sea_water_practical_salinity_profiler_depth_enabled (1e-3)  \\\n",
       "time (UTC)                                                                              \n",
       "2014-04-17 01:02:00+00:00                                          33.479348            \n",
       "2014-04-17 01:02:00+00:00                                          33.462495            \n",
       "2014-04-17 01:02:00+00:00                                          33.445957            \n",
       "2014-04-17 01:02:00+00:00                                          33.413812            \n",
       "2014-04-17 01:02:00+00:00                                          33.371549            \n",
       "\n",
       "                           sea_water_temperature_profiler_depth_enabled (degree_Celsius)  \n",
       "time (UTC)                                                                                \n",
       "2014-04-17 01:02:00+00:00                                             6.4195              \n",
       "2014-04-17 01:02:00+00:00                                             6.4229              \n",
       "2014-04-17 01:02:00+00:00                                             6.3958              \n",
       "2014-04-17 01:02:00+00:00                                             6.3296              \n",
       "2014-04-17 01:02:00+00:00                                             6.0903              "
      ]
     },
     "execution_count": 12,
     "metadata": {},
     "output_type": "execute_result"
    }
   ],
   "source": [
    "import pandas as pd\n",
    "\n",
    "df = e.to_pandas(index_col=\"time (UTC)\", parse_dates=True).dropna()\n",
    "\n",
    "df.head()"
   ]
  },
  {
   "cell_type": "markdown",
   "metadata": {
    "slideshow": {
     "slide_type": "slide"
    }
   },
   "source": [
    "Exercise: experiment with the `e.to_xarray()` method. Think about why/where use\n",
    "one or the other?\n"
   ]
  },
  {
   "cell_type": "code",
   "execution_count": 13,
   "metadata": {
    "slideshow": {
     "slide_type": "slide"
    }
   },
   "outputs": [
    {
     "data": {
      "image/png": "[encoded data removed]",
      "text/plain": [
       "<Figure size 1300x375 with 1 Axes>"
      ]
     },
     "metadata": {},
     "output_type": "display_data"
    }
   ],
   "source": [
    "import matplotlib.pyplot as plt\n",
    "\n",
    "\n",
    "subset = df.loc[df[\"z (m)\"] == df[\"z (m)\"].min()]\n",
    "\n",
    "fig, ax = plt.subplots(figsize=(13, 3.75))\n",
    "subset[f\"{sal} (1e-3)\"][\"2016\"].dropna().plot(ax=ax);"
   ]
  },
  {
   "cell_type": "code",
   "execution_count": 14,
   "metadata": {
    "slideshow": {
     "slide_type": "skip"
    }
   },
   "outputs": [],
   "source": [
    "import gsw\n",
    "import numpy as np\n",
    "\n",
    "\n",
    "def plot_ts():\n",
    "    fig, ax = plt.subplots(figsize=(5, 5))\n",
    "\n",
    "    s = np.linspace(0, 42, 100)\n",
    "    t = np.linspace(-2, 40, 100)\n",
    "\n",
    "    s, t = np.meshgrid(s, t)\n",
    "    sigma = gsw.sigma0(s, t)\n",
    "\n",
    "    cnt = np.arange(-7, 40, 5)\n",
    "    cs = ax.contour(s, t, sigma, colors=\"gray\", levels=cnt)\n",
    "    ax.clabel(cs, fontsize=9, inline=1, fmt=\"%2i\")\n",
    "\n",
    "    ax.set_xlabel(\"Salinity [g kg$^{-1}$]\")\n",
    "    ax.set_ylabel(\"Temperature [$^{\\circ}$C]\")\n",
    "    ax.scatter(df[f\"{sal} (1e-3)\"], df[f\"{temp} (degree_Celsius)\"], s=10, alpha=0.25)\n",
    "\n",
    "    ax.grid(True)\n",
    "    ax.axis([20, 40, 4, 26])\n",
    "    return fig, ax"
   ]
  },
  {
   "cell_type": "code",
   "execution_count": 15,
   "metadata": {
    "slideshow": {
     "slide_type": "slide"
    }
   },
   "outputs": [
    {
     "data": {
      "image/png": "[encoded data removed]",
      "text/plain": [
       "<Figure size 500x500 with 1 Axes>"
      ]
     },
     "metadata": {},
     "output_type": "display_data"
    }
   ],
   "source": [
    "fig, ax = plot_ts();"
   ]
  },
  {
   "cell_type": "code",
   "execution_count": 16,
   "metadata": {
    "scrolled": false,
    "slideshow": {
     "slide_type": "slide"
    }
   },
   "outputs": [
    {
     "name": "stdout",
     "output_type": "stream",
     "text": [
      "http://erddap.dataexplorer.oceanobservatories.org/erddap/tabledap/ooi-cp02pmci-wfp01-04-flortk000.mat?z,latitude,longitude,sea_water_practical_salinity_profiler_depth_enabled,sea_water_temperature_profiler_depth_enabled,time\n",
      "\n",
      "http://erddap.dataexplorer.oceanobservatories.org/erddap/tabledap/ooi-cp02pmci-wfp01-04-flortk000.json?z,latitude,longitude,sea_water_practical_salinity_profiler_depth_enabled,sea_water_temperature_profiler_depth_enabled,time\n",
      "\n",
      "http://erddap.dataexplorer.oceanobservatories.org/erddap/tabledap/ooi-cp02pmci-wfp01-04-flortk000.ncCF?z,latitude,longitude,sea_water_practical_salinity_profiler_depth_enabled,sea_water_temperature_profiler_depth_enabled,time\n",
      "\n",
      "http://erddap.dataexplorer.oceanobservatories.org/erddap/tabledap/ooi-cp02pmci-wfp01-04-flortk000.ncCFHeader?z,latitude,longitude,sea_water_practical_salinity_profiler_depth_enabled,sea_water_temperature_profiler_depth_enabled,time\n",
      "\n"
     ]
    }
   ],
   "source": [
    "responses = [\"mat\", \"json\", \"ncCF\", \"ncCFHeader\"]\n",
    "\n",
    "for response in responses:\n",
    "    print(f\"{e.get_download_url(response=response)}\\n\")"
   ]
  },
  {
   "cell_type": "markdown",
   "metadata": {
    "slideshow": {
     "slide_type": "slide"
    }
   },
   "source": [
    "Exercise: explore the web interface for the OOI server URL:\n",
    "\n",
    "http://erddap.dataexplorer.oceanobservatories.org/erddap/index.html\n",
    "\n",
    "or the IOOS glider dac:\n",
    "\n",
    "https://gliders.ioos.us/erddap\n",
    "\n",
    "and find a dataset of interested, download a format that you are familiar with\n",
    "and plot it (using the web interface or the Python, your choice).\n"
   ]
  },
  {
   "cell_type": "markdown",
   "metadata": {
    "slideshow": {
     "slide_type": "slide"
    }
   },
   "source": [
    "## 2) OPeNDAP\n",
    "\n",
    "### Learning objectives:\n",
    "\n",
    "- Open ocean model data from a THREDDS server via OPeNDAP using `xarray`;\n",
    "- Discuss the differences with an `erddapy` request;\n",
    "- Plot it using `xarray` interface."
   ]
  },
  {
   "cell_type": "code",
   "execution_count": 17,
   "metadata": {
    "scrolled": true,
    "slideshow": {
     "slide_type": "slide"
    }
   },
   "outputs": [
    {
     "data": {
      "text/plain": [
       "\n",
       "- CF Roles:   grid_topology: ['grid']\n",
       "\n",
       "Coordinates:\n",
       "- CF Axes: * Z: ['s_rho', 's_w']\n",
       "           * T: ['ocean_time', 'time']\n",
       "             X, Y: n/a\n",
       "\n",
       "- CF Coordinates:   longitude: ['lon_psi', 'lon_rho', 'lon_u', 'lon_v']\n",
       "                    latitude: ['lat_psi', 'lat_rho', 'lat_u', 'lat_v']\n",
       "                  * vertical: ['s_rho', 's_w']\n",
       "                  * time: ['ocean_time', 'time']\n",
       "\n",
       "- Cell Measures:   area, volume: n/a\n",
       "\n",
       "- Standard Names:   forecast_reference_time: ['time_run']\n",
       "                    latitude: ['lat_psi', 'lat_rho', 'lat_u', 'lat_v']\n",
       "                    longitude: ['lon_psi', 'lon_rho', 'lon_u', 'lon_v']\n",
       "                  * ocean_s_coordinate_g2: ['s_rho', 's_w']\n",
       "                  * time: ['time']\n",
       "\n",
       "- Bounds:   n/a\n",
       "\n",
       "Data Variables:\n",
       "- Cell Measures:   area, volume: n/a\n",
       "\n",
       "- Standard Names:   barotropic_eastward_sea_water_velocity: ['ubar_eastward']\n",
       "                    barotropic_northward_sea_water_velocity: ['vbar_northward']\n",
       "                    eastward_sea_water_velocity: ['u_eastward']\n",
       "                    forecast_period: ['time_offset']\n",
       "                    northward_sea_water_velocity: ['v_northward']\n",
       "                    sea_floor_depth_below_sea_surface: ['h']\n",
       "                    sea_surface_elevation_anomaly: ['zeta']\n",
       "                    sea_water_potential_temperature: ['temp']\n",
       "                    sea_water_practical_salinity: ['salt']\n",
       "                    sea_water_x_velocity: ['u']\n",
       "                    sea_water_y_velocity: ['v']\n",
       "                    upward_sea_water_velocity: ['w']\n",
       "\n",
       "- Bounds:   n/a"
      ]
     },
     "execution_count": 17,
     "metadata": {},
     "output_type": "execute_result"
    }
   ],
   "source": [
    "import cf_xarray\n",
    "import xarray as xr\n",
    "\n",
    "url = (\n",
    "    \"http://tds.marine.rutgers.edu/thredds/dodsC/roms/doppio/\"\n",
    "    \"2017_da/avg/Averages_Best\"\n",
    ")\n",
    "ds = xr.open_dataset(url)\n",
    "ds.cf"
   ]
  },
  {
   "cell_type": "code",
   "execution_count": 18,
   "metadata": {
    "slideshow": {
     "slide_type": "slide"
    }
   },
   "outputs": [],
   "source": [
    "variable = \"sea_water_potential_temperature\"\n",
    "time = \"2022-08-10\"\n",
    "surface = -1\n",
    "\n",
    "selection = ds.cf[variable].sel(\n",
    "    time=\"2022-08-10\"\n",
    ").isel(s_rho=surface)"
   ]
  },
  {
   "cell_type": "code",
   "execution_count": 19,
   "metadata": {
    "slideshow": {
     "slide_type": "slide"
    }
   },
   "outputs": [
    {
     "data": {
      "image/png": "[encoded data removed]",
      "text/plain": [
       "<Figure size 600x600 with 2 Axes>"
      ]
     },
     "metadata": {},
     "output_type": "display_data"
    }
   ],
   "source": [
    "import cartopy.crs as ccrs\n",
    "import matplotlib.pyplot as plt\n",
    "\n",
    "fig, ax = plt.subplots(\n",
    "    figsize=(6, 6), subplot_kw={\"projection\": ccrs.PlateCarree()},\n",
    ")\n",
    "\n",
    "selection.plot(\n",
    "    ax=ax,\n",
    "    x=\"lon_rho\",\n",
    "    y=\"lat_rho\",\n",
    ")\n",
    "ax.coastlines();"
   ]
  },
  {
   "cell_type": "markdown",
   "metadata": {
    "slideshow": {
     "slide_type": "slide"
    }
   },
   "source": [
    "## 3) ~~SOS~~\n",
    "\n",
    "### Learning objectives:\n",
    "\n",
    "- Use searvey to obtain CO-OPS data"
   ]
  },
  {
   "cell_type": "code",
   "execution_count": 20,
   "metadata": {
    "scrolled": true,
    "slideshow": {
     "slide_type": "slide"
    }
   },
   "outputs": [
    {
     "data": {
      "text/html": [
       "<div>\n",
       "<style scoped>\n",
       "    .dataframe tbody tr th:only-of-type {\n",
       "        vertical-align: middle;\n",
       "    }\n",
       "\n",
       "    .dataframe tbody tr th {\n",
       "        vertical-align: top;\n",
       "    }\n",
       "\n",
       "    .dataframe thead th {\n",
       "        text-align: right;\n",
       "    }\n",
       "</style>\n",
       "<table border=\"1\" class=\"dataframe\">\n",
       "  <thead>\n",
       "    <tr style=\"text-align: right;\">\n",
       "      <th></th>\n",
       "      <th>nws_id</th>\n",
       "      <th>name</th>\n",
       "      <th>state</th>\n",
       "      <th>status</th>\n",
       "      <th>removed</th>\n",
       "      <th>geometry</th>\n",
       "    </tr>\n",
       "    <tr>\n",
       "      <th>nos_id</th>\n",
       "      <th></th>\n",
       "      <th></th>\n",
       "      <th></th>\n",
       "      <th></th>\n",
       "      <th></th>\n",
       "      <th></th>\n",
       "    </tr>\n",
       "  </thead>\n",
       "  <tbody>\n",
       "    <tr>\n",
       "      <th>8726679</th>\n",
       "      <td>TSHF1</td>\n",
       "      <td>East Bay Causeway</td>\n",
       "      <td>FL</td>\n",
       "      <td>active</td>\n",
       "      <td>&lt;NA&gt;</td>\n",
       "      <td>POINT (-82.42575 27.92889)</td>\n",
       "    </tr>\n",
       "    <tr>\n",
       "      <th>8726694</th>\n",
       "      <td>TPAF1</td>\n",
       "      <td>TPA Cruise Terminal 2</td>\n",
       "      <td>FL</td>\n",
       "      <td>active</td>\n",
       "      <td>&lt;NA&gt;</td>\n",
       "      <td>POINT (-82.43330 27.93330)</td>\n",
       "    </tr>\n",
       "    <tr>\n",
       "      <th>8720233</th>\n",
       "      <td>BLIF1</td>\n",
       "      <td>Blount Island Command</td>\n",
       "      <td>FL</td>\n",
       "      <td>active</td>\n",
       "      <td>2017-01-16 14:35:00,2017-01-16 14:30:00,2013-1...</td>\n",
       "      <td>POINT (-81.52253 30.39258)</td>\n",
       "    </tr>\n",
       "    <tr>\n",
       "      <th>8720228</th>\n",
       "      <td>LTJF1</td>\n",
       "      <td>Little Jetties Visibility</td>\n",
       "      <td>FL</td>\n",
       "      <td>active</td>\n",
       "      <td>2017-02-21 18:00:00,2014-02-06 00:00:00</td>\n",
       "      <td>POINT (-81.44603 30.37936)</td>\n",
       "    </tr>\n",
       "    <tr>\n",
       "      <th>8726520</th>\n",
       "      <td>SAPF1</td>\n",
       "      <td>St. Petersburg, Tampa Bay</td>\n",
       "      <td>FL</td>\n",
       "      <td>active</td>\n",
       "      <td>2017-06-30 00:00:00,2017-01-17 00:00:00,2016-0...</td>\n",
       "      <td>POINT (-82.62689 27.76061)</td>\n",
       "    </tr>\n",
       "    <tr>\n",
       "      <th>8726724</th>\n",
       "      <td>CWBF1</td>\n",
       "      <td>Clearwater Beach</td>\n",
       "      <td>FL</td>\n",
       "      <td>active</td>\n",
       "      <td>2019-03-13 17:42:00,2018-01-17 16:18:00,2017-0...</td>\n",
       "      <td>POINT (-82.83170 27.97830)</td>\n",
       "    </tr>\n",
       "    <tr>\n",
       "      <th>8727520</th>\n",
       "      <td>CKYF1</td>\n",
       "      <td>Cedar Key</td>\n",
       "      <td>FL</td>\n",
       "      <td>active</td>\n",
       "      <td>2019-12-14 20:58:00,2019-12-12 00:00:00,2017-0...</td>\n",
       "      <td>POINT (-83.03170 29.13500)</td>\n",
       "    </tr>\n",
       "    <tr>\n",
       "      <th>8728690</th>\n",
       "      <td>APCF1</td>\n",
       "      <td>Apalachicola</td>\n",
       "      <td>FL</td>\n",
       "      <td>active</td>\n",
       "      <td>2019-12-17 00:00:00,2019-12-10 16:15:00,2018-1...</td>\n",
       "      <td>POINT (-84.98170 29.72670)</td>\n",
       "    </tr>\n",
       "    <tr>\n",
       "      <th>8720030</th>\n",
       "      <td>FRDF1</td>\n",
       "      <td>Fernandina Beach</td>\n",
       "      <td>FL</td>\n",
       "      <td>active</td>\n",
       "      <td>2020-01-18 00:00:00,2017-01-12 00:00:00,2016-0...</td>\n",
       "      <td>POINT (-81.46500 30.67170)</td>\n",
       "    </tr>\n",
       "    <tr>\n",
       "      <th>8726384</th>\n",
       "      <td>PMAF1</td>\n",
       "      <td>Port Manatee</td>\n",
       "      <td>FL</td>\n",
       "      <td>active</td>\n",
       "      <td>2020-01-18 14:30:00,2019-03-11 00:00:00,2018-0...</td>\n",
       "      <td>POINT (-82.56250 27.63833)</td>\n",
       "    </tr>\n",
       "    <tr>\n",
       "      <th>8725520</th>\n",
       "      <td>FMRF1</td>\n",
       "      <td>Fort Myers</td>\n",
       "      <td>FL</td>\n",
       "      <td>active</td>\n",
       "      <td>2020-01-22 14:00:00,2018-06-30 13:30:00,2018-0...</td>\n",
       "      <td>POINT (-81.87120 26.64770)</td>\n",
       "    </tr>\n",
       "    <tr>\n",
       "      <th>8726671</th>\n",
       "      <td>SKCF1</td>\n",
       "      <td>Sparkman Channel Entrance</td>\n",
       "      <td>FL</td>\n",
       "      <td>active</td>\n",
       "      <td>2020-02-07 00:00:00</td>\n",
       "      <td>POINT (-82.44519 27.92053)</td>\n",
       "    </tr>\n",
       "    <tr>\n",
       "      <th>8726524</th>\n",
       "      <td>GCTF1</td>\n",
       "      <td>Gadsden Cut, Tampa Bay</td>\n",
       "      <td>FL</td>\n",
       "      <td>active</td>\n",
       "      <td>2020-03-11 00:00:00,2018-04-20 00:00:00</td>\n",
       "      <td>POINT (-82.51686 27.77353)</td>\n",
       "    </tr>\n",
       "    <tr>\n",
       "      <th>8726674</th>\n",
       "      <td>EBEF1</td>\n",
       "      <td>East Bay</td>\n",
       "      <td>FL</td>\n",
       "      <td>active</td>\n",
       "      <td>2020-05-20 00:00:00</td>\n",
       "      <td>POINT (-82.42140 27.92310)</td>\n",
       "    </tr>\n",
       "    <tr>\n",
       "      <th>8720215</th>\n",
       "      <td>NFDF1</td>\n",
       "      <td>Navy Fuel Depot</td>\n",
       "      <td>FL</td>\n",
       "      <td>active</td>\n",
       "      <td>2021-01-19 16:00:00,2020-08-12 00:00:00,2017-0...</td>\n",
       "      <td>POINT (-81.62670 30.40000)</td>\n",
       "    </tr>\n",
       "    <tr>\n",
       "      <th>8729108</th>\n",
       "      <td>PACF1</td>\n",
       "      <td>Panama City</td>\n",
       "      <td>FL</td>\n",
       "      <td>active</td>\n",
       "      <td>2021-04-21 00:00:00,2019-04-09 00:00:00,2019-0...</td>\n",
       "      <td>POINT (-85.66694 30.15228)</td>\n",
       "    </tr>\n",
       "    <tr>\n",
       "      <th>8661070</th>\n",
       "      <td>MROS1</td>\n",
       "      <td>Springmaid Pier</td>\n",
       "      <td>SC</td>\n",
       "      <td>active</td>\n",
       "      <td>2021-06-11 00:00:00,2016-12-14 00:01:00,2016-1...</td>\n",
       "      <td>POINT (-78.91831 33.65500)</td>\n",
       "    </tr>\n",
       "    <tr>\n",
       "      <th>8729210</th>\n",
       "      <td>PCBF1</td>\n",
       "      <td>Panama City Beach</td>\n",
       "      <td>FL</td>\n",
       "      <td>active</td>\n",
       "      <td>2021-07-22 11:00:00,2019-12-08 17:53:00,2019-1...</td>\n",
       "      <td>POINT (-85.87830 30.21330)</td>\n",
       "    </tr>\n",
       "    <tr>\n",
       "      <th>8670870</th>\n",
       "      <td>FPKG1</td>\n",
       "      <td>Fort Pulaski</td>\n",
       "      <td>GA</td>\n",
       "      <td>active</td>\n",
       "      <td>2021-08-25 11:00:00,2021-08-25 00:00:00,2021-0...</td>\n",
       "      <td>POINT (-80.90170 32.03330)</td>\n",
       "    </tr>\n",
       "    <tr>\n",
       "      <th>8722956</th>\n",
       "      <td>PEGF1</td>\n",
       "      <td>South Port Everglades</td>\n",
       "      <td>FL</td>\n",
       "      <td>active</td>\n",
       "      <td>2021-09-08 11:36:00,2019-02-11 00:00:00,2018-0...</td>\n",
       "      <td>POINT (-80.11670 26.08170)</td>\n",
       "    </tr>\n",
       "    <tr>\n",
       "      <th>8720245</th>\n",
       "      <td>JXUF1</td>\n",
       "      <td>Jacksonville University</td>\n",
       "      <td>FL</td>\n",
       "      <td>active</td>\n",
       "      <td>2021-09-24 12:30:00,2020-09-13 15:00:00,2019-0...</td>\n",
       "      <td>POINT (-81.61175 30.35408)</td>\n",
       "    </tr>\n",
       "    <tr>\n",
       "      <th>8658120</th>\n",
       "      <td>WLON7</td>\n",
       "      <td>Wilmington</td>\n",
       "      <td>NC</td>\n",
       "      <td>active</td>\n",
       "      <td>2021-10-10 13:00:00,2021-10-10 08:00:00,2019-0...</td>\n",
       "      <td>POINT (-77.95361 34.22750)</td>\n",
       "    </tr>\n",
       "    <tr>\n",
       "      <th>8658163</th>\n",
       "      <td>JMPN7</td>\n",
       "      <td>Wrightsville Beach</td>\n",
       "      <td>NC</td>\n",
       "      <td>active</td>\n",
       "      <td>2021-10-11 13:00:00,2021-10-10 10:00:00,2020-0...</td>\n",
       "      <td>POINT (-77.78669 34.21331)</td>\n",
       "    </tr>\n",
       "    <tr>\n",
       "      <th>8652587</th>\n",
       "      <td>ORIN7</td>\n",
       "      <td>Oregon Inlet Marina</td>\n",
       "      <td>NC</td>\n",
       "      <td>active</td>\n",
       "      <td>2021-10-16 00:00:00,2021-10-14 01:00:00,2021-1...</td>\n",
       "      <td>POINT (-75.54806 35.79500)</td>\n",
       "    </tr>\n",
       "    <tr>\n",
       "      <th>8654467</th>\n",
       "      <td>HCGN7</td>\n",
       "      <td>USCG Station Hatteras</td>\n",
       "      <td>NC</td>\n",
       "      <td>active</td>\n",
       "      <td>2021-10-20 00:00:00,2019-08-08 14:30:00,2019-0...</td>\n",
       "      <td>POINT (-75.70417 35.20864)</td>\n",
       "    </tr>\n",
       "    <tr>\n",
       "      <th>8665530</th>\n",
       "      <td>CHTS1</td>\n",
       "      <td>Charleston</td>\n",
       "      <td>SC</td>\n",
       "      <td>active</td>\n",
       "      <td>2021-12-11 16:30:00,2018-12-03 00:00:00,2018-1...</td>\n",
       "      <td>POINT (-79.92500 32.78170)</td>\n",
       "    </tr>\n",
       "    <tr>\n",
       "      <th>8656483</th>\n",
       "      <td>BFTN7</td>\n",
       "      <td>Beaufort, Duke Marine Lab</td>\n",
       "      <td>NC</td>\n",
       "      <td>active</td>\n",
       "      <td>2021-12-15 11:00:00,2021-12-10 11:00:00,2021-1...</td>\n",
       "      <td>POINT (-76.67000 34.72000)</td>\n",
       "    </tr>\n",
       "    <tr>\n",
       "      <th>8651370</th>\n",
       "      <td>DUKN7</td>\n",
       "      <td>Duck</td>\n",
       "      <td>NC</td>\n",
       "      <td>active</td>\n",
       "      <td>2022-01-19 11:00:00,2021-10-18 00:00:00,2021-1...</td>\n",
       "      <td>POINT (-75.74670 36.18330)</td>\n",
       "    </tr>\n",
       "    <tr>\n",
       "      <th>8725110</th>\n",
       "      <td>NPSF1</td>\n",
       "      <td>Naples, Gulf of Mexico</td>\n",
       "      <td>FL</td>\n",
       "      <td>active</td>\n",
       "      <td>2022-01-23 12:00:00,2022-01-23 00:00:00,2022-0...</td>\n",
       "      <td>POINT (-81.80747 26.13167)</td>\n",
       "    </tr>\n",
       "    <tr>\n",
       "      <th>8723970</th>\n",
       "      <td>VCAF1</td>\n",
       "      <td>Vaca Key, Florida Bay</td>\n",
       "      <td>FL</td>\n",
       "      <td>active</td>\n",
       "      <td>2022-01-26 10:00:00,2018-06-29 12:00:00,2018-0...</td>\n",
       "      <td>POINT (-81.10650 24.71100)</td>\n",
       "    </tr>\n",
       "    <tr>\n",
       "      <th>8721604</th>\n",
       "      <td>TRDF1</td>\n",
       "      <td>Trident Pier, Port Canaveral</td>\n",
       "      <td>FL</td>\n",
       "      <td>active</td>\n",
       "      <td>2022-01-28 17:00:00,2021-09-11 14:00:00,2021-0...</td>\n",
       "      <td>POINT (-80.59310 28.41580)</td>\n",
       "    </tr>\n",
       "    <tr>\n",
       "      <th>8722670</th>\n",
       "      <td>LKWF1</td>\n",
       "      <td>Lake Worth Pier, Atlantic Ocean</td>\n",
       "      <td>FL</td>\n",
       "      <td>active</td>\n",
       "      <td>2022-01-29 14:00:00,2022-01-29 13:00:00,2022-0...</td>\n",
       "      <td>POINT (-80.03417 26.61278)</td>\n",
       "    </tr>\n",
       "    <tr>\n",
       "      <th>8724580</th>\n",
       "      <td>KYWF1</td>\n",
       "      <td>Key West</td>\n",
       "      <td>FL</td>\n",
       "      <td>active</td>\n",
       "      <td>2022-01-31 00:00:00,2020-05-08 09:30:00,2018-0...</td>\n",
       "      <td>POINT (-81.80806 24.55083)</td>\n",
       "    </tr>\n",
       "    <tr>\n",
       "      <th>8720226</th>\n",
       "      <td>MSBF1</td>\n",
       "      <td>Southbank Riverwalk, St Johns River</td>\n",
       "      <td>FL</td>\n",
       "      <td>active</td>\n",
       "      <td>2022-02-02 14:00:00,2021-01-16 17:57:00,2020-0...</td>\n",
       "      <td>POINT (-81.65830 30.32000)</td>\n",
       "    </tr>\n",
       "    <tr>\n",
       "      <th>8723214</th>\n",
       "      <td>VAKF1</td>\n",
       "      <td>Virginia Key, Biscayne Bay</td>\n",
       "      <td>FL</td>\n",
       "      <td>active</td>\n",
       "      <td>2022-02-04 00:00:00,2022-02-03 16:00:00,2021-0...</td>\n",
       "      <td>POINT (-80.16180 25.73140)</td>\n",
       "    </tr>\n",
       "    <tr>\n",
       "      <th>8720357</th>\n",
       "      <td>BKBF1</td>\n",
       "      <td>I-295 Buckman Bridge</td>\n",
       "      <td>FL</td>\n",
       "      <td>active</td>\n",
       "      <td>2022-02-04 17:00:00,2021-02-20 14:45:00,2021-0...</td>\n",
       "      <td>POINT (-81.68889 30.19242)</td>\n",
       "    </tr>\n",
       "    <tr>\n",
       "      <th>8720219</th>\n",
       "      <td>DMSF1</td>\n",
       "      <td>Dames Point</td>\n",
       "      <td>FL</td>\n",
       "      <td>active</td>\n",
       "      <td>2022-03-14 15:37:00,2022-01-26 00:00:00,2021-0...</td>\n",
       "      <td>POINT (-81.55830 30.38670)</td>\n",
       "    </tr>\n",
       "    <tr>\n",
       "      <th>8720218</th>\n",
       "      <td>MYPF1</td>\n",
       "      <td>Mayport (Bar Pilots Dock)</td>\n",
       "      <td>FL</td>\n",
       "      <td>active</td>\n",
       "      <td>2022-03-19 18:16:00,2022-03-19 14:00:00,2021-0...</td>\n",
       "      <td>POINT (-81.42789 30.39817)</td>\n",
       "    </tr>\n",
       "    <tr>\n",
       "      <th>8729840</th>\n",
       "      <td>PCLF1</td>\n",
       "      <td>Pensacola</td>\n",
       "      <td>FL</td>\n",
       "      <td>active</td>\n",
       "      <td>2022-04-01 10:00:00,2022-04-01 00:00:00,2020-0...</td>\n",
       "      <td>POINT (-87.21119 30.40439)</td>\n",
       "    </tr>\n",
       "    <tr>\n",
       "      <th>8726412</th>\n",
       "      <td>MTBF1</td>\n",
       "      <td>Middle Tampa Bay</td>\n",
       "      <td>FL</td>\n",
       "      <td>active</td>\n",
       "      <td>2022-04-27 00:00:00,2013-10-03 00:00:00,2013-0...</td>\n",
       "      <td>POINT (-82.59953 27.66175)</td>\n",
       "    </tr>\n",
       "    <tr>\n",
       "      <th>8726607</th>\n",
       "      <td>OPTF1</td>\n",
       "      <td>Old Port Tampa</td>\n",
       "      <td>FL</td>\n",
       "      <td>active</td>\n",
       "      <td>2022-05-18 14:00:00,2020-01-14 00:00:00,2019-0...</td>\n",
       "      <td>POINT (-82.55280 27.85780)</td>\n",
       "    </tr>\n",
       "    <tr>\n",
       "      <th>8720242</th>\n",
       "      <td>LNBF1</td>\n",
       "      <td>Long Branch</td>\n",
       "      <td>FL</td>\n",
       "      <td>discontinued</td>\n",
       "      <td>2004-04-07 23:59:00,2004-04-07 00:00:00,1999-0...</td>\n",
       "      <td>POINT (-81.62000 30.36000)</td>\n",
       "    </tr>\n",
       "    <tr>\n",
       "      <th>8664941</th>\n",
       "      <td>SCIS1</td>\n",
       "      <td>South Capers Island</td>\n",
       "      <td>SC</td>\n",
       "      <td>discontinued</td>\n",
       "      <td>2008-03-09 23:59:00,2008-03-09 00:00:00,2005-0...</td>\n",
       "      <td>POINT (-79.70670 32.85670)</td>\n",
       "    </tr>\n",
       "    <tr>\n",
       "      <th>8668498</th>\n",
       "      <td>FRPS1</td>\n",
       "      <td>Fripps Inlet</td>\n",
       "      <td>SC</td>\n",
       "      <td>discontinued</td>\n",
       "      <td>2008-03-13 23:59:00,2008-03-13 00:00:00,2008-0...</td>\n",
       "      <td>POINT (-80.46500 32.34000)</td>\n",
       "    </tr>\n",
       "    <tr>\n",
       "      <th>8659897</th>\n",
       "      <td>SNSN7</td>\n",
       "      <td>Sunset Beach</td>\n",
       "      <td>NC</td>\n",
       "      <td>discontinued</td>\n",
       "      <td>2008-03-16 23:59:00,2008-03-16 00:00:00,2007-0...</td>\n",
       "      <td>POINT (-78.50670 33.86500)</td>\n",
       "    </tr>\n",
       "    <tr>\n",
       "      <th>8720767</th>\n",
       "      <td>BUFF1</td>\n",
       "      <td>Buffalo Bluff, St Johns River</td>\n",
       "      <td>FL</td>\n",
       "      <td>discontinued</td>\n",
       "      <td>2008-08-18 23:59:00,2008-08-18 00:00:00</td>\n",
       "      <td>POINT (-81.68170 29.59500)</td>\n",
       "    </tr>\n",
       "    <tr>\n",
       "      <th>8720774</th>\n",
       "      <td>PLQF1</td>\n",
       "      <td>Palatka, St Johns River</td>\n",
       "      <td>FL</td>\n",
       "      <td>discontinued</td>\n",
       "      <td>2008-08-18 23:59:00,2008-08-18 00:00:00,1995-1...</td>\n",
       "      <td>POINT (-81.63170 29.64330)</td>\n",
       "    </tr>\n",
       "    <tr>\n",
       "      <th>8720145</th>\n",
       "      <td>EDSF1</td>\n",
       "      <td>Edwards Creek</td>\n",
       "      <td>FL</td>\n",
       "      <td>discontinued</td>\n",
       "      <td>2011-08-26 14:05:00,2011-02-16 17:32:00,2010-0...</td>\n",
       "      <td>POINT (-81.54170 30.50170)</td>\n",
       "    </tr>\n",
       "    <tr>\n",
       "      <th>8726413</th>\n",
       "      <td>CCUF1</td>\n",
       "      <td>C-Cut</td>\n",
       "      <td>FL</td>\n",
       "      <td>discontinued</td>\n",
       "      <td>2013-10-10 23:59:00,2013-10-10 00:00:00</td>\n",
       "      <td>POINT (-82.61830 27.66330)</td>\n",
       "    </tr>\n",
       "    <tr>\n",
       "      <th>8726669</th>\n",
       "      <td>ERTF1</td>\n",
       "      <td>Berth 223</td>\n",
       "      <td>FL</td>\n",
       "      <td>discontinued</td>\n",
       "      <td>2016-04-30 23:59:00,2016-04-30 23:58:00</td>\n",
       "      <td>POINT (-82.44380 27.91720)</td>\n",
       "    </tr>\n",
       "    <tr>\n",
       "      <th>8726673</th>\n",
       "      <td>SBLF1</td>\n",
       "      <td>Seabulk</td>\n",
       "      <td>FL</td>\n",
       "      <td>discontinued</td>\n",
       "      <td>2016-04-30 23:59:00,2016-04-30 23:58:00</td>\n",
       "      <td>POINT (-82.44500 27.92330)</td>\n",
       "    </tr>\n",
       "    <tr>\n",
       "      <th>8720503</th>\n",
       "      <td>GCVF1</td>\n",
       "      <td>Red Bay Point, St Johns River</td>\n",
       "      <td>FL</td>\n",
       "      <td>discontinued</td>\n",
       "      <td>2017-10-07 20:54:00,2017-10-07 10:54:00,2017-1...</td>\n",
       "      <td>POINT (-81.63417 29.98167)</td>\n",
       "    </tr>\n",
       "    <tr>\n",
       "      <th>8654400</th>\n",
       "      <td>CFPN7</td>\n",
       "      <td>Cape Hatteras Fishing Pier</td>\n",
       "      <td>NC</td>\n",
       "      <td>discontinued</td>\n",
       "      <td>2018-09-19 23:59:00,2003-09-18 23:59:00,2003-0...</td>\n",
       "      <td>POINT (-75.63500 35.22330)</td>\n",
       "    </tr>\n",
       "    <tr>\n",
       "      <th>8720625</th>\n",
       "      <td>RCYF1</td>\n",
       "      <td>Racy Point, St Johns River</td>\n",
       "      <td>FL</td>\n",
       "      <td>discontinued</td>\n",
       "      <td>2019-08-05 14:00:00,2017-06-14 15:36:00,2017-0...</td>\n",
       "      <td>POINT (-81.54830 29.80170)</td>\n",
       "    </tr>\n",
       "    <tr>\n",
       "      <th>8726667</th>\n",
       "      <td>MCYF1</td>\n",
       "      <td>Mckay Bay Entrance</td>\n",
       "      <td>FL</td>\n",
       "      <td>discontinued</td>\n",
       "      <td>2020-05-20 00:00:00,2019-03-08 00:00:00,2017-0...</td>\n",
       "      <td>POINT (-82.42500 27.91330)</td>\n",
       "    </tr>\n",
       "  </tbody>\n",
       "</table>\n",
       "</div>"
      ],
      "text/plain": [
       "        nws_id                                 name state        status  \\\n",
       "nos_id                                                                    \n",
       "8726679  TSHF1                    East Bay Causeway    FL        active   \n",
       "8726694  TPAF1                TPA Cruise Terminal 2    FL        active   \n",
       "8720233  BLIF1                Blount Island Command    FL        active   \n",
       "8720228  LTJF1            Little Jetties Visibility    FL        active   \n",
       "8726520  SAPF1            St. Petersburg, Tampa Bay    FL        active   \n",
       "8726724  CWBF1                     Clearwater Beach    FL        active   \n",
       "8727520  CKYF1                            Cedar Key    FL        active   \n",
       "8728690  APCF1                         Apalachicola    FL        active   \n",
       "8720030  FRDF1                     Fernandina Beach    FL        active   \n",
       "8726384  PMAF1                         Port Manatee    FL        active   \n",
       "8725520  FMRF1                           Fort Myers    FL        active   \n",
       "8726671  SKCF1            Sparkman Channel Entrance    FL        active   \n",
       "8726524  GCTF1               Gadsden Cut, Tampa Bay    FL        active   \n",
       "8726674  EBEF1                             East Bay    FL        active   \n",
       "8720215  NFDF1                      Navy Fuel Depot    FL        active   \n",
       "8729108  PACF1                          Panama City    FL        active   \n",
       "8661070  MROS1                      Springmaid Pier    SC        active   \n",
       "8729210  PCBF1                    Panama City Beach    FL        active   \n",
       "8670870  FPKG1                         Fort Pulaski    GA        active   \n",
       "8722956  PEGF1                South Port Everglades    FL        active   \n",
       "8720245  JXUF1              Jacksonville University    FL        active   \n",
       "8658120  WLON7                           Wilmington    NC        active   \n",
       "8658163  JMPN7                   Wrightsville Beach    NC        active   \n",
       "8652587  ORIN7                  Oregon Inlet Marina    NC        active   \n",
       "8654467  HCGN7                USCG Station Hatteras    NC        active   \n",
       "8665530  CHTS1                           Charleston    SC        active   \n",
       "8656483  BFTN7            Beaufort, Duke Marine Lab    NC        active   \n",
       "8651370  DUKN7                                 Duck    NC        active   \n",
       "8725110  NPSF1               Naples, Gulf of Mexico    FL        active   \n",
       "8723970  VCAF1                Vaca Key, Florida Bay    FL        active   \n",
       "8721604  TRDF1         Trident Pier, Port Canaveral    FL        active   \n",
       "8722670  LKWF1      Lake Worth Pier, Atlantic Ocean    FL        active   \n",
       "8724580  KYWF1                             Key West    FL        active   \n",
       "8720226  MSBF1  Southbank Riverwalk, St Johns River    FL        active   \n",
       "8723214  VAKF1           Virginia Key, Biscayne Bay    FL        active   \n",
       "8720357  BKBF1                 I-295 Buckman Bridge    FL        active   \n",
       "8720219  DMSF1                          Dames Point    FL        active   \n",
       "8720218  MYPF1            Mayport (Bar Pilots Dock)    FL        active   \n",
       "8729840  PCLF1                            Pensacola    FL        active   \n",
       "8726412  MTBF1                     Middle Tampa Bay    FL        active   \n",
       "8726607  OPTF1                       Old Port Tampa    FL        active   \n",
       "8720242  LNBF1                          Long Branch    FL  discontinued   \n",
       "8664941  SCIS1                  South Capers Island    SC  discontinued   \n",
       "8668498  FRPS1                         Fripps Inlet    SC  discontinued   \n",
       "8659897  SNSN7                         Sunset Beach    NC  discontinued   \n",
       "8720767  BUFF1        Buffalo Bluff, St Johns River    FL  discontinued   \n",
       "8720774  PLQF1              Palatka, St Johns River    FL  discontinued   \n",
       "8720145  EDSF1                        Edwards Creek    FL  discontinued   \n",
       "8726413  CCUF1                                C-Cut    FL  discontinued   \n",
       "8726669  ERTF1                            Berth 223    FL  discontinued   \n",
       "8726673  SBLF1                              Seabulk    FL  discontinued   \n",
       "8720503  GCVF1        Red Bay Point, St Johns River    FL  discontinued   \n",
       "8654400  CFPN7           Cape Hatteras Fishing Pier    NC  discontinued   \n",
       "8720625  RCYF1           Racy Point, St Johns River    FL  discontinued   \n",
       "8726667  MCYF1                   Mckay Bay Entrance    FL  discontinued   \n",
       "\n",
       "                                                   removed  \\\n",
       "nos_id                                                       \n",
       "8726679                                               <NA>   \n",
       "8726694                                               <NA>   \n",
       "8720233  2017-01-16 14:35:00,2017-01-16 14:30:00,2013-1...   \n",
       "8720228            2017-02-21 18:00:00,2014-02-06 00:00:00   \n",
       "8726520  2017-06-30 00:00:00,2017-01-17 00:00:00,2016-0...   \n",
       "8726724  2019-03-13 17:42:00,2018-01-17 16:18:00,2017-0...   \n",
       "8727520  2019-12-14 20:58:00,2019-12-12 00:00:00,2017-0...   \n",
       "8728690  2019-12-17 00:00:00,2019-12-10 16:15:00,2018-1...   \n",
       "8720030  2020-01-18 00:00:00,2017-01-12 00:00:00,2016-0...   \n",
       "8726384  2020-01-18 14:30:00,2019-03-11 00:00:00,2018-0...   \n",
       "8725520  2020-01-22 14:00:00,2018-06-30 13:30:00,2018-0...   \n",
       "8726671                                2020-02-07 00:00:00   \n",
       "8726524            2020-03-11 00:00:00,2018-04-20 00:00:00   \n",
       "8726674                                2020-05-20 00:00:00   \n",
       "8720215  2021-01-19 16:00:00,2020-08-12 00:00:00,2017-0...   \n",
       "8729108  2021-04-21 00:00:00,2019-04-09 00:00:00,2019-0...   \n",
       "8661070  2021-06-11 00:00:00,2016-12-14 00:01:00,2016-1...   \n",
       "8729210  2021-07-22 11:00:00,2019-12-08 17:53:00,2019-1...   \n",
       "8670870  2021-08-25 11:00:00,2021-08-25 00:00:00,2021-0...   \n",
       "8722956  2021-09-08 11:36:00,2019-02-11 00:00:00,2018-0...   \n",
       "8720245  2021-09-24 12:30:00,2020-09-13 15:00:00,2019-0...   \n",
       "8658120  2021-10-10 13:00:00,2021-10-10 08:00:00,2019-0...   \n",
       "8658163  2021-10-11 13:00:00,2021-10-10 10:00:00,2020-0...   \n",
       "8652587  2021-10-16 00:00:00,2021-10-14 01:00:00,2021-1...   \n",
       "8654467  2021-10-20 00:00:00,2019-08-08 14:30:00,2019-0...   \n",
       "8665530  2021-12-11 16:30:00,2018-12-03 00:00:00,2018-1...   \n",
       "8656483  2021-12-15 11:00:00,2021-12-10 11:00:00,2021-1...   \n",
       "8651370  2022-01-19 11:00:00,2021-10-18 00:00:00,2021-1...   \n",
       "8725110  2022-01-23 12:00:00,2022-01-23 00:00:00,2022-0...   \n",
       "8723970  2022-01-26 10:00:00,2018-06-29 12:00:00,2018-0...   \n",
       "8721604  2022-01-28 17:00:00,2021-09-11 14:00:00,2021-0...   \n",
       "8722670  2022-01-29 14:00:00,2022-01-29 13:00:00,2022-0...   \n",
       "8724580  2022-01-31 00:00:00,2020-05-08 09:30:00,2018-0...   \n",
       "8720226  2022-02-02 14:00:00,2021-01-16 17:57:00,2020-0...   \n",
       "8723214  2022-02-04 00:00:00,2022-02-03 16:00:00,2021-0...   \n",
       "8720357  2022-02-04 17:00:00,2021-02-20 14:45:00,2021-0...   \n",
       "8720219  2022-03-14 15:37:00,2022-01-26 00:00:00,2021-0...   \n",
       "8720218  2022-03-19 18:16:00,2022-03-19 14:00:00,2021-0...   \n",
       "8729840  2022-04-01 10:00:00,2022-04-01 00:00:00,2020-0...   \n",
       "8726412  2022-04-27 00:00:00,2013-10-03 00:00:00,2013-0...   \n",
       "8726607  2022-05-18 14:00:00,2020-01-14 00:00:00,2019-0...   \n",
       "8720242  2004-04-07 23:59:00,2004-04-07 00:00:00,1999-0...   \n",
       "8664941  2008-03-09 23:59:00,2008-03-09 00:00:00,2005-0...   \n",
       "8668498  2008-03-13 23:59:00,2008-03-13 00:00:00,2008-0...   \n",
       "8659897  2008-03-16 23:59:00,2008-03-16 00:00:00,2007-0...   \n",
       "8720767            2008-08-18 23:59:00,2008-08-18 00:00:00   \n",
       "8720774  2008-08-18 23:59:00,2008-08-18 00:00:00,1995-1...   \n",
       "8720145  2011-08-26 14:05:00,2011-02-16 17:32:00,2010-0...   \n",
       "8726413            2013-10-10 23:59:00,2013-10-10 00:00:00   \n",
       "8726669            2016-04-30 23:59:00,2016-04-30 23:58:00   \n",
       "8726673            2016-04-30 23:59:00,2016-04-30 23:58:00   \n",
       "8720503  2017-10-07 20:54:00,2017-10-07 10:54:00,2017-1...   \n",
       "8654400  2018-09-19 23:59:00,2003-09-18 23:59:00,2003-0...   \n",
       "8720625  2019-08-05 14:00:00,2017-06-14 15:36:00,2017-0...   \n",
       "8726667  2020-05-20 00:00:00,2019-03-08 00:00:00,2017-0...   \n",
       "\n",
       "                           geometry  \n",
       "nos_id                               \n",
       "8726679  POINT (-82.42575 27.92889)  \n",
       "8726694  POINT (-82.43330 27.93330)  \n",
       "8720233  POINT (-81.52253 30.39258)  \n",
       "8720228  POINT (-81.44603 30.37936)  \n",
       "8726520  POINT (-82.62689 27.76061)  \n",
       "8726724  POINT (-82.83170 27.97830)  \n",
       "8727520  POINT (-83.03170 29.13500)  \n",
       "8728690  POINT (-84.98170 29.72670)  \n",
       "8720030  POINT (-81.46500 30.67170)  \n",
       "8726384  POINT (-82.56250 27.63833)  \n",
       "8725520  POINT (-81.87120 26.64770)  \n",
       "8726671  POINT (-82.44519 27.92053)  \n",
       "8726524  POINT (-82.51686 27.77353)  \n",
       "8726674  POINT (-82.42140 27.92310)  \n",
       "8720215  POINT (-81.62670 30.40000)  \n",
       "8729108  POINT (-85.66694 30.15228)  \n",
       "8661070  POINT (-78.91831 33.65500)  \n",
       "8729210  POINT (-85.87830 30.21330)  \n",
       "8670870  POINT (-80.90170 32.03330)  \n",
       "8722956  POINT (-80.11670 26.08170)  \n",
       "8720245  POINT (-81.61175 30.35408)  \n",
       "8658120  POINT (-77.95361 34.22750)  \n",
       "8658163  POINT (-77.78669 34.21331)  \n",
       "8652587  POINT (-75.54806 35.79500)  \n",
       "8654467  POINT (-75.70417 35.20864)  \n",
       "8665530  POINT (-79.92500 32.78170)  \n",
       "8656483  POINT (-76.67000 34.72000)  \n",
       "8651370  POINT (-75.74670 36.18330)  \n",
       "8725110  POINT (-81.80747 26.13167)  \n",
       "8723970  POINT (-81.10650 24.71100)  \n",
       "8721604  POINT (-80.59310 28.41580)  \n",
       "8722670  POINT (-80.03417 26.61278)  \n",
       "8724580  POINT (-81.80806 24.55083)  \n",
       "8720226  POINT (-81.65830 30.32000)  \n",
       "8723214  POINT (-80.16180 25.73140)  \n",
       "8720357  POINT (-81.68889 30.19242)  \n",
       "8720219  POINT (-81.55830 30.38670)  \n",
       "8720218  POINT (-81.42789 30.39817)  \n",
       "8729840  POINT (-87.21119 30.40439)  \n",
       "8726412  POINT (-82.59953 27.66175)  \n",
       "8726607  POINT (-82.55280 27.85780)  \n",
       "8720242  POINT (-81.62000 30.36000)  \n",
       "8664941  POINT (-79.70670 32.85670)  \n",
       "8668498  POINT (-80.46500 32.34000)  \n",
       "8659897  POINT (-78.50670 33.86500)  \n",
       "8720767  POINT (-81.68170 29.59500)  \n",
       "8720774  POINT (-81.63170 29.64330)  \n",
       "8720145  POINT (-81.54170 30.50170)  \n",
       "8726413  POINT (-82.61830 27.66330)  \n",
       "8726669  POINT (-82.44380 27.91720)  \n",
       "8726673  POINT (-82.44500 27.92330)  \n",
       "8720503  POINT (-81.63417 29.98167)  \n",
       "8654400  POINT (-75.63500 35.22330)  \n",
       "8720625  POINT (-81.54830 29.80170)  \n",
       "8726667  POINT (-82.42500 27.91330)  "
      ]
     },
     "execution_count": 20,
     "metadata": {},
     "output_type": "execute_result"
    }
   ],
   "source": [
    "import shapely\n",
    "from searvey import coops\n",
    "\n",
    "secoora = shapely.geometry.box(-87.4, 24.25, -74.7, 36.7)\n",
    "df = coops.coops_stations_within_region(secoora)\n",
    "df"
   ]
  },
  {
   "cell_type": "code",
   "execution_count": 21,
   "metadata": {
    "slideshow": {
     "slide_type": "slide"
    }
   },
   "outputs": [
    {
     "data": {
      "text/html": [
       "<div>\n",
       "<style scoped>\n",
       "    .dataframe tbody tr th:only-of-type {\n",
       "        vertical-align: middle;\n",
       "    }\n",
       "\n",
       "    .dataframe tbody tr th {\n",
       "        vertical-align: top;\n",
       "    }\n",
       "\n",
       "    .dataframe thead th {\n",
       "        text-align: right;\n",
       "    }\n",
       "</style>\n",
       "<table border=\"1\" class=\"dataframe\">\n",
       "  <thead>\n",
       "    <tr style=\"text-align: right;\">\n",
       "      <th></th>\n",
       "      <th>nws_id</th>\n",
       "      <th>name</th>\n",
       "      <th>state</th>\n",
       "      <th>status</th>\n",
       "      <th>removed</th>\n",
       "      <th>geometry</th>\n",
       "    </tr>\n",
       "    <tr>\n",
       "      <th>nos_id</th>\n",
       "      <th></th>\n",
       "      <th></th>\n",
       "      <th></th>\n",
       "      <th></th>\n",
       "      <th></th>\n",
       "      <th></th>\n",
       "    </tr>\n",
       "  </thead>\n",
       "  <tbody>\n",
       "    <tr>\n",
       "      <th>8651370</th>\n",
       "      <td>DUKN7</td>\n",
       "      <td>Duck</td>\n",
       "      <td>NC</td>\n",
       "      <td>active</td>\n",
       "      <td>2022-01-19 11:00:00,2021-10-18 00:00:00,2021-1...</td>\n",
       "      <td>POINT (-75.74670 36.18330)</td>\n",
       "    </tr>\n",
       "  </tbody>\n",
       "</table>\n",
       "</div>"
      ],
      "text/plain": [
       "        nws_id  name state  status  \\\n",
       "nos_id                               \n",
       "8651370  DUKN7  Duck    NC  active   \n",
       "\n",
       "                                                   removed  \\\n",
       "nos_id                                                       \n",
       "8651370  2022-01-19 11:00:00,2021-10-18 00:00:00,2021-1...   \n",
       "\n",
       "                           geometry  \n",
       "nos_id                               \n",
       "8651370  POINT (-75.74670 36.18330)  "
      ]
     },
     "execution_count": 21,
     "metadata": {},
     "output_type": "execute_result"
    }
   ],
   "source": [
    "df.loc[df[\"name\"] == \"Duck\"]"
   ]
  },
  {
   "cell_type": "code",
   "execution_count": 22,
   "metadata": {
    "slideshow": {
     "slide_type": "slide"
    }
   },
   "outputs": [
    {
     "data": {
      "image/png": "[encoded data removed]",
      "text/plain": [
       "<Figure size 640x480 with 1 Axes>"
      ]
     },
     "metadata": {},
     "output_type": "display_data"
    }
   ],
   "source": [
    "from datetime import datetime, timedelta\n",
    "from searvey.coops import COOPS_Station\n",
    "\n",
    "station = COOPS_Station(\"Duck\")\n",
    "\n",
    "ds = station.product(\n",
    "    \"water_level\",\n",
    "    start_date=datetime.today() - timedelta(15),\n",
    "    end_date=datetime.today(),\n",
    ")\n",
    "\n",
    "ds[\"v\"].plot();"
   ]
  },
  {
   "cell_type": "markdown",
   "metadata": {
    "slideshow": {
     "slide_type": "slide"
    }
   },
   "source": [
    "## 4) WMS\n",
    "\n",
    "### Learning objectives:\n",
    "\n",
    "- Add a WMS layer to an interactive map. (\"Hurricane viz widget.\")"
   ]
  },
  {
   "cell_type": "code",
   "execution_count": 23,
   "metadata": {
    "slideshow": {
     "slide_type": "slide"
    }
   },
   "outputs": [],
   "source": [
    "from ipyleaflet import FullScreenControl, Map, WMSLayer, basemaps\n",
    "from ipywidgets import SelectionSlider\n",
    "from traitlets import Unicode\n",
    "\n",
    "time_options = [\n",
    "    \"13:00\", \"13:30\", \"14:00\", \"14:30\", \"15:00\", \"15:30\",\n",
    "    \"16:00\", \"16:30\", \"17:00\", \"17:30\", \"18:00\", \"18:30\",\n",
    "]\n",
    "\n",
    "slider = SelectionSlider(description=\"Time:\", options=time_options)\n",
    "\n",
    "\n",
    "def update_wms(change):\n",
    "    time_wms.time = \"2020-07-25T{}\".format(slider.value)\n",
    "\n",
    "\n",
    "slider.observe(update_wms, \"value\")\n",
    "\n",
    "\n",
    "class TimeWMSLayer(WMSLayer):\n",
    "    time = Unicode(\"\").tag(sync=True, o=True)"
   ]
  },
  {
   "cell_type": "code",
   "execution_count": 24,
   "metadata": {
    "slideshow": {
     "slide_type": "slide"
    }
   },
   "outputs": [],
   "source": [
    "time_wms = TimeWMSLayer(\n",
    "    url=\"https://mesonet.agron.iastate.edu/cgi-bin/wms/nexrad/n0r-t.cgi?\",\n",
    "    layers=\"nexrad-n0r-wmst\",\n",
    "    time=\"2020-07-25T13:00:00Z\",\n",
    "    format=\"image/png\",\n",
    "    transparent=True,\n",
    "    attribution=\"Weather data © 2012 IEM Nexrad\",\n",
    ")\n",
    "m = Map(basemap=basemaps.CartoDB.Positron, center=(30, -88), zoom=5)\n",
    "m.add_layer(time_wms)\n",
    "m.add_control(FullScreenControl())"
   ]
  },
  {
   "cell_type": "code",
   "execution_count": 25,
   "metadata": {
    "slideshow": {
     "slide_type": "slide"
    }
   },
   "outputs": [
    {
     "data": {
      "application/vnd.jupyter.widget-view+json": {
       "model_id": "621810695fb24e0f834c7d05bfc872d9",
       "version_major": 2,
       "version_minor": 0
      },
      "text/plain": [
       "Map(center=[30, -88], controls=(ZoomControl(options=['position', 'zoom_in_text', 'zoom_in_title', 'zoom_out_te…"
      ]
     },
     "metadata": {},
     "output_type": "display_data"
    }
   ],
   "source": [
    "m"
   ]
  },
  {
   "cell_type": "code",
   "execution_count": 26,
   "metadata": {
    "slideshow": {
     "slide_type": "fragment"
    }
   },
   "outputs": [
    {
     "data": {
      "application/vnd.jupyter.widget-view+json": {
       "model_id": "698f8d03c7a641e6b87509649d19a5e4",
       "version_major": 2,
       "version_minor": 0
      },
      "text/plain": [
       "SelectionSlider(description='Time:', options=('13:00', '13:30', '14:00', '14:30', '15:00', '15:30', '16:00', '…"
      ]
     },
     "metadata": {},
     "output_type": "display_data"
    }
   ],
   "source": [
    "slider"
   ]
  },
  {
   "cell_type": "markdown",
   "metadata": {
    "slideshow": {
     "slide_type": "slide"
    }
   },
   "source": [
    "## 5) Catalog Service Web (CSW)\n",
    "\n",
    "### Is there a canonical source for data?"
   ]
  },
  {
   "cell_type": "markdown",
   "metadata": {
    "slideshow": {
     "slide_type": "fragment"
    }
   },
   "source": [
    "![](https://i.kym-cdn.com/photos/images/newsfeed/001/093/557/142.gif)"
   ]
  },
  {
   "cell_type": "markdown",
   "metadata": {
    "slideshow": {
     "slide_type": "fragment"
    }
   },
   "source": [
    "Well, kind of... The closet thing are data catalogs like the [IOOS CSW catalog](https://data.ioos.us/) or [pangeo-forge](https://pangeo-forge.readthedocs.io/en/latest/)."
   ]
  },
  {
   "cell_type": "markdown",
   "metadata": {
    "slideshow": {
     "slide_type": "slide"
    }
   },
   "source": [
    "## Catalog Service for the Web (CSW)\n",
    "\n",
    "- A single source to find endpoints\n",
    "- Nice python interface:<br>`owslib.csw.CatalogueServiceWeb`\n",
    "- Advanced filtering:<br>`owslib.fes`"
   ]
  },
  {
   "cell_type": "markdown",
   "metadata": {
    "slideshow": {
     "slide_type": "slide"
    }
   },
   "source": [
    "![](https://raw.githubusercontent.com/ocefpaf/2018-SciPy-talk/gh-pages/images/IOOS.svg)"
   ]
  },
  {
   "cell_type": "markdown",
   "metadata": {
    "slideshow": {
     "slide_type": "slide"
    }
   },
   "source": [
    "## IOOS CodeLab\n",
    "For more complex examples on how to find data in the catalog please check the [IOOS code gallery](https://ioos.github.io/ioos_code_lab/content/intro.html).\n",
    "\n",
    "![](static/ioos_code_lab.png)"
   ]
  },
  {
   "cell_type": "markdown",
   "metadata": {
    "slideshow": {
     "slide_type": "slide"
    }
   },
   "source": [
    "## Where to find data?"
   ]
  },
  {
   "cell_type": "markdown",
   "metadata": {
    "slideshow": {
     "slide_type": "fragment"
    }
   },
   "source": [
    "Curated list of ERDDAP servers:\n",
    "https://github.com/IrishMarineInstitute/awesome-erddap\n",
    "\n",
    "Environmental Data Service (EDS) model viewer: https://eds.ioos.us\n",
    "\n",
    "Exploring THREDDS servers: https://unidata.github.io/siphon/latest"
   ]
  },
  {
   "cell_type": "markdown",
   "metadata": {
    "slideshow": {
     "slide_type": "slide"
    }
   },
   "source": [
    "## Extras: how does this all work?"
   ]
  },
  {
   "cell_type": "markdown",
   "metadata": {
    "slideshow": {
     "slide_type": "fragment"
    }
   },
   "source": [
    "## Standards!\n",
    "\n",
    "![](https://imgs.xkcd.com/comics/standards.png)"
   ]
  },
  {
   "cell_type": "markdown",
   "metadata": {
    "slideshow": {
     "slide_type": "slide"
    }
   },
   "source": [
    "## Bad example"
   ]
  },
  {
   "cell_type": "code",
   "execution_count": 27,
   "metadata": {
    "slideshow": {
     "slide_type": "fragment"
    }
   },
   "outputs": [],
   "source": [
    "import cftime\n",
    "import nc_time_axis\n",
    "from netCDF4 import Dataset\n",
    "\n",
    "url = \"http://goosbrasil.org:8080/pirata/B19s34w.nc\"\n",
    "nc = Dataset(url)\n",
    "\n",
    "temp = nc[\"temperature\"][:]\n",
    "times = nc[\"time\"]\n",
    "temp[temp <= -9999] = np.NaN\n",
    "t = cftime.num2date(times[:], times.units, calendar=times.calendar)\n",
    "mask = (t >= datetime(2008, 1, 1)) & (t <= datetime(2008, 12, 31))"
   ]
  },
  {
   "cell_type": "code",
   "execution_count": 29,
   "metadata": {
    "slideshow": {
     "slide_type": "slide"
    }
   },
   "outputs": [
    {
     "data": {
      "image/png": "[encoded data removed]",
      "text/plain": [
       "<Figure size 640x480 with 1 Axes>"
      ]
     },
     "metadata": {},
     "output_type": "display_data"
    }
   ],
   "source": [
    "fig, ax = plt.subplots()\n",
    "ax.plot(t[mask], temp[:, 0][mask], \".\");"
   ]
  },
  {
   "cell_type": "markdown",
   "metadata": {
    "slideshow": {
     "slide_type": "slide"
    }
   },
   "source": [
    "## Good example"
   ]
  },
  {
   "cell_type": "code",
   "execution_count": 30,
   "metadata": {
    "slideshow": {
     "slide_type": "fragment"
    }
   },
   "outputs": [],
   "source": [
    "import xarray as xr\n",
    "\n",
    "ds = xr.open_dataset(url)\n",
    "temp = ds[\"temperature\"]"
   ]
  },
  {
   "cell_type": "code",
   "execution_count": 31,
   "metadata": {
    "slideshow": {
     "slide_type": "slide"
    }
   },
   "outputs": [
    {
     "data": {
      "image/png": "[encoded data removed]",
      "text/plain": [
       "<Figure size 640x480 with 1 Axes>"
      ]
     },
     "metadata": {},
     "output_type": "display_data"
    }
   ],
   "source": [
    "temp.sel(depth_t=1.0, time=\"2008\").plot();"
   ]
  }
 ],
 "metadata": {
  "celltoolbar": "Slideshow",
  "kernelspec": {
   "display_name": "Python 3 (ipykernel)",
   "language": "python",
   "name": "python3"
  },
  "language_info": {
   "codemirror_mode": {
    "name": "ipython",
    "version": 3
   },
   "file_extension": ".py",
   "mimetype": "text/x-python",
   "name": "python",
   "nbconvert_exporter": "python",
   "pygments_lexer": "ipython3",
   "version": "3.9.13"
  },
  "livereveal": {
   "auto_select": "none",
   "footer": " ",
   "header": "<script src='/files/static/theme/reveal.js'></script>",
   "start_slideshow_at": "selected"
  },
  "widgets": {
   "application/vnd.jupyter.widget-state+json": {
    "state": {
     "0063a22e99c64923bf9d0dfbfb1a529a": {
      "model_module": "jupyter-leaflet",
      "model_module_version": "^0.17.0",
      "model_name": "LeafletMapStyleModel",
      "state": {
       "_model_module_version": "^0.17.0"
      }
     },
     "0b0bdc1ccf3e4224ab810fd1b89895c8": {
      "model_module": "@jupyter-widgets/base",
      "model_module_version": "1.2.0",
      "model_name": "LayoutModel",
      "state": {}
     },
     "0e53c0406a134975b037ab20b34a1d8c": {
      "model_module": "jupyter-leaflet",
      "model_module_version": "^0.17.0",
      "model_name": "LeafletMapStyleModel",
      "state": {
       "_model_module_version": "^0.17.0"
      }
     },
     "1cb111dc5810489fa0287ddae49bf845": {
      "model_module": "jupyter-leaflet",
      "model_module_version": "^0.17.0",
      "model_name": "LeafletTileLayerModel",
      "state": {
       "_model_module_version": "^0.17.0",
       "_view_module_version": "^0.17.0",
       "attribution": "&copy; <a href=\"https://www.openstreetmap.org/copyright\">OpenStreetMap</a> contributors &copy; <a href=\"https://carto.com/attributions\">CARTO</a>",
       "base": true,
       "max_zoom": 20,
       "min_zoom": 1,
       "name": "CartoDB.Positron",
       "options": [
        "attribution",
        "bounds",
        "detect_retina",
        "max_native_zoom",
        "max_zoom",
        "min_native_zoom",
        "min_zoom",
        "no_wrap",
        "tile_size",
        "tms"
       ],
       "url": "https://a.basemaps.cartocdn.com/light_all/{z}/{x}/{y}.png"
      }
     },
     "1dd555e93de24f0e97d1c05738bd5976": {
      "model_module": "jupyter-leaflet",
      "model_module_version": "^0.17.0",
      "model_name": "LeafletMapStyleModel",
      "state": {
       "_model_module_version": "^0.17.0",
       "cursor": "move"
      }
     },
     "1f8012a0da484810a9234489d83dd092": {
      "model_module": "jupyter-leaflet",
      "model_module_version": "^0.17.0",
      "model_name": "LeafletAttributionControlModel",
      "state": {
       "_model_module_version": "^0.17.0",
       "_view_module_version": "^0.17.0",
       "options": [
        "position",
        "prefix"
       ],
       "position": "bottomright",
       "prefix": "ipyleaflet"
      }
     },
     "205eb56e92244c26985045f128c3c339": {
      "model_module": "jupyter-leaflet",
      "model_module_version": "^0.17.0",
      "model_name": "LeafletMapModel",
      "state": {
       "_model_module_version": "^0.17.0",
       "_view_module_version": "^0.17.0",
       "bottom": 6432,
       "center": [
        39.5,
        -70.5
       ],
       "controls": [
        "IPY_MODEL_acf6274dcd8c43f49c453fc5f83edd08",
        "IPY_MODEL_a1a3c3800f484513b915653f349793a6",
        "IPY_MODEL_2d98ad622b5a4a51aa41a716c96c2f13"
       ],
       "default_style": "IPY_MODEL_0063a22e99c64923bf9d0dfbfb1a529a",
       "dragging_style": "IPY_MODEL_a08c4e687d094250b12ade9c870aeb74",
       "east": -64.16015625000001,
       "fullscreen": false,
       "interpolation": "bilinear",
       "layers": [
        "IPY_MODEL_ee6081535cc84bf1ba3eb07db6f848fa",
        "IPY_MODEL_398d6a74240149eab97aa201a6845b68"
       ],
       "layout": "IPY_MODEL_564a5f1d7dc74de19b4dca1025b463d5",
       "left": 4696,
       "modisdate": "2022-08-16",
       "north": 42.8115217450979,
       "options": [
        "bounce_at_zoom_limits",
        "box_zoom",
        "center",
        "close_popup_on_click",
        "double_click_zoom",
        "dragging",
        "fullscreen",
        "inertia",
        "inertia_deceleration",
        "inertia_max_speed",
        "interpolation",
        "keyboard",
        "keyboard_pan_offset",
        "keyboard_zoom_offset",
        "max_zoom",
        "min_zoom",
        "prefer_canvas",
        "scroll_wheel_zoom",
        "tap",
        "tap_tolerance",
        "touch_zoom",
        "world_copy_jump",
        "zoom",
        "zoom_animation_threshold",
        "zoom_delta",
        "zoom_snap"
       ],
       "prefer_canvas": false,
       "right": 5272,
       "south": 36.03133177633189,
       "style": "IPY_MODEL_0063a22e99c64923bf9d0dfbfb1a529a",
       "top": 6032,
       "west": -76.81640625000001,
       "window_url": "http://127.0.0.1:8888/notebooks/01-Tue/00-data-access-in-python/00-data-access.ipynb",
       "zoom": 6
      }
     },
     "2460e500fffd458d85262bc829a30d85": {
      "model_module": "jupyter-leaflet",
      "model_module_version": "^0.17.0",
      "model_name": "LeafletFullScreenControlModel",
      "state": {
       "_model_module_version": "^0.17.0",
       "_view_module_version": "^0.17.0",
       "options": [
        "position"
       ]
      }
     },
     "2518b4e736684661a901e5ac85e91f4f": {
      "model_module": "jupyter-leaflet",
      "model_module_version": "^0.17.0",
      "model_name": "LeafletMapStyleModel",
      "state": {
       "_model_module_version": "^0.17.0"
      }
     },
     "2d98ad622b5a4a51aa41a716c96c2f13": {
      "model_module": "jupyter-leaflet",
      "model_module_version": "^0.17.0",
      "model_name": "LeafletFullScreenControlModel",
      "state": {
       "_model_module_version": "^0.17.0",
       "_view_module_version": "^0.17.0",
       "options": [
        "position"
       ]
      }
     },
     "2ee932b433544658af80e4a7fe1b3f87": {
      "model_module": "jupyter-leaflet",
      "model_module_version": "^0.17.0",
      "model_name": "LeafletZoomControlModel",
      "state": {
       "_model_module_version": "^0.17.0",
       "_view_module_version": "^0.17.0",
       "options": [
        "position",
        "zoom_in_text",
        "zoom_in_title",
        "zoom_out_text",
        "zoom_out_title"
       ]
      }
     },
     "349f97408048461b9670a35bc0737d9b": {
      "model_module": "@jupyter-widgets/controls",
      "model_module_version": "1.5.0",
      "model_name": "DescriptionStyleModel",
      "state": {
       "description_width": ""
      }
     },
     "398d6a74240149eab97aa201a6845b68": {
      "model_module": "jupyter-leaflet",
      "model_module_version": "^0.17.0",
      "model_name": "LeafletRectangleModel",
      "state": {
       "_model_module_version": "^0.17.0",
       "_view_module_version": "^0.17.0",
       "bounds": [
        [
         38,
         -72
        ],
        [
         41,
         -69
        ]
       ],
       "draggable": false,
       "options": [
        "color",
        "dash_array",
        "draggable",
        "fill",
        "fill_color",
        "fill_opacity",
        "line_cap",
        "line_join",
        "no_clip",
        "opacity",
        "pointer_events",
        "smooth_factor",
        "stroke",
        "transform",
        "weight"
       ],
       "rotation": true,
       "scaling": true,
       "transform": false,
       "uniform_scaling": false
      }
     },
     "3ec23e1ebfec4371a7f663e1eacb85a9": {
      "model_module": "@jupyter-widgets/base",
      "model_module_version": "1.2.0",
      "model_name": "LayoutModel",
      "state": {}
     },
     "42bd271b7e5a43b18725bcd83bb6d6ce": {
      "model_module": "jupyter-leaflet",
      "model_module_version": "^0.17.0",
      "model_name": "LeafletMapModel",
      "state": {
       "_model_module_version": "^0.17.0",
       "_view_module_version": "^0.17.0",
       "bottom": 6432,
       "center": [
        39.5,
        -70.5
       ],
       "controls": [
        "IPY_MODEL_e5a3f495215e464fa550c4b78430b620",
        "IPY_MODEL_6a6ae707aa4940919633ce746f93e786",
        "IPY_MODEL_a27a83c460694621a45c0a7dc32644e4"
       ],
       "default_style": "IPY_MODEL_f33e994eb85045ef8508baea9f3adbb6",
       "dragging_style": "IPY_MODEL_1dd555e93de24f0e97d1c05738bd5976",
       "east": -60.07324218750001,
       "fullscreen": false,
       "interpolation": "bilinear",
       "layers": [
        "IPY_MODEL_83315eff3a084d0490645b02322b9e2f",
        "IPY_MODEL_597cf190777742d8b37f3ff6d47e96d3"
       ],
       "layout": "IPY_MODEL_3ec23e1ebfec4371a7f663e1eacb85a9",
       "left": 4510,
       "modisdate": "2022-08-15",
       "north": 42.8115217450979,
       "options": [
        "bounce_at_zoom_limits",
        "box_zoom",
        "center",
        "close_popup_on_click",
        "double_click_zoom",
        "dragging",
        "fullscreen",
        "inertia",
        "inertia_deceleration",
        "inertia_max_speed",
        "interpolation",
        "keyboard",
        "keyboard_pan_offset",
        "keyboard_zoom_offset",
        "max_zoom",
        "min_zoom",
        "prefer_canvas",
        "scroll_wheel_zoom",
        "tap",
        "tap_tolerance",
        "touch_zoom",
        "world_copy_jump",
        "zoom",
        "zoom_animation_threshold",
        "zoom_delta",
        "zoom_snap"
       ],
       "prefer_canvas": false,
       "right": 5458,
       "south": 36.03133177633189,
       "style": "IPY_MODEL_f33e994eb85045ef8508baea9f3adbb6",
       "top": 6032,
       "west": -80.9033203125,
       "window_url": "http://127.0.0.1:8888/notebooks/01-Tue/00-data-access-in-python/00-data-access.ipynb",
       "zoom": 6
      }
     },
     "4c35518862cc4213b2043d1f5c611a6c": {
      "model_module": "jupyter-leaflet",
      "model_module_version": "^0.17.0",
      "model_name": "LeafletMapModel",
      "state": {
       "_model_module_version": "^0.17.0",
       "_view_module_version": "^0.17.0",
       "center": [
        39.50404070558415,
        -70.48828125000001
       ],
       "controls": [
        "IPY_MODEL_8b383fe2b8b24398b40c6357d96dff59",
        "IPY_MODEL_b82a3caaae1a4c3c81822cdf797e83aa",
        "IPY_MODEL_2460e500fffd458d85262bc829a30d85"
       ],
       "default_style": "IPY_MODEL_2518b4e736684661a901e5ac85e91f4f",
       "dragging_style": "IPY_MODEL_5c69b4de3ec047f7a54159c8e1c2eead",
       "east": -180,
       "fullscreen": false,
       "interpolation": "bilinear",
       "layers": [
        "IPY_MODEL_5f9e7b576e2d4c3386f1a7848615d0e1",
        "IPY_MODEL_f58ae99b3ed0405697f6f2764f84e42f"
       ],
       "layout": "IPY_MODEL_0b0bdc1ccf3e4224ab810fd1b89895c8",
       "modisdate": "2022-08-15",
       "north": -90,
       "options": [
        "bounce_at_zoom_limits",
        "box_zoom",
        "center",
        "close_popup_on_click",
        "double_click_zoom",
        "dragging",
        "fullscreen",
        "inertia",
        "inertia_deceleration",
        "inertia_max_speed",
        "interpolation",
        "keyboard",
        "keyboard_pan_offset",
        "keyboard_zoom_offset",
        "max_zoom",
        "min_zoom",
        "prefer_canvas",
        "scroll_wheel_zoom",
        "tap",
        "tap_tolerance",
        "touch_zoom",
        "world_copy_jump",
        "zoom",
        "zoom_animation_threshold",
        "zoom_delta",
        "zoom_snap"
       ],
       "prefer_canvas": false,
       "south": 90,
       "style": "IPY_MODEL_2518b4e736684661a901e5ac85e91f4f",
       "west": 180,
       "window_url": "http://127.0.0.1:8888/notebooks/01-Tue/00-data-access-in-python/00-data-access.ipynb",
       "zoom": 6
      }
     },
     "564a5f1d7dc74de19b4dca1025b463d5": {
      "model_module": "@jupyter-widgets/base",
      "model_module_version": "1.2.0",
      "model_name": "LayoutModel",
      "state": {}
     },
     "597cf190777742d8b37f3ff6d47e96d3": {
      "model_module": "jupyter-leaflet",
      "model_module_version": "^0.17.0",
      "model_name": "LeafletRectangleModel",
      "state": {
       "_model_module_version": "^0.17.0",
       "_view_module_version": "^0.17.0",
       "bounds": [
        [
         38,
         -72
        ],
        [
         41,
         -69
        ]
       ],
       "draggable": false,
       "options": [
        "color",
        "dash_array",
        "draggable",
        "fill",
        "fill_color",
        "fill_opacity",
        "line_cap",
        "line_join",
        "no_clip",
        "opacity",
        "pointer_events",
        "smooth_factor",
        "stroke",
        "transform",
        "weight"
       ],
       "rotation": true,
       "scaling": true,
       "transform": false,
       "uniform_scaling": false
      }
     },
     "5b7e55f225374d948c4abcc0634f9bd6": {
      "model_module": "jupyter-leaflet",
      "model_module_version": "^0.17.0",
      "model_name": "LeafletMapStyleModel",
      "state": {
       "_model_module_version": "^0.17.0",
       "cursor": "move"
      }
     },
     "5c69b4de3ec047f7a54159c8e1c2eead": {
      "model_module": "jupyter-leaflet",
      "model_module_version": "^0.17.0",
      "model_name": "LeafletMapStyleModel",
      "state": {
       "_model_module_version": "^0.17.0",
       "cursor": "move"
      }
     },
     "5f9e7b576e2d4c3386f1a7848615d0e1": {
      "model_module": "jupyter-leaflet",
      "model_module_version": "^0.17.0",
      "model_name": "LeafletTileLayerModel",
      "state": {
       "_model_module_version": "^0.17.0",
       "_view_module_version": "^0.17.0",
       "attribution": "&copy; <a href=\"https://www.openstreetmap.org/copyright\">OpenStreetMap</a> contributors",
       "base": true,
       "max_zoom": 19,
       "min_zoom": 1,
       "name": "OpenStreetMap.Mapnik",
       "options": [
        "attribution",
        "bounds",
        "detect_retina",
        "max_native_zoom",
        "max_zoom",
        "min_native_zoom",
        "min_zoom",
        "no_wrap",
        "tile_size",
        "tms"
       ],
       "url": "https://a.tile.openstreetmap.org/{z}/{x}/{y}.png"
      }
     },
     "621810695fb24e0f834c7d05bfc872d9": {
      "model_module": "jupyter-leaflet",
      "model_module_version": "^0.17.0",
      "model_name": "LeafletMapModel",
      "state": {
       "_model_module_version": "^0.17.0",
       "_view_module_version": "^0.17.0",
       "bottom": 3580,
       "center": [
        30,
        -88
       ],
       "controls": [
        "IPY_MODEL_2ee932b433544658af80e4a7fe1b3f87",
        "IPY_MODEL_75315b5a508f4379b102afbb4a6565c9",
        "IPY_MODEL_7ae32d24a4f44dd487ae1bd8d7b4d8a0"
       ],
       "default_style": "IPY_MODEL_9157db1ac62f4527bfe69b0f6416bc31",
       "dragging_style": "IPY_MODEL_5b7e55f225374d948c4abcc0634f9bd6",
       "east": -75.01464843750001,
       "fullscreen": false,
       "interpolation": "bilinear",
       "layers": [
        "IPY_MODEL_1cb111dc5810489fa0287ddae49bf845",
        "IPY_MODEL_b089fe861d4e4975a1429e02bab4f372"
       ],
       "layout": "IPY_MODEL_72bba39a9aca4bf0976a1b26a917d2fe",
       "left": 1798,
       "modisdate": "2022-08-16",
       "north": 37.30027528134433,
       "options": [
        "bounce_at_zoom_limits",
        "box_zoom",
        "center",
        "close_popup_on_click",
        "double_click_zoom",
        "dragging",
        "fullscreen",
        "inertia",
        "inertia_deceleration",
        "inertia_max_speed",
        "interpolation",
        "keyboard",
        "keyboard_pan_offset",
        "keyboard_zoom_offset",
        "max_zoom",
        "min_zoom",
        "prefer_canvas",
        "scroll_wheel_zoom",
        "tap",
        "tap_tolerance",
        "touch_zoom",
        "world_copy_jump",
        "zoom",
        "zoom_animation_threshold",
        "zoom_delta",
        "zoom_snap"
       ],
       "prefer_canvas": false,
       "right": 2389,
       "south": 22.105998799750566,
       "style": "IPY_MODEL_808ab843b85e45c1ac46bfacc495d545",
       "top": 3180,
       "west": -100.986328125,
       "window_url": "http://127.0.0.1:8888/notebooks/01-Tue/00-data-access-in-python/00-data-access.ipynb",
       "zoom": 5
      }
     },
     "66a112c78616400c917dd2d39a42ca70": {
      "model_module": "jupyter-leaflet",
      "model_module_version": "^0.17.0",
      "model_name": "LeafletMapStyleModel",
      "state": {
       "_model_module_version": "^0.17.0"
      }
     },
     "698f8d03c7a641e6b87509649d19a5e4": {
      "model_module": "@jupyter-widgets/controls",
      "model_module_version": "1.5.0",
      "model_name": "SelectionSliderModel",
      "state": {
       "_options_labels": [
        "13:00",
        "13:30",
        "14:00",
        "14:30",
        "15:00",
        "15:30",
        "16:00",
        "16:30",
        "17:00",
        "17:30",
        "18:00",
        "18:30"
       ],
       "description": "Time:",
       "index": 0,
       "layout": "IPY_MODEL_b959095f660a4706b39a374ef9e8a58f",
       "style": "IPY_MODEL_7d63e48a79584c3fb7e94a71ac609567"
      }
     },
     "6a6ae707aa4940919633ce746f93e786": {
      "model_module": "jupyter-leaflet",
      "model_module_version": "^0.17.0",
      "model_name": "LeafletAttributionControlModel",
      "state": {
       "_model_module_version": "^0.17.0",
       "_view_module_version": "^0.17.0",
       "options": [
        "position",
        "prefix"
       ],
       "position": "bottomright",
       "prefix": "ipyleaflet"
      }
     },
     "6fb360f56bf64813b576e10c28fd1c26": {
      "model_module": "jupyter-leaflet",
      "model_module_version": "^0.17.0",
      "model_name": "LeafletMapModel",
      "state": {
       "_model_module_version": "^0.17.0",
       "_view_module_version": "^0.17.0",
       "bottom": 3580,
       "center": [
        30,
        -88
       ],
       "controls": [
        "IPY_MODEL_ed339b4b8b6542a68bb8d9d7899e4e7f",
        "IPY_MODEL_1f8012a0da484810a9234489d83dd092",
        "IPY_MODEL_731c5968cfdd4ec79c75a4d4f0a7977d"
       ],
       "default_style": "IPY_MODEL_0e53c0406a134975b037ab20b34a1d8c",
       "dragging_style": "IPY_MODEL_e5dcfc614c134baab7e2fb4904593c4f",
       "east": -66.84082031250001,
       "fullscreen": false,
       "interpolation": "bilinear",
       "layers": [
        "IPY_MODEL_f3b09e5594ee449faed5b2cef3bb3bf0",
        "IPY_MODEL_7432a43018544afb8a7818e44fa7df0f"
       ],
       "layout": "IPY_MODEL_c2d176a4fc134fca9a5a357b84179377",
       "left": 1612,
       "modisdate": "2022-08-15",
       "north": 37.30027528134433,
       "options": [
        "bounce_at_zoom_limits",
        "box_zoom",
        "center",
        "close_popup_on_click",
        "double_click_zoom",
        "dragging",
        "fullscreen",
        "inertia",
        "inertia_deceleration",
        "inertia_max_speed",
        "interpolation",
        "keyboard",
        "keyboard_pan_offset",
        "keyboard_zoom_offset",
        "max_zoom",
        "min_zoom",
        "prefer_canvas",
        "scroll_wheel_zoom",
        "tap",
        "tap_tolerance",
        "touch_zoom",
        "world_copy_jump",
        "zoom",
        "zoom_animation_threshold",
        "zoom_delta",
        "zoom_snap"
       ],
       "prefer_canvas": false,
       "right": 2575,
       "south": 22.105998799750566,
       "style": "IPY_MODEL_71344375a855465a81cda7f217a3a336",
       "top": 3180,
       "west": -109.16015625000001,
       "window_url": "http://127.0.0.1:8888/notebooks/01-Tue/00-data-access-in-python/00-data-access.ipynb",
       "zoom": 5
      }
     },
     "71344375a855465a81cda7f217a3a336": {
      "model_module": "jupyter-leaflet",
      "model_module_version": "^0.17.0",
      "model_name": "LeafletMapStyleModel",
      "state": {
       "_model_module_version": "^0.17.0"
      }
     },
     "72bba39a9aca4bf0976a1b26a917d2fe": {
      "model_module": "@jupyter-widgets/base",
      "model_module_version": "1.2.0",
      "model_name": "LayoutModel",
      "state": {}
     },
     "731c5968cfdd4ec79c75a4d4f0a7977d": {
      "model_module": "jupyter-leaflet",
      "model_module_version": "^0.17.0",
      "model_name": "LeafletFullScreenControlModel",
      "state": {
       "_model_module_version": "^0.17.0",
       "_view_module_version": "^0.17.0",
       "options": [
        "position"
       ]
      }
     },
     "7432a43018544afb8a7818e44fa7df0f": {
      "model_module": "jupyter-leaflet",
      "model_module_version": "^0.17.0",
      "model_name": "LeafletWMSLayerModel",
      "state": {
       "_model_module_version": "^0.17.0",
       "_view_module_version": "^0.17.0",
       "attribution": "Weather data © 2012 IEM Nexrad",
       "crs": {
        "custom": false,
        "name": "EPSG3857"
       },
       "format": "image/png",
       "layers": "nexrad-n0r-wmst",
       "options": [
        "attribution",
        "bounds",
        "detect_retina",
        "format",
        "layers",
        "max_native_zoom",
        "max_zoom",
        "min_native_zoom",
        "min_zoom",
        "no_wrap",
        "styles",
        "tile_size",
        "time",
        "tms",
        "transparent",
        "uppercase"
       ],
       "time": "2020-07-25T13:00:00Z",
       "transparent": true,
       "url": "https://mesonet.agron.iastate.edu/cgi-bin/wms/nexrad/n0r-t.cgi?"
      }
     },
     "75315b5a508f4379b102afbb4a6565c9": {
      "model_module": "jupyter-leaflet",
      "model_module_version": "^0.17.0",
      "model_name": "LeafletAttributionControlModel",
      "state": {
       "_model_module_version": "^0.17.0",
       "_view_module_version": "^0.17.0",
       "options": [
        "position",
        "prefix"
       ],
       "position": "bottomright",
       "prefix": "ipyleaflet"
      }
     },
     "7ae32d24a4f44dd487ae1bd8d7b4d8a0": {
      "model_module": "jupyter-leaflet",
      "model_module_version": "^0.17.0",
      "model_name": "LeafletFullScreenControlModel",
      "state": {
       "_model_module_version": "^0.17.0",
       "_view_module_version": "^0.17.0",
       "options": [
        "position"
       ]
      }
     },
     "7d63e48a79584c3fb7e94a71ac609567": {
      "model_module": "@jupyter-widgets/controls",
      "model_module_version": "1.5.0",
      "model_name": "DescriptionStyleModel",
      "state": {
       "description_width": ""
      }
     },
     "808ab843b85e45c1ac46bfacc495d545": {
      "model_module": "jupyter-leaflet",
      "model_module_version": "^0.17.0",
      "model_name": "LeafletMapStyleModel",
      "state": {
       "_model_module_version": "^0.17.0"
      }
     },
     "83315eff3a084d0490645b02322b9e2f": {
      "model_module": "jupyter-leaflet",
      "model_module_version": "^0.17.0",
      "model_name": "LeafletTileLayerModel",
      "state": {
       "_model_module_version": "^0.17.0",
       "_view_module_version": "^0.17.0",
       "attribution": "&copy; <a href=\"https://www.openstreetmap.org/copyright\">OpenStreetMap</a> contributors",
       "base": true,
       "max_zoom": 19,
       "min_zoom": 1,
       "name": "OpenStreetMap.Mapnik",
       "options": [
        "attribution",
        "bounds",
        "detect_retina",
        "max_native_zoom",
        "max_zoom",
        "min_native_zoom",
        "min_zoom",
        "no_wrap",
        "tile_size",
        "tms"
       ],
       "url": "https://a.tile.openstreetmap.org/{z}/{x}/{y}.png"
      }
     },
     "8b383fe2b8b24398b40c6357d96dff59": {
      "model_module": "jupyter-leaflet",
      "model_module_version": "^0.17.0",
      "model_name": "LeafletZoomControlModel",
      "state": {
       "_model_module_version": "^0.17.0",
       "_view_module_version": "^0.17.0",
       "options": [
        "position",
        "zoom_in_text",
        "zoom_in_title",
        "zoom_out_text",
        "zoom_out_title"
       ]
      }
     },
     "9145ea6c8242464f9878179d45fe05ac": {
      "model_module": "@jupyter-widgets/base",
      "model_module_version": "1.2.0",
      "model_name": "LayoutModel",
      "state": {}
     },
     "9157db1ac62f4527bfe69b0f6416bc31": {
      "model_module": "jupyter-leaflet",
      "model_module_version": "^0.17.0",
      "model_name": "LeafletMapStyleModel",
      "state": {
       "_model_module_version": "^0.17.0"
      }
     },
     "a08c4e687d094250b12ade9c870aeb74": {
      "model_module": "jupyter-leaflet",
      "model_module_version": "^0.17.0",
      "model_name": "LeafletMapStyleModel",
      "state": {
       "_model_module_version": "^0.17.0",
       "cursor": "move"
      }
     },
     "a1a3c3800f484513b915653f349793a6": {
      "model_module": "jupyter-leaflet",
      "model_module_version": "^0.17.0",
      "model_name": "LeafletAttributionControlModel",
      "state": {
       "_model_module_version": "^0.17.0",
       "_view_module_version": "^0.17.0",
       "options": [
        "position",
        "prefix"
       ],
       "position": "bottomright",
       "prefix": "ipyleaflet"
      }
     },
     "a27a83c460694621a45c0a7dc32644e4": {
      "model_module": "jupyter-leaflet",
      "model_module_version": "^0.17.0",
      "model_name": "LeafletFullScreenControlModel",
      "state": {
       "_model_module_version": "^0.17.0",
       "_view_module_version": "^0.17.0",
       "options": [
        "position"
       ]
      }
     },
     "acf6274dcd8c43f49c453fc5f83edd08": {
      "model_module": "jupyter-leaflet",
      "model_module_version": "^0.17.0",
      "model_name": "LeafletZoomControlModel",
      "state": {
       "_model_module_version": "^0.17.0",
       "_view_module_version": "^0.17.0",
       "options": [
        "position",
        "zoom_in_text",
        "zoom_in_title",
        "zoom_out_text",
        "zoom_out_title"
       ]
      }
     },
     "b089fe861d4e4975a1429e02bab4f372": {
      "model_module": "jupyter-leaflet",
      "model_module_version": "^0.17.0",
      "model_name": "LeafletWMSLayerModel",
      "state": {
       "_model_module_version": "^0.17.0",
       "_view_module_version": "^0.17.0",
       "attribution": "Weather data © 2012 IEM Nexrad",
       "crs": {
        "custom": false,
        "name": "EPSG3857"
       },
       "format": "image/png",
       "layers": "nexrad-n0r-wmst",
       "options": [
        "attribution",
        "bounds",
        "detect_retina",
        "format",
        "layers",
        "max_native_zoom",
        "max_zoom",
        "min_native_zoom",
        "min_zoom",
        "no_wrap",
        "styles",
        "tile_size",
        "time",
        "tms",
        "transparent",
        "uppercase"
       ],
       "time": "2020-07-25T13:00:00Z",
       "transparent": true,
       "url": "https://mesonet.agron.iastate.edu/cgi-bin/wms/nexrad/n0r-t.cgi?"
      }
     },
     "b2d9ad5663ac4057a7503c8984743281": {
      "model_module": "@jupyter-widgets/controls",
      "model_module_version": "1.5.0",
      "model_name": "SelectionSliderModel",
      "state": {
       "_options_labels": [
        "13:00",
        "13:30",
        "14:00",
        "14:30",
        "15:00",
        "15:30",
        "16:00",
        "16:30",
        "17:00",
        "17:30",
        "18:00",
        "18:30"
       ],
       "description": "Time:",
       "index": 0,
       "layout": "IPY_MODEL_9145ea6c8242464f9878179d45fe05ac",
       "style": "IPY_MODEL_349f97408048461b9670a35bc0737d9b"
      }
     },
     "b82a3caaae1a4c3c81822cdf797e83aa": {
      "model_module": "jupyter-leaflet",
      "model_module_version": "^0.17.0",
      "model_name": "LeafletAttributionControlModel",
      "state": {
       "_model_module_version": "^0.17.0",
       "_view_module_version": "^0.17.0",
       "options": [
        "position",
        "prefix"
       ],
       "position": "bottomright",
       "prefix": "ipyleaflet"
      }
     },
     "b959095f660a4706b39a374ef9e8a58f": {
      "model_module": "@jupyter-widgets/base",
      "model_module_version": "1.2.0",
      "model_name": "LayoutModel",
      "state": {}
     },
     "c2d176a4fc134fca9a5a357b84179377": {
      "model_module": "@jupyter-widgets/base",
      "model_module_version": "1.2.0",
      "model_name": "LayoutModel",
      "state": {}
     },
     "e5a3f495215e464fa550c4b78430b620": {
      "model_module": "jupyter-leaflet",
      "model_module_version": "^0.17.0",
      "model_name": "LeafletZoomControlModel",
      "state": {
       "_model_module_version": "^0.17.0",
       "_view_module_version": "^0.17.0",
       "options": [
        "position",
        "zoom_in_text",
        "zoom_in_title",
        "zoom_out_text",
        "zoom_out_title"
       ]
      }
     },
     "e5dcfc614c134baab7e2fb4904593c4f": {
      "model_module": "jupyter-leaflet",
      "model_module_version": "^0.17.0",
      "model_name": "LeafletMapStyleModel",
      "state": {
       "_model_module_version": "^0.17.0",
       "cursor": "move"
      }
     },
     "e60bd95cf7d14ef7a0b5f1042f62889a": {
      "model_module": "jupyter-leaflet",
      "model_module_version": "^0.17.0",
      "model_name": "LeafletMapStyleModel",
      "state": {
       "_model_module_version": "^0.17.0"
      }
     },
     "ed339b4b8b6542a68bb8d9d7899e4e7f": {
      "model_module": "jupyter-leaflet",
      "model_module_version": "^0.17.0",
      "model_name": "LeafletZoomControlModel",
      "state": {
       "_model_module_version": "^0.17.0",
       "_view_module_version": "^0.17.0",
       "options": [
        "position",
        "zoom_in_text",
        "zoom_in_title",
        "zoom_out_text",
        "zoom_out_title"
       ]
      }
     },
     "ee6081535cc84bf1ba3eb07db6f848fa": {
      "model_module": "jupyter-leaflet",
      "model_module_version": "^0.17.0",
      "model_name": "LeafletTileLayerModel",
      "state": {
       "_model_module_version": "^0.17.0",
       "_view_module_version": "^0.17.0",
       "attribution": "&copy; <a href=\"https://www.openstreetmap.org/copyright\">OpenStreetMap</a> contributors",
       "base": true,
       "max_zoom": 19,
       "min_zoom": 1,
       "name": "OpenStreetMap.Mapnik",
       "options": [
        "attribution",
        "bounds",
        "detect_retina",
        "max_native_zoom",
        "max_zoom",
        "min_native_zoom",
        "min_zoom",
        "no_wrap",
        "tile_size",
        "tms"
       ],
       "url": "https://a.tile.openstreetmap.org/{z}/{x}/{y}.png"
      }
     },
     "f33e994eb85045ef8508baea9f3adbb6": {
      "model_module": "jupyter-leaflet",
      "model_module_version": "^0.17.0",
      "model_name": "LeafletMapStyleModel",
      "state": {
       "_model_module_version": "^0.17.0"
      }
     },
     "f3b09e5594ee449faed5b2cef3bb3bf0": {
      "model_module": "jupyter-leaflet",
      "model_module_version": "^0.17.0",
      "model_name": "LeafletTileLayerModel",
      "state": {
       "_model_module_version": "^0.17.0",
       "_view_module_version": "^0.17.0",
       "attribution": "&copy; <a href=\"https://www.openstreetmap.org/copyright\">OpenStreetMap</a> contributors &copy; <a href=\"https://carto.com/attributions\">CARTO</a>",
       "base": true,
       "max_zoom": 20,
       "min_zoom": 1,
       "name": "CartoDB.Positron",
       "options": [
        "attribution",
        "bounds",
        "detect_retina",
        "max_native_zoom",
        "max_zoom",
        "min_native_zoom",
        "min_zoom",
        "no_wrap",
        "tile_size",
        "tms"
       ],
       "url": "https://a.basemaps.cartocdn.com/light_all/{z}/{x}/{y}.png"
      }
     },
     "f58ae99b3ed0405697f6f2764f84e42f": {
      "model_module": "jupyter-leaflet",
      "model_module_version": "^0.17.0",
      "model_name": "LeafletRectangleModel",
      "state": {
       "_model_module_version": "^0.17.0",
       "_view_module_version": "^0.17.0",
       "bounds": [
        [
         38,
         -72
        ],
        [
         41,
         -69
        ]
       ],
       "draggable": false,
       "options": [
        "color",
        "dash_array",
        "draggable",
        "fill",
        "fill_color",
        "fill_opacity",
        "line_cap",
        "line_join",
        "no_clip",
        "opacity",
        "pointer_events",
        "smooth_factor",
        "stroke",
        "transform",
        "weight"
       ],
       "rotation": true,
       "scaling": true,
       "transform": false,
       "uniform_scaling": false
      }
     },
     "f7e9ea0b22ff4a10ab099af44b44265e": {
      "model_module": "jupyter-leaflet",
      "model_module_version": "^0.17.0",
      "model_name": "LeafletMapStyleModel",
      "state": {
       "_model_module_version": "^0.17.0"
      }
     }
    },
    "version_major": 2,
    "version_minor": 0
   }
  }
 },
 "nbformat": 4,
 "nbformat_minor": 4
}
