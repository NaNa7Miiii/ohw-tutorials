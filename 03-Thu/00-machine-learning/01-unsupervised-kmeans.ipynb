{
 "cells": [
  {
   "cell_type": "markdown",
   "id": "02801d73",
   "metadata": {},
   "source": [
    "# Unsupervised learning part 2: kmeans\n",
    "\n",
    "The Yellowing Index (YI) we used as \"truth\" to access our PCA was a visual classification and may contain an operator error.\n",
    "\n",
    "Because unsupervised learning methods are all about finding patterns in the data, without training a model with labels, we can \"ignore\" that and check if there are patterns in the data that matches an expected yellowing index.\n",
    "\n",
    "We saw in our PCA loading plot that the data may be aggregated in clusters. Let's check a pair plot to see those patterns are in the data."
   ]
  },
  {
   "cell_type": "code",
   "execution_count": null,
   "id": "048ff44d",
   "metadata": {},
   "outputs": [],
   "source": [
    "import pandas as pd\n",
    "\n",
    "df = pd.read_csv(\"pellets-visual-classes-rgb.csv\", index_col=\"image\").dropna()\n",
    "df[\"yellowing index\"] = df[\"yellowing index\"].astype(int)"
   ]
  },
  {
   "cell_type": "code",
   "execution_count": null,
   "id": "ade6877d",
   "metadata": {},
   "outputs": [],
   "source": [
    "import seaborn as sns\n",
    "\n",
    "sns.pairplot(df.drop([\"yellowing index\", \"erosion index\"], axis=1), hue=\"yellowing\")"
   ]
  },
  {
   "cell_type": "markdown",
   "id": "fcede9f7",
   "metadata": {},
   "source": [
    "From our pair-plot above we can see:\n",
    "- RGB and size seems to be pretty random, probably no information there;\n",
    "- R and G seems to be linear correlated with YI;\n",
    "- R and B, and G and B show some clusterization that may have predictive power on YI.\n",
    "\n",
    "Let's try the simplest form of clustering ([K-Means](https://scikit-learn.org/stable/modules/clustering.html#k-means)). We need to tell it the number of clusters to look (4 YI)."
   ]
  },
  {
   "cell_type": "markdown",
   "id": "2c2c862d",
   "metadata": {},
   "source": [
    "# Features"
   ]
  },
  {
   "cell_type": "code",
   "execution_count": null,
   "id": "755ee360",
   "metadata": {},
   "outputs": [],
   "source": [
    "feature_columns = [\"r\", \"g\", \"b\", \"size (mm)\"]\n",
    "X = df[feature_columns].values"
   ]
  },
  {
   "cell_type": "code",
   "execution_count": null,
   "id": "c4f65f48",
   "metadata": {},
   "outputs": [],
   "source": [
    "from sklearn import cluster\n",
    "\n",
    "kmeans = cluster.KMeans(n_clusters=4, random_state=0)\n",
    "kmeans.fit(X)\n",
    "cluster_labels = kmeans.predict(X)\n",
    "cluster_labels"
   ]
  },
  {
   "cell_type": "code",
   "execution_count": null,
   "id": "80c63957",
   "metadata": {},
   "outputs": [],
   "source": [
    "redux = df[feature_columns]"
   ]
  },
  {
   "cell_type": "code",
   "execution_count": null,
   "id": "a547c42a",
   "metadata": {},
   "outputs": [],
   "source": [
    "redux = redux.assign(cluster=cluster_labels)\n",
    "\n",
    "sns.pairplot(redux, hue=\"cluster\")"
   ]
  },
  {
   "cell_type": "markdown",
   "id": "66092310",
   "metadata": {},
   "source": [
    "We do get some nice clustering, even with the size. However, they don't really match our original YI. If you trust the ML 100% one could say that the operator who created our YI was wrong most of the time. We do know better though, so let's try to improve our clustering."
   ]
  },
  {
   "cell_type": "markdown",
   "id": "9ebb2f67",
   "metadata": {},
   "source": [
    "# What are we missing?"
   ]
  },
  {
   "cell_type": "code",
   "execution_count": null,
   "id": "5701ae19",
   "metadata": {},
   "outputs": [],
   "source": [
    "redux[feature_columns].mean(axis=0)"
   ]
  },
  {
   "cell_type": "code",
   "execution_count": null,
   "id": "bdac3735",
   "metadata": {},
   "outputs": [],
   "source": [
    "redux[feature_columns].std(axis=0)"
   ]
  },
  {
   "cell_type": "markdown",
   "id": "87a9ffda",
   "metadata": {},
   "source": [
    "We did not standardize the data! Instead of rolling our own z-score we can use scikit-learn's own preprocessing module. That will come in handy later when creating data processing pipelines."
   ]
  },
  {
   "cell_type": "code",
   "execution_count": null,
   "id": "7cc4fca9",
   "metadata": {},
   "outputs": [],
   "source": [
    "from sklearn import preprocessing\n",
    "\n",
    "scaler = preprocessing.StandardScaler()\n",
    "scaler.fit(X)\n",
    "X_scaled = scaler.transform(X)"
   ]
  },
  {
   "cell_type": "code",
   "execution_count": null,
   "id": "49f7d653",
   "metadata": {},
   "outputs": [],
   "source": [
    "X_scaled.mean(axis=0)"
   ]
  },
  {
   "cell_type": "code",
   "execution_count": null,
   "id": "42bd01e9",
   "metadata": {},
   "outputs": [],
   "source": [
    "X_scaled.std(axis=0)"
   ]
  },
  {
   "cell_type": "code",
   "execution_count": null,
   "id": "76b8f678",
   "metadata": {},
   "outputs": [],
   "source": [
    "kmeans.fit(X_scaled)\n",
    "\n",
    "cluster_labels_scaled = kmeans.predict(X_scaled)"
   ]
  },
  {
   "cell_type": "code",
   "execution_count": null,
   "id": "94c45ae2",
   "metadata": {},
   "outputs": [],
   "source": [
    "redux = redux.assign(cluster=cluster_labels_scaled)\n",
    "\n",
    "sns.pairplot(redux, hue=\"cluster\", vars=feature_columns)"
   ]
  },
  {
   "cell_type": "markdown",
   "id": "4f6b3042",
   "metadata": {},
   "source": [
    "While this seems closer to our YI, ignoring the clustering on size b/c originally that was mostly random, it is hard to make visual comparison. Let's trust our YI operator again and compute some metrics on how these clusters compare with the YI."
   ]
  },
  {
   "cell_type": "code",
   "execution_count": null,
   "id": "b8480d37",
   "metadata": {},
   "outputs": [],
   "source": [
    "from sklearn import metrics\n",
    "\n",
    "y = df[\"yellowing index\"].values\n",
    "metrics.accuracy_score(y, redux[\"cluster\"])"
   ]
  },
  {
   "cell_type": "markdown",
   "id": "5fd69876",
   "metadata": {},
   "source": [
    "# ⚠️Negative Results Alert⚠️\n",
    "\n",
    "\n",
    "Even if we distrust most of the YI from the human operator this cluster-YI comparison is terrible!\n",
    "\n",
    "ML is very helpful but it is not a silver bullet! If you have a Werewolf problem, ML won't help!\n",
    "\n",
    "Our features are correlated and there is some overlapping. That may require either a different technique or gather more data from a different feature.\n",
    "\n",
    "Still, we learned a bit about the data and we should always start with the simplest model and check the results before trying something more complex.\n",
    "\n",
    "This tutorial was based on the awesome https://github.com/leouieda/ml-intro, which has a nicer result and Penguins! Check that one out!!"
   ]
  }
 ],
 "metadata": {
  "kernelspec": {
   "display_name": "Python 3 (ipykernel)",
   "language": "python",
   "name": "python3"
  },
  "language_info": {
   "codemirror_mode": {
    "name": "ipython",
    "version": 3
   },
   "file_extension": ".py",
   "mimetype": "text/x-python",
   "name": "python",
   "nbconvert_exporter": "python",
   "pygments_lexer": "ipython3",
   "version": "3.10.5"
  }
 },
 "nbformat": 4,
 "nbformat_minor": 5
}
