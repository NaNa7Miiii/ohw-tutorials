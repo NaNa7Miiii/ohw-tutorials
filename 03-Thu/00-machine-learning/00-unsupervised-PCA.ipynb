{
 "cells": [
  {
   "cell_type": "markdown",
   "id": "ea0786c2",
   "metadata": {
    "slideshow": {
     "slide_type": "slide"
    }
   },
   "source": [
    "# A quick introduction to machine learning\n",
    "\n",
    "\n",
    "- These notebooks are a brief, hands-on, introduction to machine learning.\n",
    "- We will revise some of the nomenclature, principles, and applications from Valentina's presentation."
   ]
  },
  {
   "cell_type": "markdown",
   "id": "2a4c4301",
   "metadata": {
    "slideshow": {
     "slide_type": "slide"
    }
   },
   "source": [
    "## ML will solve all of our problems, right?\n",
    "\n",
    "![](cow.jpg)"
   ]
  },
  {
   "cell_type": "markdown",
   "id": "987fda81",
   "metadata": {
    "slideshow": {
     "slide_type": "slide"
    }
   },
   "source": [
    "## What is Machine Learning (ML)?\n",
    "\n",
    "**Caveat:** I'm not a Statistician, Mathematician, or ML expert. I only play one online. You can find my work on movies and plays like \"How to get by with little to no data\" or \"Oh gosh, the PI wants some buzz-words in the report\" and \"Fuzzy logic no longer does it, we need ML &rarr; AI &rarr; DL\"\n",
    "\n",
    "What is ML (a personal point of view):\n",
    "\n",
    "* Focus on practical problems\n",
    "* Learn from the data and/or make predictions with it\n",
    "* Middle ground between statistics and optimization techniques\n",
    "* We have fast computers now, right? Let them do the work! ([Must see JVP talk on this](https://www.youtube.com/watch?app=desktop&v=Iq9DzN6mvYA).)"
   ]
  },
  {
   "cell_type": "markdown",
   "id": "00cc5ce5",
   "metadata": {
    "slideshow": {
     "slide_type": "slide"
    }
   },
   "source": [
    "**Oversimplified take:** Fit a model to data and use it to make predictions. (This is how scikit-learn designed its API BTW)."
   ]
  },
  {
   "cell_type": "markdown",
   "id": "b2cf395e",
   "metadata": {
    "slideshow": {
     "slide_type": "slide"
    }
   },
   "source": [
    "## Vocabulary \n",
    "\n",
    "\n",
    "- **parameters:** Variables that define the model and control its behavior.\n",
    "\n",
    "- **model:** Set of mathematical equations used to approximate the data.\n",
    "\n",
    "- **labels/classes:** Quantity/category that we want to predict\n",
    "\n",
    "- **features:** Observations (information) used as predictors of labels/classes.\n",
    "\n",
    "- **training:** Use **features** and known **labels/classes** to fit the **model** estimate its **parameters** (full circle, right? But why stop now?)."
   ]
  },
  {
   "cell_type": "markdown",
   "id": "ed4313fa",
   "metadata": {
    "slideshow": {
     "slide_type": "slide"
    }
   },
   "source": [
    "- **hyper-parameters:** Variables that influence the **training** and the **model** but are not estimated during training.\n",
    "- **unsupervised learning:** Extract information and structure from the data without **training** with known **labels**. We will see clustering, and Principal Component Analysis (PCA).\n",
    "\n",
    "- **supervised learning:** Fit a model using data to \"train\" it for making predictions. Examples: regression, classification, spam detection, recommendation systems. We'll see KNN, a classification type of ML in this tutorial."
   ]
  },
  {
   "cell_type": "markdown",
   "id": "97fe276c",
   "metadata": {
    "slideshow": {
     "slide_type": "slide"
    }
   },
   "source": [
    "## Unsupervised: PCA\n",
    "\n",
    "The dataset we will use was consists of Red, Green, Blue composites (**parameters**) from plastic pellets photos. We also have some extra information on the pellet size, shape, etc.\n",
    "\n",
    "The **labels** are the yellowing index. The goal is to predict the yellowing based the pellets image, broken down to its RGB info."
   ]
  },
  {
   "cell_type": "code",
   "execution_count": 1,
   "id": "6f449af4",
   "metadata": {
    "slideshow": {
     "slide_type": "skip"
    }
   },
   "outputs": [],
   "source": [
    "import pandas as pd"
   ]
  },
  {
   "cell_type": "code",
   "execution_count": 2,
   "id": "048ff44d",
   "metadata": {
    "slideshow": {
     "slide_type": "slide"
    }
   },
   "outputs": [
    {
     "data": {
      "text/html": [
       "<div>\n",
       "<style scoped>\n",
       "    .dataframe tbody tr th:only-of-type {\n",
       "        vertical-align: middle;\n",
       "    }\n",
       "\n",
       "    .dataframe tbody tr th {\n",
       "        vertical-align: top;\n",
       "    }\n",
       "\n",
       "    .dataframe thead th {\n",
       "        text-align: right;\n",
       "    }\n",
       "</style>\n",
       "<table border=\"1\" class=\"dataframe\">\n",
       "  <thead>\n",
       "    <tr style=\"text-align: right;\">\n",
       "      <th></th>\n",
       "      <th>r</th>\n",
       "      <th>g</th>\n",
       "      <th>b</th>\n",
       "      <th>size (mm)</th>\n",
       "      <th>color</th>\n",
       "      <th>description</th>\n",
       "      <th>erosion</th>\n",
       "      <th>erosion index</th>\n",
       "      <th>yellowing</th>\n",
       "      <th>yellowing index</th>\n",
       "    </tr>\n",
       "    <tr>\n",
       "      <th>image</th>\n",
       "      <th></th>\n",
       "      <th></th>\n",
       "      <th></th>\n",
       "      <th></th>\n",
       "      <th></th>\n",
       "      <th></th>\n",
       "      <th></th>\n",
       "      <th></th>\n",
       "      <th></th>\n",
       "      <th></th>\n",
       "    </tr>\n",
       "  </thead>\n",
       "  <tbody>\n",
       "    <tr>\n",
       "      <th>cl1_p11_moca2_deixa5_a0001</th>\n",
       "      <td>152</td>\n",
       "      <td>150</td>\n",
       "      <td>143</td>\n",
       "      <td>4.021</td>\n",
       "      <td>transparent</td>\n",
       "      <td>sphere</td>\n",
       "      <td>high erosion</td>\n",
       "      <td>3</td>\n",
       "      <td>low</td>\n",
       "      <td>1</td>\n",
       "    </tr>\n",
       "    <tr>\n",
       "      <th>cl1_p12_lagoinha_deixa1_g0006</th>\n",
       "      <td>221</td>\n",
       "      <td>218</td>\n",
       "      <td>219</td>\n",
       "      <td>4.244</td>\n",
       "      <td>white</td>\n",
       "      <td>light erosion</td>\n",
       "      <td>low erosion</td>\n",
       "      <td>1</td>\n",
       "      <td>low</td>\n",
       "      <td>1</td>\n",
       "    </tr>\n",
       "    <tr>\n",
       "      <th>cl1_p12_lagoinha_deixa1_g0007</th>\n",
       "      <td>140</td>\n",
       "      <td>137</td>\n",
       "      <td>129</td>\n",
       "      <td>3.946</td>\n",
       "      <td>white</td>\n",
       "      <td>not erosion</td>\n",
       "      <td>low erosion</td>\n",
       "      <td>1</td>\n",
       "      <td>low</td>\n",
       "      <td>1</td>\n",
       "    </tr>\n",
       "    <tr>\n",
       "      <th>cl1_p12_lagoinha_deixa1_g0008</th>\n",
       "      <td>188</td>\n",
       "      <td>178</td>\n",
       "      <td>146</td>\n",
       "      <td>3.948</td>\n",
       "      <td>white</td>\n",
       "      <td>moderate erosion</td>\n",
       "      <td>high erosion</td>\n",
       "      <td>3</td>\n",
       "      <td>moderate</td>\n",
       "      <td>2</td>\n",
       "    </tr>\n",
       "    <tr>\n",
       "      <th>cl1_p12_lagoinha_deixa2_h0004</th>\n",
       "      <td>207</td>\n",
       "      <td>200</td>\n",
       "      <td>189</td>\n",
       "      <td>6.043</td>\n",
       "      <td>white</td>\n",
       "      <td>light erosion</td>\n",
       "      <td>low erosion</td>\n",
       "      <td>1</td>\n",
       "      <td>moderate</td>\n",
       "      <td>2</td>\n",
       "    </tr>\n",
       "    <tr>\n",
       "      <th>...</th>\n",
       "      <td>...</td>\n",
       "      <td>...</td>\n",
       "      <td>...</td>\n",
       "      <td>...</td>\n",
       "      <td>...</td>\n",
       "      <td>...</td>\n",
       "      <td>...</td>\n",
       "      <td>...</td>\n",
       "      <td>...</td>\n",
       "      <td>...</td>\n",
       "    </tr>\n",
       "    <tr>\n",
       "      <th>cl1_p6_moca2_deixa3_a0006</th>\n",
       "      <td>186</td>\n",
       "      <td>193</td>\n",
       "      <td>155</td>\n",
       "      <td>4.546</td>\n",
       "      <td>transparent</td>\n",
       "      <td>cylinder</td>\n",
       "      <td>moderate erosion</td>\n",
       "      <td>2</td>\n",
       "      <td>low</td>\n",
       "      <td>1</td>\n",
       "    </tr>\n",
       "    <tr>\n",
       "      <th>cl1_p8_moca2_deixa5_b0001</th>\n",
       "      <td>169</td>\n",
       "      <td>168</td>\n",
       "      <td>106</td>\n",
       "      <td>3.082</td>\n",
       "      <td>transparent</td>\n",
       "      <td>sphere</td>\n",
       "      <td>low erosion</td>\n",
       "      <td>1</td>\n",
       "      <td>low</td>\n",
       "      <td>1</td>\n",
       "    </tr>\n",
       "    <tr>\n",
       "      <th>cl1_p8_moca2_deixa5_b0003</th>\n",
       "      <td>191</td>\n",
       "      <td>189</td>\n",
       "      <td>152</td>\n",
       "      <td>3.932</td>\n",
       "      <td>white</td>\n",
       "      <td>sphere</td>\n",
       "      <td>low erosion</td>\n",
       "      <td>1</td>\n",
       "      <td>low</td>\n",
       "      <td>1</td>\n",
       "    </tr>\n",
       "    <tr>\n",
       "      <th>cl1_p8_moca2_deixa5_b0004</th>\n",
       "      <td>181</td>\n",
       "      <td>156</td>\n",
       "      <td>70</td>\n",
       "      <td>3.230</td>\n",
       "      <td>white</td>\n",
       "      <td>sphere</td>\n",
       "      <td>moderate erosion</td>\n",
       "      <td>3</td>\n",
       "      <td>moderate</td>\n",
       "      <td>2</td>\n",
       "    </tr>\n",
       "    <tr>\n",
       "      <th>cl1_p9_moca2_deixa5_b0001</th>\n",
       "      <td>193</td>\n",
       "      <td>192</td>\n",
       "      <td>198</td>\n",
       "      <td>3.763</td>\n",
       "      <td>transparent</td>\n",
       "      <td>sphere</td>\n",
       "      <td>high erosion</td>\n",
       "      <td>3</td>\n",
       "      <td>low</td>\n",
       "      <td>1</td>\n",
       "    </tr>\n",
       "  </tbody>\n",
       "</table>\n",
       "<p>127 rows × 10 columns</p>\n",
       "</div>"
      ],
      "text/plain": [
       "                                 r    g    b  size (mm)        color  \\\n",
       "image                                                                  \n",
       "cl1_p11_moca2_deixa5_a0001     152  150  143      4.021  transparent   \n",
       "cl1_p12_lagoinha_deixa1_g0006  221  218  219      4.244        white   \n",
       "cl1_p12_lagoinha_deixa1_g0007  140  137  129      3.946        white   \n",
       "cl1_p12_lagoinha_deixa1_g0008  188  178  146      3.948        white   \n",
       "cl1_p12_lagoinha_deixa2_h0004  207  200  189      6.043        white   \n",
       "...                            ...  ...  ...        ...          ...   \n",
       "cl1_p6_moca2_deixa3_a0006      186  193  155      4.546  transparent   \n",
       "cl1_p8_moca2_deixa5_b0001      169  168  106      3.082  transparent   \n",
       "cl1_p8_moca2_deixa5_b0003      191  189  152      3.932        white   \n",
       "cl1_p8_moca2_deixa5_b0004      181  156   70      3.230        white   \n",
       "cl1_p9_moca2_deixa5_b0001      193  192  198      3.763  transparent   \n",
       "\n",
       "                                    description           erosion  \\\n",
       "image                                                               \n",
       "cl1_p11_moca2_deixa5_a0001               sphere      high erosion   \n",
       "cl1_p12_lagoinha_deixa1_g0006     light erosion       low erosion   \n",
       "cl1_p12_lagoinha_deixa1_g0007       not erosion       low erosion   \n",
       "cl1_p12_lagoinha_deixa1_g0008  moderate erosion      high erosion   \n",
       "cl1_p12_lagoinha_deixa2_h0004     light erosion       low erosion   \n",
       "...                                         ...               ...   \n",
       "cl1_p6_moca2_deixa3_a0006              cylinder  moderate erosion   \n",
       "cl1_p8_moca2_deixa5_b0001                sphere       low erosion   \n",
       "cl1_p8_moca2_deixa5_b0003                sphere       low erosion   \n",
       "cl1_p8_moca2_deixa5_b0004                sphere  moderate erosion   \n",
       "cl1_p9_moca2_deixa5_b0001                sphere      high erosion   \n",
       "\n",
       "                               erosion index yellowing  yellowing index  \n",
       "image                                                                    \n",
       "cl1_p11_moca2_deixa5_a0001                 3       low                1  \n",
       "cl1_p12_lagoinha_deixa1_g0006              1       low                1  \n",
       "cl1_p12_lagoinha_deixa1_g0007              1       low                1  \n",
       "cl1_p12_lagoinha_deixa1_g0008              3  moderate                2  \n",
       "cl1_p12_lagoinha_deixa2_h0004              1  moderate                2  \n",
       "...                                      ...       ...              ...  \n",
       "cl1_p6_moca2_deixa3_a0006                  2       low                1  \n",
       "cl1_p8_moca2_deixa5_b0001                  1       low                1  \n",
       "cl1_p8_moca2_deixa5_b0003                  1       low                1  \n",
       "cl1_p8_moca2_deixa5_b0004                  3  moderate                2  \n",
       "cl1_p9_moca2_deixa5_b0001                  3       low                1  \n",
       "\n",
       "[127 rows x 10 columns]"
      ]
     },
     "execution_count": 2,
     "metadata": {},
     "output_type": "execute_result"
    }
   ],
   "source": [
    "df = pd.read_csv(\"pellets-visual-classes-rgb.csv\", index_col=\"image\").dropna()\n",
    "df[\"yellowing index\"] = df[\"yellowing index\"].astype(int)\n",
    "df"
   ]
  },
  {
   "cell_type": "code",
   "execution_count": 3,
   "id": "121bde11",
   "metadata": {
    "slideshow": {
     "slide_type": "slide"
    }
   },
   "outputs": [],
   "source": [
    "import matplotlib.pyplot as plt\n",
    "\n",
    "def histograms():\n",
    "    fig, axes = plt.subplots(figsize=(11, 11), nrows=2, ncols=2)\n",
    "\n",
    "    axes = axes.ravel()\n",
    "\n",
    "    df[\"erosion\"].value_counts().plot.barh(ax=axes[0], title=\"erosion\")\n",
    "    df[\"color\"].value_counts().plot.barh(ax=axes[1], title=\"color\")\n",
    "    df[\"description\"].value_counts().plot.barh(ax=axes[2], title=\"description\")\n",
    "    df[\"yellowing\"].value_counts().plot.barh(ax=axes[3], title=\"yellowing\")\n",
    "\n",
    "    axes[1].yaxis.set_label_position(\"right\")\n",
    "    axes[1].yaxis.tick_right()\n",
    "\n",
    "    axes[3].yaxis.set_label_position(\"right\")\n",
    "    axes[3].yaxis.tick_right()"
   ]
  },
  {
   "cell_type": "code",
   "execution_count": 4,
   "id": "5f6c5a63",
   "metadata": {
    "slideshow": {
     "slide_type": "slide"
    }
   },
   "outputs": [
    {
     "data": {
      "image/png": "[encoded data removed]",
      "text/plain": [
       "<Figure size 1100x1100 with 4 Axes>"
      ]
     },
     "metadata": {},
     "output_type": "display_data"
    }
   ],
   "source": [
    "histograms();"
   ]
  },
  {
   "cell_type": "markdown",
   "id": "d00fb82b",
   "metadata": {
    "slideshow": {
     "slide_type": "slide"
    }
   },
   "source": [
    "We will be using only the R, G, B data for now."
   ]
  },
  {
   "cell_type": "code",
   "execution_count": 5,
   "id": "82ef1547",
   "metadata": {
    "slideshow": {
     "slide_type": "fragment"
    }
   },
   "outputs": [],
   "source": [
    "RGB = df[[\"r\", \"g\", \"b\"]]"
   ]
  },
  {
   "cell_type": "code",
   "execution_count": 6,
   "id": "9c3c0700",
   "metadata": {
    "slideshow": {
     "slide_type": "slide"
    }
   },
   "outputs": [
    {
     "data": {
      "image/png": "[encoded data removed]",
      "text/plain": [
       "<Figure size 640x480 with 2 Axes>"
      ]
     },
     "metadata": {},
     "output_type": "display_data"
    }
   ],
   "source": [
    "import numpy as np\n",
    "import seaborn\n",
    "\n",
    "corr = RGB.corr()\n",
    "\n",
    "seaborn.heatmap(corr, vmin=-1, vmax=1, annot=True);"
   ]
  },
  {
   "cell_type": "markdown",
   "id": "614f713c",
   "metadata": {
    "slideshow": {
     "slide_type": "slide"
    }
   },
   "source": [
    "The first step to most ML techniques is to standardize the data. We do not want high variance data to bias our model."
   ]
  },
  {
   "cell_type": "code",
   "execution_count": 7,
   "id": "9dd44aa7",
   "metadata": {
    "slideshow": {
     "slide_type": "slide"
    }
   },
   "outputs": [
    {
     "data": {
      "text/plain": [
       "r    1.0\n",
       "g    1.0\n",
       "b    1.0\n",
       "dtype: float64"
      ]
     },
     "execution_count": 7,
     "metadata": {},
     "output_type": "execute_result"
    }
   ],
   "source": [
    "def z_score(x):\n",
    "    return (x - x.mean()) / x.std()\n",
    "\n",
    "\n",
    "zs = RGB.apply(z_score).T\n",
    "\n",
    "zs.std(axis=1)  # Should be 1"
   ]
  },
  {
   "cell_type": "code",
   "execution_count": 8,
   "id": "9a5930af",
   "metadata": {
    "slideshow": {
     "slide_type": "slide"
    }
   },
   "outputs": [
    {
     "data": {
      "text/plain": [
       "r    2.928541e-16\n",
       "g    3.916377e-16\n",
       "b   -9.616105e-17\n",
       "dtype: float64"
      ]
     },
     "execution_count": 8,
     "metadata": {},
     "output_type": "execute_result"
    }
   ],
   "source": [
    "zs.mean(axis=1)  # Should be zero"
   ]
  },
  {
   "cell_type": "code",
   "execution_count": 9,
   "id": "82f65e58",
   "metadata": {
    "slideshow": {
     "slide_type": "slide"
    }
   },
   "outputs": [
    {
     "data": {
      "text/html": [
       "<style>#sk-container-id-1 {color: black;background-color: white;}#sk-container-id-1 pre{padding: 0;}#sk-container-id-1 div.sk-toggleable {background-color: white;}#sk-container-id-1 label.sk-toggleable__label {cursor: pointer;display: block;width: 100%;margin-bottom: 0;padding: 0.3em;box-sizing: border-box;text-align: center;}#sk-container-id-1 label.sk-toggleable__label-arrow:before {content: \"▸\";float: left;margin-right: 0.25em;color: #696969;}#sk-container-id-1 label.sk-toggleable__label-arrow:hover:before {color: black;}#sk-container-id-1 div.sk-estimator:hover label.sk-toggleable__label-arrow:before {color: black;}#sk-container-id-1 div.sk-toggleable__content {max-height: 0;max-width: 0;overflow: hidden;text-align: left;background-color: #f0f8ff;}#sk-container-id-1 div.sk-toggleable__content pre {margin: 0.2em;color: black;border-radius: 0.25em;background-color: #f0f8ff;}#sk-container-id-1 input.sk-toggleable__control:checked~div.sk-toggleable__content {max-height: 200px;max-width: 100%;overflow: auto;}#sk-container-id-1 input.sk-toggleable__control:checked~label.sk-toggleable__label-arrow:before {content: \"▾\";}#sk-container-id-1 div.sk-estimator input.sk-toggleable__control:checked~label.sk-toggleable__label {background-color: #d4ebff;}#sk-container-id-1 div.sk-label input.sk-toggleable__control:checked~label.sk-toggleable__label {background-color: #d4ebff;}#sk-container-id-1 input.sk-hidden--visually {border: 0;clip: rect(1px 1px 1px 1px);clip: rect(1px, 1px, 1px, 1px);height: 1px;margin: -1px;overflow: hidden;padding: 0;position: absolute;width: 1px;}#sk-container-id-1 div.sk-estimator {font-family: monospace;background-color: #f0f8ff;border: 1px dotted black;border-radius: 0.25em;box-sizing: border-box;margin-bottom: 0.5em;}#sk-container-id-1 div.sk-estimator:hover {background-color: #d4ebff;}#sk-container-id-1 div.sk-parallel-item::after {content: \"\";width: 100%;border-bottom: 1px solid gray;flex-grow: 1;}#sk-container-id-1 div.sk-label:hover label.sk-toggleable__label {background-color: #d4ebff;}#sk-container-id-1 div.sk-serial::before {content: \"\";position: absolute;border-left: 1px solid gray;box-sizing: border-box;top: 0;bottom: 0;left: 50%;z-index: 0;}#sk-container-id-1 div.sk-serial {display: flex;flex-direction: column;align-items: center;background-color: white;padding-right: 0.2em;padding-left: 0.2em;position: relative;}#sk-container-id-1 div.sk-item {position: relative;z-index: 1;}#sk-container-id-1 div.sk-parallel {display: flex;align-items: stretch;justify-content: center;background-color: white;position: relative;}#sk-container-id-1 div.sk-item::before, #sk-container-id-1 div.sk-parallel-item::before {content: \"\";position: absolute;border-left: 1px solid gray;box-sizing: border-box;top: 0;bottom: 0;left: 50%;z-index: -1;}#sk-container-id-1 div.sk-parallel-item {display: flex;flex-direction: column;z-index: 1;position: relative;background-color: white;}#sk-container-id-1 div.sk-parallel-item:first-child::after {align-self: flex-end;width: 50%;}#sk-container-id-1 div.sk-parallel-item:last-child::after {align-self: flex-start;width: 50%;}#sk-container-id-1 div.sk-parallel-item:only-child::after {width: 0;}#sk-container-id-1 div.sk-dashed-wrapped {border: 1px dashed gray;margin: 0 0.4em 0.5em 0.4em;box-sizing: border-box;padding-bottom: 0.4em;background-color: white;}#sk-container-id-1 div.sk-label label {font-family: monospace;font-weight: bold;display: inline-block;line-height: 1.2em;}#sk-container-id-1 div.sk-label-container {text-align: center;}#sk-container-id-1 div.sk-container {/* jupyter's `normalize.less` sets `[hidden] { display: none; }` but bootstrap.min.css set `[hidden] { display: none !important; }` so we also need the `!important` here to be able to override the default hidden behavior on the sphinx rendered scikit-learn.org. See: https://github.com/scikit-learn/scikit-learn/issues/21755 */display: inline-block !important;position: relative;}#sk-container-id-1 div.sk-text-repr-fallback {display: none;}</style><div id=\"sk-container-id-1\" class=\"sk-top-container\"><div class=\"sk-text-repr-fallback\"><pre>PCA()</pre><b>In a Jupyter environment, please rerun this cell to show the HTML representation or trust the notebook. <br />On GitHub, the HTML representation is unable to render, please try loading this page with nbviewer.org.</b></div><div class=\"sk-container\" hidden><div class=\"sk-item\"><div class=\"sk-estimator sk-toggleable\"><input class=\"sk-toggleable__control sk-hidden--visually\" id=\"sk-estimator-id-1\" type=\"checkbox\" checked><label for=\"sk-estimator-id-1\" class=\"sk-toggleable__label sk-toggleable__label-arrow\">PCA</label><div class=\"sk-toggleable__content\"><pre>PCA()</pre></div></div></div></div></div>"
      ],
      "text/plain": [
       "PCA()"
      ]
     },
     "execution_count": 9,
     "metadata": {},
     "output_type": "execute_result"
    }
   ],
   "source": [
    "from sklearn.decomposition import PCA\n",
    "\n",
    "pca = PCA(n_components=None)\n",
    "pca.fit(zs)"
   ]
  },
  {
   "cell_type": "markdown",
   "id": "41df5061",
   "metadata": {
    "slideshow": {
     "slide_type": "slide"
    }
   },
   "source": [
    "The pca object, or fitted model, was designed before pandas existed and it is based on numpy arrays. We can do better nowadays and add meaningful labels to it."
   ]
  },
  {
   "cell_type": "code",
   "execution_count": 10,
   "id": "1f8a6e3a",
   "metadata": {
    "slideshow": {
     "slide_type": "slide"
    }
   },
   "outputs": [
    {
     "data": {
      "text/html": [
       "<div>\n",
       "<style scoped>\n",
       "    .dataframe tbody tr th:only-of-type {\n",
       "        vertical-align: middle;\n",
       "    }\n",
       "\n",
       "    .dataframe tbody tr th {\n",
       "        vertical-align: top;\n",
       "    }\n",
       "\n",
       "    .dataframe thead th {\n",
       "        text-align: right;\n",
       "    }\n",
       "</style>\n",
       "<table border=\"1\" class=\"dataframe\">\n",
       "  <thead>\n",
       "    <tr style=\"text-align: right;\">\n",
       "      <th></th>\n",
       "      <th>TS 1</th>\n",
       "      <th>TS 2</th>\n",
       "      <th>TS 3</th>\n",
       "    </tr>\n",
       "  </thead>\n",
       "  <tbody>\n",
       "    <tr>\n",
       "      <th>PC 1</th>\n",
       "      <td>0.106617</td>\n",
       "      <td>-0.020035</td>\n",
       "      <td>0.798683</td>\n",
       "    </tr>\n",
       "    <tr>\n",
       "      <th>PC 2</th>\n",
       "      <td>0.038558</td>\n",
       "      <td>-0.015377</td>\n",
       "      <td>0.209504</td>\n",
       "    </tr>\n",
       "    <tr>\n",
       "      <th>PC 3</th>\n",
       "      <td>0.118255</td>\n",
       "      <td>-0.029110</td>\n",
       "      <td>0.046632</td>\n",
       "    </tr>\n",
       "    <tr>\n",
       "      <th>PC 4</th>\n",
       "      <td>0.032419</td>\n",
       "      <td>-0.036895</td>\n",
       "      <td>-0.017256</td>\n",
       "    </tr>\n",
       "    <tr>\n",
       "      <th>PC 5</th>\n",
       "      <td>0.037738</td>\n",
       "      <td>-0.033506</td>\n",
       "      <td>-0.061740</td>\n",
       "    </tr>\n",
       "    <tr>\n",
       "      <th>...</th>\n",
       "      <td>...</td>\n",
       "      <td>...</td>\n",
       "      <td>...</td>\n",
       "    </tr>\n",
       "    <tr>\n",
       "      <th>PC 123</th>\n",
       "      <td>0.037121</td>\n",
       "      <td>0.082580</td>\n",
       "      <td>-0.035151</td>\n",
       "    </tr>\n",
       "    <tr>\n",
       "      <th>PC 124</th>\n",
       "      <td>0.023213</td>\n",
       "      <td>0.049475</td>\n",
       "      <td>0.002244</td>\n",
       "    </tr>\n",
       "    <tr>\n",
       "      <th>PC 125</th>\n",
       "      <td>0.027663</td>\n",
       "      <td>0.022751</td>\n",
       "      <td>-0.017330</td>\n",
       "    </tr>\n",
       "    <tr>\n",
       "      <th>PC 126</th>\n",
       "      <td>-0.032039</td>\n",
       "      <td>-0.082355</td>\n",
       "      <td>-0.001499</td>\n",
       "    </tr>\n",
       "    <tr>\n",
       "      <th>PC 127</th>\n",
       "      <td>0.076820</td>\n",
       "      <td>-0.015290</td>\n",
       "      <td>-0.032299</td>\n",
       "    </tr>\n",
       "  </tbody>\n",
       "</table>\n",
       "<p>127 rows × 3 columns</p>\n",
       "</div>"
      ],
      "text/plain": [
       "            TS 1      TS 2      TS 3\n",
       "PC 1    0.106617 -0.020035  0.798683\n",
       "PC 2    0.038558 -0.015377  0.209504\n",
       "PC 3    0.118255 -0.029110  0.046632\n",
       "PC 4    0.032419 -0.036895 -0.017256\n",
       "PC 5    0.037738 -0.033506 -0.061740\n",
       "...          ...       ...       ...\n",
       "PC 123  0.037121  0.082580 -0.035151\n",
       "PC 124  0.023213  0.049475  0.002244\n",
       "PC 125  0.027663  0.022751 -0.017330\n",
       "PC 126 -0.032039 -0.082355 -0.001499\n",
       "PC 127  0.076820 -0.015290 -0.032299\n",
       "\n",
       "[127 rows x 3 columns]"
      ]
     },
     "execution_count": 10,
     "metadata": {},
     "output_type": "execute_result"
    }
   ],
   "source": [
    "loadings = pd.DataFrame(pca.components_.T)\n",
    "loadings.index = [\"PC %s\" % pc for pc in loadings.index + 1]\n",
    "loadings.columns = [\"TS %s\" % pc for pc in loadings.columns + 1]\n",
    "loadings"
   ]
  },
  {
   "cell_type": "code",
   "execution_count": 11,
   "id": "78ce6ab9",
   "metadata": {
    "slideshow": {
     "slide_type": "slide"
    }
   },
   "outputs": [],
   "source": [
    "PCs = np.dot(loadings.values.T, RGB)"
   ]
  },
  {
   "cell_type": "code",
   "execution_count": 12,
   "id": "179811b8",
   "metadata": {
    "slideshow": {
     "slide_type": "slide"
    }
   },
   "outputs": [
    {
     "data": {
      "image/png": "[encoded data removed]",
      "text/plain": [
       "<Figure size 700x275 with 1 Axes>"
      ]
     },
     "metadata": {},
     "output_type": "display_data"
    }
   ],
   "source": [
    "\n",
    "marker = {\n",
    "    \"linestyle\": \"none\", \"marker\": \"o\", \n",
    "    \"markersize\": 7, \"color\": \"blue\", \"alpha\": 0.5,\n",
    "}\n",
    "\n",
    "fig, ax = plt.subplots(figsize=(7, 2.75))\n",
    "ax.plot(PCs[0], PCs[1], label=\"Scores\", **marker)\n",
    "\n",
    "ax.set_xlabel(\"PC1\")\n",
    "ax.set_ylabel(\"PC2\")\n",
    "\n",
    "text = [ax.text(x, y, t) for x, y, t in zip(\n",
    "    PCs[0], PCs[1] + 0.5, RGB.columns)]"
   ]
  },
  {
   "cell_type": "code",
   "execution_count": 13,
   "id": "67cbf486",
   "metadata": {
    "slideshow": {
     "slide_type": "slide"
    }
   },
   "outputs": [
    {
     "data": {
      "image/png": "[encoded data removed]",
      "text/plain": [
       "<Figure size 640x480 with 1 Axes>"
      ]
     },
     "metadata": {},
     "output_type": "display_data"
    }
   ],
   "source": [
    "perc = pca.explained_variance_ratio_ * 100\n",
    "perc = pd.DataFrame(\n",
    "    perc,\n",
    "    columns=[\"Percentage explained ratio\"],\n",
    "    index=[\"PC %s\" % pc for pc in np.arange(len(perc)) + 1],\n",
    ")\n",
    "ax = perc.plot(kind=\"bar\")"
   ]
  },
  {
   "cell_type": "markdown",
   "id": "b0461500",
   "metadata": {
    "slideshow": {
     "slide_type": "slide"
    }
   },
   "source": [
    "The non-projected loadings plot can help us see if the data has some sort of aggregation that we can use."
   ]
  },
  {
   "cell_type": "code",
   "execution_count": 14,
   "id": "bbabd98c",
   "metadata": {
    "scrolled": false,
    "slideshow": {
     "slide_type": "slide"
    }
   },
   "outputs": [],
   "source": [
    "common = {\"linestyle\": \"none\", \"markersize\": 7, \"alpha\": 0.5}\n",
    "\n",
    "markers = {\n",
    "    0: {\"color\": \"black\", \"marker\": \"o\", \"label\": \"no yellowing\"},\n",
    "    1: {\"color\": \"red\", \"marker\": \"^\", \"label\": \"low\"},\n",
    "    2: {\"color\": \"blue\", \"marker\": \"*\", \"label\": \"moderate\"},\n",
    "    3: {\"color\": \"khaki\", \"marker\": \"s\", \"label\": \"high\"},\n",
    "    4: {\"color\": \"darkgoldenrod\", \"marker\": \"d\", \"label\": \"very high\"},\n",
    "}\n",
    "\n",
    "def unprojected_loadings():\n",
    "    fig, ax = plt.subplots(figsize=(7, 7))\n",
    "    for x, y, idx in zip(loadings.iloc[:, 0], loadings.iloc[:, 1], df[\"yellowing index\"]):\n",
    "        ax.plot(x, y, **common, **markers.get(idx))\n",
    "\n",
    "    ax.set_xlabel(\"non-projected PC1\")\n",
    "    ax.set_ylabel(\"non-projected PC2\")\n",
    "    ax.axis([-1, 1, -1, 1])\n",
    "    ax.axis([-0.25, 0.25, -0.4, 0.4])\n",
    "\n",
    "    # Trick to remove duplicate labels from the for-loop.\n",
    "    handles, labels = ax.get_legend_handles_labels()\n",
    "    by_label = dict(zip(labels, handles))\n",
    "    ax.legend(by_label.values(), by_label.keys())\n",
    "    return fig, ax"
   ]
  },
  {
   "cell_type": "code",
   "execution_count": 15,
   "id": "ab85edba",
   "metadata": {
    "slideshow": {
     "slide_type": "slide"
    }
   },
   "outputs": [
    {
     "data": {
      "image/png": "[encoded data removed]",
      "text/plain": [
       "<Figure size 700x700 with 1 Axes>"
      ]
     },
     "metadata": {},
     "output_type": "display_data"
    }
   ],
   "source": [
    "unprojected_loadings();"
   ]
  },
  {
   "cell_type": "markdown",
   "id": "e33ab2a8",
   "metadata": {
    "slideshow": {
     "slide_type": "slide"
    }
   },
   "source": [
    "## Summary\n",
    "\n",
    "- PCA is probably be most robust, and easy to perform, non-supervised ML technique (it has been a common technique in ocean sciences since before the ML hype);\n",
    "- We learned that a single RGB value does not have enough predictive power to be used alone, we'll need at least a combination of Reds and Greens;\n",
    "- The loading plot show that the moderate and the low yellowing have some overlaps. That can be troublesome when using this model for predictions."
   ]
  }
 ],
 "metadata": {
  "celltoolbar": "Slideshow",
  "kernelspec": {
   "display_name": "Python 3 (ipykernel)",
   "language": "python",
   "name": "python3"
  },
  "language_info": {
   "codemirror_mode": {
    "name": "ipython",
    "version": 3
   },
   "file_extension": ".py",
   "mimetype": "text/x-python",
   "name": "python",
   "nbconvert_exporter": "python",
   "pygments_lexer": "ipython3",
   "version": "3.9.13"
  },
  "livereveal": {
   "auto_select": "none",
   "footer": " ",
   "header": "<script src='/files/static/theme/reveal.js'></script>",
   "start_slideshow_at": "selected"
  },
  "widgets": {
   "application/vnd.jupyter.widget-state+json": {
    "state": {},
    "version_major": 2,
    "version_minor": 0
   }
  }
 },
 "nbformat": 4,
 "nbformat_minor": 5
}
