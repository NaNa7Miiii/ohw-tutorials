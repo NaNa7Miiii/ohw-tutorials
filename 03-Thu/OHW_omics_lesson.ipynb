{
 "cells": [
  {
   "cell_type": "markdown",
   "id": "3a8c3cc2-08a9-436d-9d0a-3f83ba613975",
   "metadata": {
    "slideshow": {
     "slide_type": "slide"
    },
    "tags": []
   },
   "source": [
    "# Meta'omics for Ocean Science\n",
    "\n",
    "Ocean Hack Week 2023 Tutorial by Julia M Brown\n",
    "\n",
    "![scales](./tutorial_images/rainbow_satellite_to_microbe.png)  \n",
    "\n",
    "With thanks to the following for content and inspiration:  \n",
    "[Greg Gavelis](https://github.com/ggavelis), [Joe Brown](https://github.com/brwnj), [Maria Pachiadaki](https://github.com/microbiaki), [Ramunas Stepanauskas](https://www.bigelow.org/about/people/rstepanauskas.html), [MerenLab](https://merenlab.org/), [Kaiju Team](https://bioinformatics-centre.github.io/kaiju/), [Cath Mitchell](https://github.com/MarineOpticsLab)\n",
    "\n"
   ]
  },
  {
   "cell_type": "markdown",
   "id": "4a33a281-5db8-4d59-867b-de2d403fcc34",
   "metadata": {},
   "source": [
    "### What is 'omics data?\n",
    "\n",
    "* Data on biological molecules  \n",
    "* 'Meta' refers to collecting and processing samples in bulk \n",
    "* Data often focused on specific **unicellular** size fractions  \n",
    "\n",
    "### How is it generated?\n",
    "\n",
    "* Collection of sample in bulk.  \n",
    "* For planktonic microbes, samples are collected based on a specific size fraction that targets different microbial groups\n",
    "    * e.g. bacteria and archaea, protists, phytoplankton, viruses  \n",
    "* Nucleic acids, proteins or other target molecules extracted and sequenced \n",
    "* For nucleotide data (DNA + RNA), samples often sequenced via Illumina sequencing\n",
    "    * generates short __paired end__ reads \n",
    "    * reads can be characterized directly or used to assemble larger __contiguous sequences__\n",
    "\n",
    "![omics](./tutorial_images/metaXomics_diagram.png)  \n",
    "\n",
    "### It can tell us the who and what of microbial communities\n",
    "\n",
    "**Metagenome (DNA)** : Presence and potential  \n",
    "**Metatranscriptome (RNA)**: Activity  \n",
    "\n",
    "**Taxonomy:**  \n",
    "\n",
    "* What microbes are present -- DNA\n",
    "* Which microbes are active -- RNA\n",
    "\n",
    "**Function:**\n",
    "\n",
    "* What is the metabolic potential? -- DNA\n",
    "* What processes are being carried out? -- RNA\n",
    "\n",
    "### What does it look like?  \n",
    "\n",
    "* fastq - raw sequence read data with quality information included\n",
    "* fasta - sequence data, can be contiguous sequences, open reading frames (i.e. coding sequences) or protein sequences\n",
    "\n"
   ]
  },
  {
   "cell_type": "markdown",
   "id": "1e0fe7e5-b7ae-4c6f-a11c-45c18cfb7ab5",
   "metadata": {
    "tags": []
   },
   "source": [
    "### How can we use raw reads?\n",
    "\n",
    "**Read profiling** is one of the most commonly used processes in 'omics analysis. It is applied to access the relative abundance of taxonomic groups within metagenomic datasets (when using DNA metagenomes) or to estimate the expression of different microbial taxa (when RNA metatranscriptomes are used).\n",
    "\n",
    "In a nutshell short reads are aligned to a genomic reference sequences, which have taxonomic information assigned to them that may be assigned to the reads.\n",
    "\n",
    "![recruitment](./tutorial_images/01-metagenomic-read-recruitment-simple.gif)  \n",
    "(Thank you [MerenLab](https://merenlab.org/) for the animation)"
   ]
  },
  {
   "cell_type": "markdown",
   "id": "86297889-8a11-4b44-940b-a1d50c54107c",
   "metadata": {},
   "source": [
    "# Read classification tools\n",
    "\n",
    "# [Kaiju](https://kaiju.binf.ku.dk/server)\n",
    "![Kaiju](https://kaiju.binf.ku.dk/images/kaiju3_header.gif)\n",
    "\n",
    "**Also: [Kraken2](https://github.com/DerrickWood/kraken2/)**\n",
    "\n",
    "These workflows are wicked fast!\n",
    "\n",
    "### How do they work?\n",
    "\n",
    "**Database**  \n",
    "Database consists of a collection of translated proteins mapped to microbial genomes.\n",
    "\n",
    "<img src=\"./tutorial_images/proteins_to_genomes.png\" alt=\"p2g\" width=\"400\"/>\n",
    "\n",
    "### Short read alignment\n",
    "\n",
    "Reads are translated into protein sequences and aligned to reference protein sequences. Best matches to proteins are then taxonomically assigned based on protein's membership in microbial genomes.\n",
    "\n",
    "![kaiju_diagram](./tutorial_images/short_read_align.png)"
   ]
  },
  {
   "cell_type": "markdown",
   "id": "06b27e46-297a-49c7-825c-35f6d74d5862",
   "metadata": {},
   "source": [
    "## Tools are as good as your reference database\n",
    "\n",
    "Kaiju and other classifiers rely on genome databases that primarily contain genomes from isolated microbes and genomes assembled from metagenomes ('MAGs').\n",
    "\n",
    "**Available Standard Kaiju Databases**  \n",
    "<img src=\"https://upload.wikimedia.org/wikipedia/commons/0/07/US-NLM-NCBI-Logo.svg\" alt=\"ncbi\" width=\"100\"/>\n",
    "\n",
    "**nr**: Non-redundant proteins from bacteria, archaea and viruses  \n",
    "**RefSeq**: Curated bacterial, archaeal and viral genomes from NCBI\n",
    "\n",
    "<img src=\"https://progenomes.embl.de/img/progene_head21.png\" alt=\"progenomes\" width=\"300\"/>  \n",
    "\n",
    "**ProGenomes**: Database of microbial genomes including MAGs from diverse environments\n",
    "\n",
    "**Note:** Kaiju has other available databases that could be useful for your environment or organisms of interest. See their website for more options.  \n",
    "\n",
    "**Database Limitations**: Despite the depth of these collections, they leave stones unturned. Microbial genomic diversity is high in marine systems and genomes assembled from short reads represent only a fraction of the microbial diversity present in the ocean!\n",
    "\n",
    "## SAGs\n",
    "\n",
    "Single Cell Genomics is another type of 'omics data that is well suited for reference genomic data. It consists of DNA sequence data generated from the DNA present in single cells.  Each set of data from each cell is referred to as a __Single Amplified Genome (i.e. SAG)__. SAGs represent real biological units recovered from samples, and contain genomic information specific to individuals.\n",
    "\n",
    "<img src=\"./tutorial_images/scg_diagram.png\" alt=\"sag\" width=\"800\"/>\n",
    "\n",
    "## GORG-Tropics: A collection of reference genomes from individual cells from the Tropical and Sub-tropical Epipelagic Ocean\n",
    "\n",
    "GORG-Tropics is more representative of global ocean microbes than MAGs or currently available reference genomes*.\n",
    "\n",
    "*I am not sure if GORG-Tropics has been integrated into ProGenomes or not\n",
    "\n",
    "![GORG-Figure2](https://ars.els-cdn.com/content/image/1-s2.0-S0092867419312735-gr2.jpg)  \n",
    "\n",
    "\n",
    "GORG-Tropics is more accurate and sensitive than default databases used for read classification by Kaiju when analyzing marine epipelagic samples. When GORG-Tropics used as a database for reads from similar environments, many more were able to be correctly classified. \n",
    "\n",
    "![GORG-Figure](https://ars.els-cdn.com/content/image/1-s2.0-S0092867419312735-gr6.jpg)  \n",
    "\n",
    "The other advantage of using a tailored database is that it takes up less storage space :)\n",
    "\n",
    "\n",
    "### Database Setup\n",
    "\n",
    "For this tutorial we'll be using the GORG-Tropics database. This database is published alongside [this publication](https://www.sciencedirect.com/science/article/pii/S0092867419312735), and in a data repository [here](https://osf.io/pcwj9/).\n",
    "\n",
    "Specific database files used for this tutorial are:  \n",
    "[GORG_v1_CREST.fmi](https://osf.io/a3428)  \n",
    "[nodes.dmp](https://osf.io/a8bm5)  \n",
    "[names.dmp](https://osf.io/cqrh4)  \n",
    "\n",
    "Note that I am going to show you this workflow in steps using kaiju, BUT the entire kaiju workflow using the GORG-Tropics database is packaged into a docker/singularity container and can be run with nextflow for easy access and for scalability. You can find it [here](https://github.com/BigelowLab/gorg-classifier). \n",
    "\n",
    "The GORG-Classifier provides additional functionality beyond Kaiju to assign **functional annotations** to reads based on what specific gene was matched in the GORG-Tropics Database. This is unique to this tool. \n",
    "\n",
    "Today, I'm going to go over taxonomic annotation of reads."
   ]
  },
  {
   "cell_type": "markdown",
   "id": "e0a86db9-7534-4fe9-aa48-440bd76afa7a",
   "metadata": {},
   "source": [
    "## Data Prep\n",
    "\n",
    "We will be running Kaiju on a collection of epipelagic metagenomes from the Bermuda Atlantic Time Series using version 1 of the GORG-Tropics database.\n",
    "\n",
    "\n",
    "For this lesson, we look at microbial community dynamics over time at BATs using short read alignment with Kaiju against the GORG-Tropics database.\n",
    "\n",
    "The metagenomes we will use are a small subset of metagenomes reported in [this](https://www.nature.com/articles/sdata2018176) publication. These metagenomes are available in NCBI's Short Read Archive (sra) through NCBI project ID [PRJNA385855](https://www.ncbi.nlm.nih.gov/bioproject?term=PRJNA385855). I've downloaded a metadata sheet with all sra metagenomes from this bioproject to: ./data/PRJNA385855_sra_metadata.csv\n",
    "\n",
    "Let's check this table out, and I'll show you which metagenomes I selected."
   ]
  },
  {
   "cell_type": "code",
   "execution_count": 90,
   "id": "24c6965e-3e79-4067-b8e8-19eeaceef0a3",
   "metadata": {
    "tags": []
   },
   "outputs": [],
   "source": [
    "import glob\n",
    "\n",
    "import pandas as pd\n",
    "import numpy as np\n",
    "\n",
    "import matplotlib.pyplot as plt\n",
    "import seaborn as sns\n",
    "import os.path as op\n",
    "\n",
    "from sklearn.decomposition import PCA\n",
    "from collections import Counter"
   ]
  },
  {
   "cell_type": "code",
   "execution_count": 1,
   "id": "25776333-d33e-47be-8ad3-f97952ad5fc3",
   "metadata": {
    "tags": []
   },
   "outputs": [
    {
     "data": {
      "text/html": [
       "<div>\n",
       "<style scoped>\n",
       "    .dataframe tbody tr th:only-of-type {\n",
       "        vertical-align: middle;\n",
       "    }\n",
       "\n",
       "    .dataframe tbody tr th {\n",
       "        vertical-align: top;\n",
       "    }\n",
       "\n",
       "    .dataframe thead th {\n",
       "        text-align: right;\n",
       "    }\n",
       "</style>\n",
       "<table border=\"1\" class=\"dataframe\">\n",
       "  <thead>\n",
       "    <tr style=\"text-align: right;\">\n",
       "      <th></th>\n",
       "      <th>Run</th>\n",
       "      <th>Assay Type</th>\n",
       "      <th>AvgSpotLen</th>\n",
       "      <th>Bases</th>\n",
       "      <th>BioProject</th>\n",
       "      <th>BioSample</th>\n",
       "      <th>BioSampleModel</th>\n",
       "      <th>bottle_id</th>\n",
       "      <th>Bytes</th>\n",
       "      <th>Center Name</th>\n",
       "      <th>...</th>\n",
       "      <th>lat_lon</th>\n",
       "      <th>Library Name</th>\n",
       "      <th>LibraryLayout</th>\n",
       "      <th>LibrarySelection</th>\n",
       "      <th>LibrarySource</th>\n",
       "      <th>Organism</th>\n",
       "      <th>Platform</th>\n",
       "      <th>ReleaseDate</th>\n",
       "      <th>Sample Name</th>\n",
       "      <th>SRA Study</th>\n",
       "    </tr>\n",
       "  </thead>\n",
       "  <tbody>\n",
       "    <tr>\n",
       "      <th>0</th>\n",
       "      <td>SRR6507277</td>\n",
       "      <td>WGS</td>\n",
       "      <td>300</td>\n",
       "      <td>16133582100</td>\n",
       "      <td>PRJNA385855</td>\n",
       "      <td>SAMN08390922</td>\n",
       "      <td>MIMS.me,MIGS/MIMS/MIMARKS.water</td>\n",
       "      <td>2140200308</td>\n",
       "      <td>6618578156</td>\n",
       "      <td>MIT</td>\n",
       "      <td>...</td>\n",
       "      <td>22.75 N 158 W</td>\n",
       "      <td>S0627</td>\n",
       "      <td>PAIRED</td>\n",
       "      <td>RANDOM</td>\n",
       "      <td>METAGENOMIC</td>\n",
       "      <td>marine metagenome</td>\n",
       "      <td>ILLUMINA</td>\n",
       "      <td>2018-05-01T00:00:00Z</td>\n",
       "      <td>S0627</td>\n",
       "      <td>SRP109831</td>\n",
       "    </tr>\n",
       "    <tr>\n",
       "      <th>1</th>\n",
       "      <td>SRR6507278</td>\n",
       "      <td>WGS</td>\n",
       "      <td>300</td>\n",
       "      <td>15874959000</td>\n",
       "      <td>PRJNA385855</td>\n",
       "      <td>SAMN08390923</td>\n",
       "      <td>MIMS.me,MIGS/MIMS/MIMARKS.water</td>\n",
       "      <td>2160200304</td>\n",
       "      <td>6562862443</td>\n",
       "      <td>MIT</td>\n",
       "      <td>...</td>\n",
       "      <td>22.75 N 158 W</td>\n",
       "      <td>S0628</td>\n",
       "      <td>PAIRED</td>\n",
       "      <td>RANDOM</td>\n",
       "      <td>METAGENOMIC</td>\n",
       "      <td>marine metagenome</td>\n",
       "      <td>ILLUMINA</td>\n",
       "      <td>2018-05-01T00:00:00Z</td>\n",
       "      <td>S0628</td>\n",
       "      <td>SRP109831</td>\n",
       "    </tr>\n",
       "    <tr>\n",
       "      <th>2</th>\n",
       "      <td>SRR6507279</td>\n",
       "      <td>WGS</td>\n",
       "      <td>300</td>\n",
       "      <td>15069825300</td>\n",
       "      <td>PRJNA385855</td>\n",
       "      <td>SAMN08390924</td>\n",
       "      <td>MIMS.me,MIGS/MIMS/MIMARKS.water</td>\n",
       "      <td>1024800503</td>\n",
       "      <td>6265839401</td>\n",
       "      <td>MIT</td>\n",
       "      <td>...</td>\n",
       "      <td>31.66 N 64.16 W</td>\n",
       "      <td>S0629</td>\n",
       "      <td>PAIRED</td>\n",
       "      <td>RANDOM</td>\n",
       "      <td>METAGENOMIC</td>\n",
       "      <td>marine metagenome</td>\n",
       "      <td>ILLUMINA</td>\n",
       "      <td>2018-05-01T00:00:00Z</td>\n",
       "      <td>S0629</td>\n",
       "      <td>SRP109831</td>\n",
       "    </tr>\n",
       "    <tr>\n",
       "      <th>3</th>\n",
       "      <td>SRR6507280</td>\n",
       "      <td>WGS</td>\n",
       "      <td>300</td>\n",
       "      <td>25807308000</td>\n",
       "      <td>PRJNA385855</td>\n",
       "      <td>SAMN08390925</td>\n",
       "      <td>MIMS.me,MIGS/MIMS/MIMARKS.water</td>\n",
       "      <td>1025200510</td>\n",
       "      <td>10523504402</td>\n",
       "      <td>MIT</td>\n",
       "      <td>...</td>\n",
       "      <td>31.66 N 64.16 W</td>\n",
       "      <td>S0630</td>\n",
       "      <td>PAIRED</td>\n",
       "      <td>RANDOM</td>\n",
       "      <td>METAGENOMIC</td>\n",
       "      <td>marine metagenome</td>\n",
       "      <td>ILLUMINA</td>\n",
       "      <td>2018-05-01T00:00:00Z</td>\n",
       "      <td>S0630</td>\n",
       "      <td>SRP109831</td>\n",
       "    </tr>\n",
       "    <tr>\n",
       "      <th>4</th>\n",
       "      <td>SRR5720219</td>\n",
       "      <td>WGS</td>\n",
       "      <td>300</td>\n",
       "      <td>6713331000</td>\n",
       "      <td>PRJNA385855</td>\n",
       "      <td>SAMN07137016</td>\n",
       "      <td>MIMS.me,MIGS/MIMS/MIMARKS.water</td>\n",
       "      <td>1640201117</td>\n",
       "      <td>2811014041</td>\n",
       "      <td>MIT</td>\n",
       "      <td>...</td>\n",
       "      <td>22.75 N 158 W</td>\n",
       "      <td>S0519</td>\n",
       "      <td>PAIRED</td>\n",
       "      <td>RANDOM</td>\n",
       "      <td>METAGENOMIC</td>\n",
       "      <td>marine metagenome</td>\n",
       "      <td>ILLUMINA</td>\n",
       "      <td>2018-05-01T00:00:00Z</td>\n",
       "      <td>S0519</td>\n",
       "      <td>SRP109831</td>\n",
       "    </tr>\n",
       "  </tbody>\n",
       "</table>\n",
       "<p>5 rows × 36 columns</p>\n",
       "</div>"
      ],
      "text/plain": [
       "          Run Assay Type  AvgSpotLen        Bases   BioProject     BioSample  \\\n",
       "0  SRR6507277        WGS         300  16133582100  PRJNA385855  SAMN08390922   \n",
       "1  SRR6507278        WGS         300  15874959000  PRJNA385855  SAMN08390923   \n",
       "2  SRR6507279        WGS         300  15069825300  PRJNA385855  SAMN08390924   \n",
       "3  SRR6507280        WGS         300  25807308000  PRJNA385855  SAMN08390925   \n",
       "4  SRR5720219        WGS         300   6713331000  PRJNA385855  SAMN07137016   \n",
       "\n",
       "                    BioSampleModel   bottle_id        Bytes Center Name  ...  \\\n",
       "0  MIMS.me,MIGS/MIMS/MIMARKS.water  2140200308   6618578156         MIT  ...   \n",
       "1  MIMS.me,MIGS/MIMS/MIMARKS.water  2160200304   6562862443         MIT  ...   \n",
       "2  MIMS.me,MIGS/MIMS/MIMARKS.water  1024800503   6265839401         MIT  ...   \n",
       "3  MIMS.me,MIGS/MIMS/MIMARKS.water  1025200510  10523504402         MIT  ...   \n",
       "4  MIMS.me,MIGS/MIMS/MIMARKS.water  1640201117   2811014041         MIT  ...   \n",
       "\n",
       "           lat_lon Library Name LibraryLayout LibrarySelection LibrarySource  \\\n",
       "0    22.75 N 158 W        S0627        PAIRED           RANDOM   METAGENOMIC   \n",
       "1    22.75 N 158 W        S0628        PAIRED           RANDOM   METAGENOMIC   \n",
       "2  31.66 N 64.16 W        S0629        PAIRED           RANDOM   METAGENOMIC   \n",
       "3  31.66 N 64.16 W        S0630        PAIRED           RANDOM   METAGENOMIC   \n",
       "4    22.75 N 158 W        S0519        PAIRED           RANDOM   METAGENOMIC   \n",
       "\n",
       "            Organism  Platform           ReleaseDate Sample Name  SRA Study  \n",
       "0  marine metagenome  ILLUMINA  2018-05-01T00:00:00Z       S0627  SRP109831  \n",
       "1  marine metagenome  ILLUMINA  2018-05-01T00:00:00Z       S0628  SRP109831  \n",
       "2  marine metagenome  ILLUMINA  2018-05-01T00:00:00Z       S0629  SRP109831  \n",
       "3  marine metagenome  ILLUMINA  2018-05-01T00:00:00Z       S0630  SRP109831  \n",
       "4  marine metagenome  ILLUMINA  2018-05-01T00:00:00Z       S0519  SRP109831  \n",
       "\n",
       "[5 rows x 36 columns]"
      ]
     },
     "execution_count": 1,
     "metadata": {},
     "output_type": "execute_result"
    }
   ],
   "source": [
    "df = pd.read_csv(\"./data/PRJNA385855_sra_metadata.csv\", sep = \",\")\n",
    "\n",
    "df.head()"
   ]
  },
  {
   "cell_type": "markdown",
   "id": "1c83c861-0960-46fd-a4b0-7aedda241e7d",
   "metadata": {},
   "source": [
    "There's a lot of information here, for now, we just need the 'Run' ID so that we can use it to grab data from NCBI, as well as the collection date and depth."
   ]
  },
  {
   "cell_type": "code",
   "execution_count": 2,
   "id": "b0da40e5-3771-4593-bb43-da145f615afe",
   "metadata": {
    "tags": []
   },
   "outputs": [
    {
     "name": "stdout",
     "output_type": "stream",
     "text": [
      "There are 21 metagenomes\n"
     ]
    },
    {
     "data": {
      "text/html": [
       "<div>\n",
       "<style scoped>\n",
       "    .dataframe tbody tr th:only-of-type {\n",
       "        vertical-align: middle;\n",
       "    }\n",
       "\n",
       "    .dataframe tbody tr th {\n",
       "        vertical-align: top;\n",
       "    }\n",
       "\n",
       "    .dataframe thead th {\n",
       "        text-align: right;\n",
       "    }\n",
       "</style>\n",
       "<table border=\"1\" class=\"dataframe\">\n",
       "  <thead>\n",
       "    <tr style=\"text-align: right;\">\n",
       "      <th></th>\n",
       "      <th>Run</th>\n",
       "      <th>Collection_date</th>\n",
       "      <th>cruise_id</th>\n",
       "      <th>BioSample</th>\n",
       "      <th>Depth</th>\n",
       "    </tr>\n",
       "  </thead>\n",
       "  <tbody>\n",
       "    <tr>\n",
       "      <th>74</th>\n",
       "      <td>SRR5720233</td>\n",
       "      <td>2003-02-21</td>\n",
       "      <td>BATS173</td>\n",
       "      <td>SAMN07137079</td>\n",
       "      <td>1m</td>\n",
       "    </tr>\n",
       "    <tr>\n",
       "      <th>14</th>\n",
       "      <td>SRR5720238</td>\n",
       "      <td>2003-03-22</td>\n",
       "      <td>BATS174</td>\n",
       "      <td>SAMN07137082</td>\n",
       "      <td>1m</td>\n",
       "    </tr>\n",
       "    <tr>\n",
       "      <th>119</th>\n",
       "      <td>SRR5720327</td>\n",
       "      <td>2003-04-22</td>\n",
       "      <td>BATS175</td>\n",
       "      <td>SAMN07137064</td>\n",
       "      <td>10m</td>\n",
       "    </tr>\n",
       "    <tr>\n",
       "      <th>99</th>\n",
       "      <td>SRR5720283</td>\n",
       "      <td>2003-05-20</td>\n",
       "      <td>BATS176</td>\n",
       "      <td>SAMN07137103</td>\n",
       "      <td>1m</td>\n",
       "    </tr>\n",
       "    <tr>\n",
       "      <th>75</th>\n",
       "      <td>SRR5720235</td>\n",
       "      <td>2003-07-15</td>\n",
       "      <td>BATS178</td>\n",
       "      <td>SAMN07137085</td>\n",
       "      <td>10m</td>\n",
       "    </tr>\n",
       "    <tr>\n",
       "      <th>38</th>\n",
       "      <td>SRR5720286</td>\n",
       "      <td>2003-08-12</td>\n",
       "      <td>BATS179</td>\n",
       "      <td>SAMN07137088</td>\n",
       "      <td>10m</td>\n",
       "    </tr>\n",
       "    <tr>\n",
       "      <th>64</th>\n",
       "      <td>SRR5720332</td>\n",
       "      <td>2003-10-07</td>\n",
       "      <td>BATS181</td>\n",
       "      <td>SAMN07137067</td>\n",
       "      <td>1m</td>\n",
       "    </tr>\n",
       "    <tr>\n",
       "      <th>96</th>\n",
       "      <td>SRR5720276</td>\n",
       "      <td>2003-11-04</td>\n",
       "      <td>BATS182</td>\n",
       "      <td>SAMN07137106</td>\n",
       "      <td>1m</td>\n",
       "    </tr>\n",
       "    <tr>\n",
       "      <th>90</th>\n",
       "      <td>SRR5720262</td>\n",
       "      <td>2003-12-02</td>\n",
       "      <td>BATS183</td>\n",
       "      <td>SAMN07137109</td>\n",
       "      <td>1m</td>\n",
       "    </tr>\n",
       "    <tr>\n",
       "      <th>124</th>\n",
       "      <td>SRR5720338</td>\n",
       "      <td>2004-01-27</td>\n",
       "      <td>BATS184</td>\n",
       "      <td>SAMN07137070</td>\n",
       "      <td>1m</td>\n",
       "    </tr>\n",
       "    <tr>\n",
       "      <th>117</th>\n",
       "      <td>SRR5720322</td>\n",
       "      <td>2004-02-24</td>\n",
       "      <td>BATS185</td>\n",
       "      <td>SAMN07137121</td>\n",
       "      <td>1m</td>\n",
       "    </tr>\n",
       "    <tr>\n",
       "      <th>66</th>\n",
       "      <td>SRR5720337</td>\n",
       "      <td>2004-03-23</td>\n",
       "      <td>BATS186</td>\n",
       "      <td>SAMN07137073</td>\n",
       "      <td>1m</td>\n",
       "    </tr>\n",
       "    <tr>\n",
       "      <th>22</th>\n",
       "      <td>SRR5720256</td>\n",
       "      <td>2004-04-21</td>\n",
       "      <td>BATS187</td>\n",
       "      <td>SAMN07137091</td>\n",
       "      <td>1m</td>\n",
       "    </tr>\n",
       "    <tr>\n",
       "      <th>87</th>\n",
       "      <td>SRR5720257</td>\n",
       "      <td>2004-05-18</td>\n",
       "      <td>BATS188</td>\n",
       "      <td>SAMN07137112</td>\n",
       "      <td>10m</td>\n",
       "    </tr>\n",
       "    <tr>\n",
       "      <th>89</th>\n",
       "      <td>SRR5720260</td>\n",
       "      <td>2004-06-15</td>\n",
       "      <td>BATS189</td>\n",
       "      <td>SAMN07137115</td>\n",
       "      <td>10m</td>\n",
       "    </tr>\n",
       "    <tr>\n",
       "      <th>57</th>\n",
       "      <td>SRR5720321</td>\n",
       "      <td>2004-08-17</td>\n",
       "      <td>BATS191</td>\n",
       "      <td>SAMN07137118</td>\n",
       "      <td>1m</td>\n",
       "    </tr>\n",
       "    <tr>\n",
       "      <th>83</th>\n",
       "      <td>SRR5720251</td>\n",
       "      <td>2004-09-14</td>\n",
       "      <td>BATS192</td>\n",
       "      <td>SAMN07137094</td>\n",
       "      <td>1m</td>\n",
       "    </tr>\n",
       "    <tr>\n",
       "      <th>49</th>\n",
       "      <td>SRR5720307</td>\n",
       "      <td>2004-10-13</td>\n",
       "      <td>BATS193</td>\n",
       "      <td>SAMN07137097</td>\n",
       "      <td>1m</td>\n",
       "    </tr>\n",
       "    <tr>\n",
       "      <th>97</th>\n",
       "      <td>SRR5720278</td>\n",
       "      <td>2004-11-12</td>\n",
       "      <td>BATS194</td>\n",
       "      <td>SAMN07137100</td>\n",
       "      <td>1m</td>\n",
       "    </tr>\n",
       "    <tr>\n",
       "      <th>127</th>\n",
       "      <td>SRR5720342</td>\n",
       "      <td>2004-12-08</td>\n",
       "      <td>BATS195</td>\n",
       "      <td>SAMN07137076</td>\n",
       "      <td>1m</td>\n",
       "    </tr>\n",
       "    <tr>\n",
       "      <th>2</th>\n",
       "      <td>SRR6507279</td>\n",
       "      <td>2009-07-14</td>\n",
       "      <td>BATS248</td>\n",
       "      <td>SAMN08390924</td>\n",
       "      <td>10m</td>\n",
       "    </tr>\n",
       "  </tbody>\n",
       "</table>\n",
       "</div>"
      ],
      "text/plain": [
       "            Run Collection_date cruise_id     BioSample Depth\n",
       "74   SRR5720233      2003-02-21   BATS173  SAMN07137079    1m\n",
       "14   SRR5720238      2003-03-22   BATS174  SAMN07137082    1m\n",
       "119  SRR5720327      2003-04-22   BATS175  SAMN07137064   10m\n",
       "99   SRR5720283      2003-05-20   BATS176  SAMN07137103    1m\n",
       "75   SRR5720235      2003-07-15   BATS178  SAMN07137085   10m\n",
       "38   SRR5720286      2003-08-12   BATS179  SAMN07137088   10m\n",
       "64   SRR5720332      2003-10-07   BATS181  SAMN07137067    1m\n",
       "96   SRR5720276      2003-11-04   BATS182  SAMN07137106    1m\n",
       "90   SRR5720262      2003-12-02   BATS183  SAMN07137109    1m\n",
       "124  SRR5720338      2004-01-27   BATS184  SAMN07137070    1m\n",
       "117  SRR5720322      2004-02-24   BATS185  SAMN07137121    1m\n",
       "66   SRR5720337      2004-03-23   BATS186  SAMN07137073    1m\n",
       "22   SRR5720256      2004-04-21   BATS187  SAMN07137091    1m\n",
       "87   SRR5720257      2004-05-18   BATS188  SAMN07137112   10m\n",
       "89   SRR5720260      2004-06-15   BATS189  SAMN07137115   10m\n",
       "57   SRR5720321      2004-08-17   BATS191  SAMN07137118    1m\n",
       "83   SRR5720251      2004-09-14   BATS192  SAMN07137094    1m\n",
       "49   SRR5720307      2004-10-13   BATS193  SAMN07137097    1m\n",
       "97   SRR5720278      2004-11-12   BATS194  SAMN07137100    1m\n",
       "127  SRR5720342      2004-12-08   BATS195  SAMN07137076    1m\n",
       "2    SRR6507279      2009-07-14   BATS248  SAMN08390924   10m"
      ]
     },
     "execution_count": 2,
     "metadata": {},
     "output_type": "execute_result"
    }
   ],
   "source": [
    "# selecting surface samples collected from BATS\n",
    "surface_bats = df[df['cruise_id'].str.contains('BATS') & df['Depth'].isin(['10m','1m'])][['Run','Collection_date','cruise_id','BioSample','Depth']].sort_values(by = 'Collection_date')\n",
    "\n",
    "print('There are', len(surface_bats), 'metagenomes')\n",
    "surface_bats"
   ]
  },
  {
   "cell_type": "markdown",
   "id": "779a5a99-3513-45e8-9720-3c975d021d3d",
   "metadata": {},
   "source": [
    "Let's just focus on one year to make things simple.\n"
   ]
  },
  {
   "cell_type": "code",
   "execution_count": 3,
   "id": "a83228cb-f5f3-43ee-aeee-cbff91d2f6a5",
   "metadata": {
    "tags": []
   },
   "outputs": [
    {
     "data": {
      "text/plain": [
       "11"
      ]
     },
     "execution_count": 3,
     "metadata": {},
     "output_type": "execute_result"
    }
   ],
   "source": [
    "# grab only samples from 2004\n",
    "# naming it mgoi for 'metagenomes of interest'\n",
    "mgoi = surface_bats[surface_bats['Collection_date'].str.contains('2004')]\n",
    "len(mgoi)"
   ]
  },
  {
   "cell_type": "code",
   "execution_count": 4,
   "id": "c5938cf5-7e80-4c87-9612-336d6d3b08eb",
   "metadata": {
    "tags": []
   },
   "outputs": [],
   "source": [
    "# going to save this table to file\n",
    "mgoi.to_csv(\"./data/bats_metagenomes_of_interest.csv\", index=False)\n",
    "\n",
    "# I also saved a text file with one metagenome ID per line for downloading these metagenomes with a shell script\n",
    "with open('data/metagenomes_to_download.txt', 'w') as oh:\n",
    "    for run in mgoi['Run']:\n",
    "        print(run, file = oh)"
   ]
  },
  {
   "cell_type": "markdown",
   "id": "aa9ca13a-de4e-420e-a3ba-4e0abdc26493",
   "metadata": {
    "tags": []
   },
   "source": [
    "I next downloaded these metagenomes from NCBI using a package called [fastq-dl](https://github.com/rpetit3/fastq-dl). These metagenomes are large, and downloading them takes a while, so I did this overnight using a small shell script:\n",
    "\n",
    "```\n",
    "cd ./data/\n",
    "\n",
    "while read p; \n",
    "    do fastq-dl -a $p --provider sra; \n",
    "done < metagenomes_to_download.txt\n",
    "```\n",
    "\n",
    "This downloads a set of paired reads files that look like this:\n",
    "\n",
    "```\n",
    "{RunID}_1.fastq.gz\n",
    "{RunID_2}.fastq.gz\n",
    "```\n",
    "\n",
    "Each file is between 1 and 3G in size. For the purposes of this tutorial, I subsampled these paired metagenomes down to 100000k reads per metagenome using a package called [seqtk](https://github.com/lh3/seqtk). I ran this in a jupyter notebook. The script I used to do this was:\n",
    "\n",
    "```\n",
    "%%python\n",
    "import glob\n",
    "\n",
    "ffqs = glob.glob(\"*_1.fastq.gz\")\n",
    "\n",
    "for f in ffqs:\n",
    "    r = f.replace('_1','_2')\n",
    "    \n",
    "    outf = \"./subsampled_metagenomes/{}\".format(f.replace(\"_1.fastq.gz\",\n",
    "                                                          '_100ksub_1.fastq.gz'))\n",
    "    outr = \"./subsampled_metagenomes/{}\".format(r.replace(\"_2.fastq.gz\",\n",
    "                                                          '_100ksub_2.fastq.gz'))\n",
    "    \n",
    "    !seqtk sample -s 123 {f} 100000 > {outf}\n",
    "    \n",
    "    !seqtk sample -s 123 {r} 100000 > {outr}\n",
    "```\n",
    "\n",
    "The important command is ```seqtk sample -s 123 {infastq} 100000 > {outfastq}```. \n",
    "\n",
    "The script randomly subsamples a subset of reads. I needed to do this for paired metagenomic data, so to make sure the samples were random but consistent between the paired files I used the ```-s``` parameter to set the seed for random sampling. After the ```-s``` parameter (which can be any integer), I provide the input fastq file and then the number of reads I would like to subsample from the input file, I then send the output to a new file. "
   ]
  },
  {
   "cell_type": "markdown",
   "id": "19c26025-15a1-47bc-bfe1-06277f3c492e",
   "metadata": {
    "tags": []
   },
   "source": [
    "### Running Kaiju\n",
    "\n",
    "This happens in two steps. In the first step the reads are mapped to the database, and in the second step, taxonomy is assigned to each read based on how they mapped.  \n",
    "\n",
    "Note: The first step takes much longer than the second.\n",
    "\n",
    "Let's run this for an example genome, using only 10k reads:"
   ]
  },
  {
   "cell_type": "code",
   "execution_count": 4,
   "id": "8c2278fb-75a8-43e5-9063-9d52faabfd1c",
   "metadata": {
    "tags": []
   },
   "outputs": [],
   "source": [
    "database_nodes = '/home/jovyan/shared/omics_tutorial/kaiju_db/nodes.dmp'\n",
    "database_names = database_nodes.replace('nodes','names')\n",
    "database = '/home/jovyan/shared/omics_tutorial/kaiju_db/GORG_v1_CREST.fmi'\n",
    "fq1 = '/home/jovyan/shared/omics_tutorial/10k_subsampled_metagenomes/SRR5720233_10ksub_1.fastq.gz'\n",
    "fq2 = fq1.replace(\"_1.tar.gz\", \"_2.tar.gz\")\n",
    "out = op.join(op.basename(fq1).replace('_1.fastq.gz','_vs_GORGv1_kaiju.out'))\n",
    "out_tax = out.replace('.out','_wtaxonomy.out')"
   ]
  },
  {
   "cell_type": "markdown",
   "id": "325d0512-e9a5-4c63-8cff-b2c98ba8f3fc",
   "metadata": {
    "tags": []
   },
   "source": [
    "```\n",
    "!kaiju -t {database_nodes} \\\n",
    "-f {database} \\\n",
    "-i {fq1} \\\n",
    "-j {fq2} \\\n",
    "-o {out} \\\n",
    "-v\n",
    "\n",
    "!kaiju-addTaxonNames -t {database_nodes} \\\n",
    "-n {database_names} \\\n",
    "-i {out} \\\n",
    "-o {out_tax} \\\n",
    "-r superkingdom,phylum,class,order,family,genus,species\n",
    "```"
   ]
  },
  {
   "cell_type": "markdown",
   "id": "617fadf5-28b1-4526-a96f-6f924e524c84",
   "metadata": {},
   "source": [
    "The above will likely work on your local machine if you have a good amount of RAM, but it takes up too much RAM for the OHW jupyterhub, so pretend you've run this, and we'll move on from there!"
   ]
  },
  {
   "cell_type": "markdown",
   "id": "a7f4320d-aff8-4b71-a404-b3b3e37f7814",
   "metadata": {},
   "source": [
    "### Exploring Results\n",
    "\n",
    "Disclaimer: I am visualizing the results of Kaiju with python today, BUT there are some great tools available through R's [phyloseq package](https://joey711.github.io/phyloseq/).\n",
    "\n",
    "If I do this tutorial next year, I will begrudgingly learn how to do this (and more!) using R packages, but today you're going to get some python."
   ]
  },
  {
   "cell_type": "code",
   "execution_count": 101,
   "id": "922bb51a-8291-41ce-bb46-d9a0d105d090",
   "metadata": {
    "tags": []
   },
   "outputs": [
    {
     "data": {
      "text/html": [
       "<div>\n",
       "<style scoped>\n",
       "    .dataframe tbody tr th:only-of-type {\n",
       "        vertical-align: middle;\n",
       "    }\n",
       "\n",
       "    .dataframe tbody tr th {\n",
       "        vertical-align: top;\n",
       "    }\n",
       "\n",
       "    .dataframe thead th {\n",
       "        text-align: right;\n",
       "    }\n",
       "</style>\n",
       "<table border=\"1\" class=\"dataframe\">\n",
       "  <thead>\n",
       "    <tr style=\"text-align: right;\">\n",
       "      <th></th>\n",
       "      <th>status</th>\n",
       "      <th>read_id</th>\n",
       "      <th>tax_id</th>\n",
       "      <th>taxonomy</th>\n",
       "    </tr>\n",
       "  </thead>\n",
       "  <tbody>\n",
       "    <tr>\n",
       "      <th>0</th>\n",
       "      <td>U</td>\n",
       "      <td>SRR5720342.29508414</td>\n",
       "      <td>0</td>\n",
       "      <td>NaN</td>\n",
       "    </tr>\n",
       "    <tr>\n",
       "      <th>1</th>\n",
       "      <td>U</td>\n",
       "      <td>SRR5720342.14562609</td>\n",
       "      <td>0</td>\n",
       "      <td>NaN</td>\n",
       "    </tr>\n",
       "    <tr>\n",
       "      <th>2</th>\n",
       "      <td>U</td>\n",
       "      <td>SRR5720342.3034975</td>\n",
       "      <td>0</td>\n",
       "      <td>NaN</td>\n",
       "    </tr>\n",
       "    <tr>\n",
       "      <th>3</th>\n",
       "      <td>C</td>\n",
       "      <td>SRR5720342.6694984</td>\n",
       "      <td>1754</td>\n",
       "      <td>Bacteria; Cyanobacteria; Oxyphotobacteria; Syn...</td>\n",
       "    </tr>\n",
       "    <tr>\n",
       "      <th>4</th>\n",
       "      <td>C</td>\n",
       "      <td>SRR5720342.20247457</td>\n",
       "      <td>2547</td>\n",
       "      <td>Bacteria; Proteobacteria; Gammaproteobacteria;...</td>\n",
       "    </tr>\n",
       "  </tbody>\n",
       "</table>\n",
       "</div>"
      ],
      "text/plain": [
       "  status              read_id  tax_id  \\\n",
       "0      U  SRR5720342.29508414       0   \n",
       "1      U  SRR5720342.14562609       0   \n",
       "2      U   SRR5720342.3034975       0   \n",
       "3      C   SRR5720342.6694984    1754   \n",
       "4      C  SRR5720342.20247457    2547   \n",
       "\n",
       "                                            taxonomy  \n",
       "0                                                NaN  \n",
       "1                                                NaN  \n",
       "2                                                NaN  \n",
       "3  Bacteria; Cyanobacteria; Oxyphotobacteria; Syn...  \n",
       "4  Bacteria; Proteobacteria; Gammaproteobacteria;...  "
      ]
     },
     "execution_count": 101,
     "metadata": {},
     "output_type": "execute_result"
    }
   ],
   "source": [
    "\n",
    "out_tax = \"/home/jovyan/shared/omics_tutorial/kaiju_results/results/SRR5720342_100ksub_vs_GORGv1_kaiju_wtaxonomy.out\"\n",
    "\n",
    "odf = pd.read_csv(out_tax, \n",
    "                  sep = \"\\t\", \n",
    "                  names = ['status','read_id','tax_id','taxonomy'])\n",
    "\n",
    "odf.head()"
   ]
  },
  {
   "cell_type": "markdown",
   "id": "8aa68063-11c7-4375-ad0d-cc18eabe5958",
   "metadata": {},
   "source": [
    "The ouput table has four columns:  \n",
    "\n",
    "> **status**: whether the read was classified (C) or unclassified (U)  \n",
    "> **read_id**: ID of the mapped read  \n",
    "> **tax_id**: taxonomic ID of mapped read  \n",
    "> **taxonomy**: taxonomy of mapped read\n",
    "\n",
    "How many reads were classified?"
   ]
  },
  {
   "cell_type": "code",
   "execution_count": 102,
   "id": "4ba7172a-73d1-4124-912d-714034fb1078",
   "metadata": {
    "tags": []
   },
   "outputs": [
    {
     "name": "stdout",
     "output_type": "stream",
     "text": [
      "44.6 percent of reads were able to be classified.\n"
     ]
    }
   ],
   "source": [
    "print(round(odf['status'].value_counts()['C'] / len(odf) * 100, 1), \n",
    "      'percent of reads were able to be classified.')"
   ]
  },
  {
   "cell_type": "markdown",
   "id": "c4439c1f-3a42-4165-94a5-f90225e9f25c",
   "metadata": {
    "tags": []
   },
   "source": [
    "What does it mean for a read to be classified? \n",
    "\n",
    "It means that a read aligned to a protein from a genome in the database, and a taxonomic annotation was assigned.\n",
    "\n",
    "![microbial_taxonomy](https://upload.wikimedia.org/wikipedia/commons/a/a5/Biological_classification_L_Pengo_vflip.svg)\n",
    "\n",
    "In the output taxonomic data from Kaiju, the rank order is a little bit different from this diagram:\n",
    "\n",
    "* superkingdom\n",
    "* phylum\n",
    "* class\n",
    "* order\n",
    "* family\n",
    "* genus\n",
    "* species\n",
    "\n",
    "In the Kaiju output table, the taxonomic ranks are all shown in the 'taxonomy' column, with each rank separated by a ';'"
   ]
  },
  {
   "cell_type": "code",
   "execution_count": 103,
   "id": "93effb60-9012-44b3-b775-abc5a193b4a8",
   "metadata": {
    "tags": []
   },
   "outputs": [
    {
     "data": {
      "text/plain": [
       "[(nan, 55360),\n",
       " ('Bacteria; Proteobacteria; Alphaproteobacteria; SAR11 clade; Surface 1; NA; NA; ',\n",
       "  9733),\n",
       " ('Bacteria; Cyanobacteria; Oxyphotobacteria; Synechococcales; Synechococcaceae; Prochlorococcus; NA; ',\n",
       "  5787),\n",
       " ('Bacteria; Proteobacteria; Gammaproteobacteria; Oceanospirillales; SAR86 clade; NA; NA; ',\n",
       "  4137),\n",
       " ('Bacteria; Proteobacteria; Alphaproteobacteria; Rickettsiales; SAR116 clade; NA; NA; ',\n",
       "  2288),\n",
       " ('Bacteria; Proteobacteria; Alphaproteobacteria; Rhodospirillales; Rhodospirillaceae; AEGEAN-169 marine group; NA; ',\n",
       "  2227),\n",
       " ('Bacteria; Proteobacteria; Alphaproteobacteria; Rhodobacterales; Rhodobacteraceae; NA; NA; ',\n",
       "  2191),\n",
       " ('Bacteria; Proteobacteria; Alphaproteobacteria; SAR11 clade; Surface 2; NA; NA; ',\n",
       "  1404),\n",
       " ('Bacteria; Marinimicrobia (SAR406 clade); NA; NA; NA; NA; NA; ', 1251),\n",
       " ('Bacteria; Bacteroidetes; Flavobacteriia; Flavobacteriales; Flavobacteriaceae; NS5 marine group; NA; ',\n",
       "  1124)]"
      ]
     },
     "execution_count": 103,
     "metadata": {},
     "output_type": "execute_result"
    }
   ],
   "source": [
    "# look at 10 most common taxonomic classifications\n",
    "\n",
    "Counter(odf['taxonomy']).most_common()[:10]"
   ]
  },
  {
   "cell_type": "markdown",
   "id": "7b811dd0-708f-4db6-b514-c1fb0413a7a9",
   "metadata": {},
   "source": [
    "There are instances where the available classification does not go all the way down to species.  This happens either if the reference genome that the read hit is not classified to that level, or if the read had equivalent matches to references from two different taxonomic categories.  In this case Kaiju assigns the read to the __last common ancestor__ of the two reads.\n",
    "\n",
    "<img src=\"tutorial_images/phlyo_diagram.png\" alt=\"lca_example\" width=\"400\"/>  \n",
    "\n",
    "For example, in the above diagram, if a read hit proteins in both Species A and Species C, the read would be classified to the Family level, because that is their last common ancestral node."
   ]
  },
  {
   "cell_type": "markdown",
   "id": "452dae9b-0172-4be4-972f-0a0a4995095f",
   "metadata": {},
   "source": [
    "Sometimes, we want to examine distributions at specific taxonomic levels, so let's split taxonomy column up into new columns, one for each taxonomic level.\n",
    "(notice that the taxonomic string used is the same as what we entered when we ran ```kaiju-addTaxonNames```)"
   ]
  },
  {
   "cell_type": "code",
   "execution_count": 105,
   "id": "740d2eae-ab08-4e4f-bef8-050bf8ffb1c5",
   "metadata": {
    "tags": []
   },
   "outputs": [
    {
     "data": {
      "text/html": [
       "<div>\n",
       "<style scoped>\n",
       "    .dataframe tbody tr th:only-of-type {\n",
       "        vertical-align: middle;\n",
       "    }\n",
       "\n",
       "    .dataframe tbody tr th {\n",
       "        vertical-align: top;\n",
       "    }\n",
       "\n",
       "    .dataframe thead th {\n",
       "        text-align: right;\n",
       "    }\n",
       "</style>\n",
       "<table border=\"1\" class=\"dataframe\">\n",
       "  <thead>\n",
       "    <tr style=\"text-align: right;\">\n",
       "      <th></th>\n",
       "      <th>status</th>\n",
       "      <th>read_id</th>\n",
       "      <th>tax_id</th>\n",
       "      <th>taxonomy</th>\n",
       "      <th>superkingdom</th>\n",
       "      <th>phylum</th>\n",
       "      <th>class</th>\n",
       "      <th>order</th>\n",
       "      <th>family</th>\n",
       "      <th>genus</th>\n",
       "      <th>species</th>\n",
       "    </tr>\n",
       "  </thead>\n",
       "  <tbody>\n",
       "    <tr>\n",
       "      <th>0</th>\n",
       "      <td>U</td>\n",
       "      <td>SRR5720342.29508414</td>\n",
       "      <td>0</td>\n",
       "      <td>NaN</td>\n",
       "      <td>NaN</td>\n",
       "      <td>NaN</td>\n",
       "      <td>NaN</td>\n",
       "      <td>NaN</td>\n",
       "      <td>NaN</td>\n",
       "      <td>NaN</td>\n",
       "      <td>NaN</td>\n",
       "    </tr>\n",
       "    <tr>\n",
       "      <th>1</th>\n",
       "      <td>U</td>\n",
       "      <td>SRR5720342.14562609</td>\n",
       "      <td>0</td>\n",
       "      <td>NaN</td>\n",
       "      <td>NaN</td>\n",
       "      <td>NaN</td>\n",
       "      <td>NaN</td>\n",
       "      <td>NaN</td>\n",
       "      <td>NaN</td>\n",
       "      <td>NaN</td>\n",
       "      <td>NaN</td>\n",
       "    </tr>\n",
       "    <tr>\n",
       "      <th>2</th>\n",
       "      <td>U</td>\n",
       "      <td>SRR5720342.3034975</td>\n",
       "      <td>0</td>\n",
       "      <td>NaN</td>\n",
       "      <td>NaN</td>\n",
       "      <td>NaN</td>\n",
       "      <td>NaN</td>\n",
       "      <td>NaN</td>\n",
       "      <td>NaN</td>\n",
       "      <td>NaN</td>\n",
       "      <td>NaN</td>\n",
       "    </tr>\n",
       "    <tr>\n",
       "      <th>3</th>\n",
       "      <td>C</td>\n",
       "      <td>SRR5720342.6694984</td>\n",
       "      <td>1754</td>\n",
       "      <td>Bacteria; Cyanobacteria; Oxyphotobacteria; Syn...</td>\n",
       "      <td>Bacteria</td>\n",
       "      <td>Cyanobacteria</td>\n",
       "      <td>Oxyphotobacteria</td>\n",
       "      <td>Synechococcales</td>\n",
       "      <td>Synechococcaceae</td>\n",
       "      <td>Prochlorococcus</td>\n",
       "      <td>NA</td>\n",
       "    </tr>\n",
       "    <tr>\n",
       "      <th>4</th>\n",
       "      <td>C</td>\n",
       "      <td>SRR5720342.20247457</td>\n",
       "      <td>2547</td>\n",
       "      <td>Bacteria; Proteobacteria; Gammaproteobacteria;...</td>\n",
       "      <td>Bacteria</td>\n",
       "      <td>Proteobacteria</td>\n",
       "      <td>Gammaproteobacteria</td>\n",
       "      <td>Oceanospirillales</td>\n",
       "      <td>SAR86 clade</td>\n",
       "      <td>NA</td>\n",
       "      <td>NA</td>\n",
       "    </tr>\n",
       "  </tbody>\n",
       "</table>\n",
       "</div>"
      ],
      "text/plain": [
       "  status              read_id  tax_id  \\\n",
       "0      U  SRR5720342.29508414       0   \n",
       "1      U  SRR5720342.14562609       0   \n",
       "2      U   SRR5720342.3034975       0   \n",
       "3      C   SRR5720342.6694984    1754   \n",
       "4      C  SRR5720342.20247457    2547   \n",
       "\n",
       "                                            taxonomy superkingdom  \\\n",
       "0                                                NaN          NaN   \n",
       "1                                                NaN          NaN   \n",
       "2                                                NaN          NaN   \n",
       "3  Bacteria; Cyanobacteria; Oxyphotobacteria; Syn...     Bacteria   \n",
       "4  Bacteria; Proteobacteria; Gammaproteobacteria;...     Bacteria   \n",
       "\n",
       "           phylum                class              order            family  \\\n",
       "0             NaN                  NaN                NaN               NaN   \n",
       "1             NaN                  NaN                NaN               NaN   \n",
       "2             NaN                  NaN                NaN               NaN   \n",
       "3   Cyanobacteria     Oxyphotobacteria    Synechococcales  Synechococcaceae   \n",
       "4  Proteobacteria  Gammaproteobacteria  Oceanospirillales       SAR86 clade   \n",
       "\n",
       "             genus species  \n",
       "0              NaN     NaN  \n",
       "1              NaN     NaN  \n",
       "2              NaN     NaN  \n",
       "3  Prochlorococcus      NA  \n",
       "4               NA      NA  "
      ]
     },
     "execution_count": 105,
     "metadata": {},
     "output_type": "execute_result"
    }
   ],
   "source": [
    "def get_rank(t, index_val):\n",
    "    if type(t) is str:\n",
    "        return t.split(';')[index_val].lstrip()\n",
    "    else:\n",
    "        return t\n",
    "        \n",
    "for j, rank in enumerate('superkingdom,phylum,class,order,family,genus,species'.split(',')):\n",
    "    odf[rank] = odf['taxonomy'].apply(lambda t: (get_rank(t, j)))\n",
    "\n",
    "odf.head()"
   ]
  },
  {
   "cell_type": "markdown",
   "id": "7341db25-3659-4872-8779-235c587e262d",
   "metadata": {},
   "source": [
    "It's worth noting here that there are two different null values in this table. The default NaN, which shows up for unclassified reads, and 'NA' which is a space holder within the taxonomic database to show that a read was aligned to the database, but was not assigned to that particular phylogenetic rank.\n",
    "\n",
    "We can fill in the null 'NaN's with 'unmapped' to be more explict, so that we can plot those values below."
   ]
  },
  {
   "cell_type": "code",
   "execution_count": 117,
   "id": "385fbea0-b74b-4732-bbec-f01c973ab023",
   "metadata": {
    "tags": []
   },
   "outputs": [],
   "source": [
    "odf = odf.fillna('unmapped')"
   ]
  },
  {
   "cell_type": "markdown",
   "id": "fbf72f71-3f64-4221-a765-0e5c30c63c37",
   "metadata": {},
   "source": [
    "Now let's visualize the distribution of reads by 'Phylum' for this sample:"
   ]
  },
  {
   "cell_type": "code",
   "execution_count": 118,
   "id": "a036519a-f9f5-4099-8b48-cb4f29735907",
   "metadata": {
    "tags": []
   },
   "outputs": [
    {
     "data": {
      "text/plain": [
       "Text(0.5, 0, 'Total Reads Mapped per Group')"
      ]
     },
     "execution_count": 118,
     "metadata": {},
     "output_type": "execute_result"
    },
    {
     "data": {
      "image/png": "[encoded data removed]",
      "text/plain": [
       "<Figure size 640x480 with 1 Axes>"
      ]
     },
     "metadata": {},
     "output_type": "display_data"
    }
   ],
   "source": [
    "tax_level = 'phylum'\n",
    "\n",
    "phycount = odf.groupby(tax_level, as_index = False)['read_id'].count().sort_values(by = 'read_id', ascending = False)\n",
    "#tax_level = 'family'\n",
    "#phycount = odf[odf['order'] == 'SAR11 clade'].groupby(tax_level, as_index = False)['read_id'].count().sort_values(by = 'read_id', ascending = False)\n",
    "\n",
    "sns.barplot(x = phycount['read_id'], y = phycount[tax_level], color = 'blue')\n",
    "plt.xscale('log')\n",
    "plt.xlabel('Total Reads Mapped per Group')"
   ]
  },
  {
   "cell_type": "markdown",
   "id": "2753e5b3-639d-4cea-ae56-d753eb164598",
   "metadata": {},
   "source": [
    "Now let's scale up to check out the whole series of samples from the surface at BATS collected in 2004."
   ]
  },
  {
   "cell_type": "code",
   "execution_count": 9,
   "id": "3f7d48ea-a6b6-4972-9b35-3b1e2b49a77b",
   "metadata": {
    "tags": []
   },
   "outputs": [
    {
     "data": {
      "text/plain": [
       "['/home/jovyan/shared/omics_tutorial/kaiju_results/results/SRR5720337_100ksub_vs_GORGv1_kaiju_wtaxonomy.out',\n",
       " '/home/jovyan/shared/omics_tutorial/kaiju_results/results/SRR5720338_100ksub_vs_GORGv1_kaiju_wtaxonomy.out',\n",
       " '/home/jovyan/shared/omics_tutorial/kaiju_results/results/SRR5720342_100ksub_vs_GORGv1_kaiju_wtaxonomy.out',\n",
       " '/home/jovyan/shared/omics_tutorial/kaiju_results/results/SRR5720256_100ksub_vs_GORGv1_kaiju_wtaxonomy.out',\n",
       " '/home/jovyan/shared/omics_tutorial/kaiju_results/results/SRR5720257_100ksub_vs_GORGv1_kaiju_wtaxonomy.out',\n",
       " '/home/jovyan/shared/omics_tutorial/kaiju_results/results/SRR5720278_100ksub_vs_GORGv1_kaiju_wtaxonomy.out',\n",
       " '/home/jovyan/shared/omics_tutorial/kaiju_results/results/SRR5720307_100ksub_vs_GORGv1_kaiju_wtaxonomy.out',\n",
       " '/home/jovyan/shared/omics_tutorial/kaiju_results/results/SRR5720321_100ksub_vs_GORGv1_kaiju_wtaxonomy.out',\n",
       " '/home/jovyan/shared/omics_tutorial/kaiju_results/results/SRR5720260_100ksub_vs_GORGv1_kaiju_wtaxonomy.out',\n",
       " '/home/jovyan/shared/omics_tutorial/kaiju_results/results/SRR5720251_100ksub_vs_GORGv1_kaiju_wtaxonomy.out',\n",
       " '/home/jovyan/shared/omics_tutorial/kaiju_results/results/SRR5720322_100ksub_vs_GORGv1_kaiju_wtaxonomy.out']"
      ]
     },
     "execution_count": 9,
     "metadata": {},
     "output_type": "execute_result"
    }
   ],
   "source": [
    "outs = glob.glob('/home/jovyan/shared/omics_tutorial/kaiju_results/results/*.out')\n",
    "outs"
   ]
  },
  {
   "cell_type": "code",
   "execution_count": 119,
   "id": "15974507-6c65-4a8c-b5be-f10b0e047289",
   "metadata": {
    "tags": []
   },
   "outputs": [],
   "source": [
    "def read_in_kaiju(outfile):\n",
    "    library = op.basename(outfile).split(\"_\")[0]\n",
    "    df = pd.read_csv(outfile, \n",
    "                  sep = \"\\t\", \n",
    "                  names = ['status','read_id','tax_id','taxonomy'])\n",
    "    df['library'] = library\n",
    "    for j, rank in enumerate('superkingdom,phylum,class,order,family,genus,species'.split(',')):\n",
    "        df[rank] = df['taxonomy'].apply(lambda t: (get_rank(t, j)))\n",
    "    df = df.fillna('unmapped')\n",
    "    return df\n",
    "\n",
    "tax_level = 'phylum'\n",
    "\n",
    "combodf = pd.DataFrame()\n",
    "\n",
    "for o in outs:\n",
    "    df = read_in_kaiju(o)\n",
    "    phycount = df.groupby(['library',tax_level], as_index = False)['read_id'].count()\n",
    "    combodf = pd.concat([combodf, phycount])"
   ]
  },
  {
   "cell_type": "markdown",
   "id": "99d6cd7a-a941-4b67-a267-c37e7f8b8dd0",
   "metadata": {},
   "source": [
    "Add sample information to dataframe"
   ]
  },
  {
   "cell_type": "code",
   "execution_count": 120,
   "id": "98da4df4-d3cb-4ed2-85b1-61e7769dc35d",
   "metadata": {
    "tags": []
   },
   "outputs": [],
   "source": [
    "# Load sample information and pull out 'month' value for plotting\n",
    "\n",
    "mg_metadata = pd.read_csv('data/bats_metagenomes_of_interest.csv')\n",
    "mg_metadata[['year','month','day']] = mg_metadata['Collection_date'].str.split(\"-\", expand = True)\n",
    "\n",
    "mg_metadata['month'] = mg_metadata['month'].apply(pd.to_numeric)\n",
    "\n",
    "# merging metadata table with the combined phylum counts\n",
    "\n",
    "combodf = combodf.merge(mg_metadata, left_on = 'library', right_on = 'Run', how = 'left')"
   ]
  },
  {
   "cell_type": "code",
   "execution_count": 121,
   "id": "4b127b4e-ac94-4f88-aa1f-d52ce36e7cc2",
   "metadata": {
    "tags": []
   },
   "outputs": [
    {
     "data": {
      "text/plain": [
       "Text(0, 0.5, 'Reads Assigned to Phylum')"
      ]
     },
     "execution_count": 121,
     "metadata": {},
     "output_type": "execute_result"
    },
    {
     "data": {
      "image/png": "[encoded data removed]",
      "text/plain": [
       "<Figure size 800x500 with 1 Axes>"
      ]
     },
     "metadata": {},
     "output_type": "display_data"
    }
   ],
   "source": [
    "to_plot = combodf.groupby(['month','phylum'], as_index = False)['read_id'].sum().pivot(index = 'month', columns = 'phylum', values = 'read_id')\n",
    "\n",
    "fig, ax = plt.subplots(figsize=(8,5))\n",
    "\n",
    "# generating a list of phyla, ordered by abundance\n",
    "column_order = list(combodf.groupby('phylum',as_index = False)['read_id'].sum().sort_values(by = 'read_id', ascending = False)['phylum'])\n",
    "\n",
    "# ordering columns by abundance of different phyla\n",
    "to_plot[column_order].plot.bar(stacked = True, ax = ax)\n",
    "plt.legend(bbox_to_anchor=(1.05, 1.05))\n",
    "ax.set_ylabel('Reads Assigned to Phylum')"
   ]
  },
  {
   "cell_type": "markdown",
   "id": "d90cf09e-c391-42b2-b184-3044211da19e",
   "metadata": {},
   "source": [
    "This is perhaps not helpful?  Too many taxa are included that are not well represented in the plot. Instead, let's identify the most represented taxa."
   ]
  },
  {
   "cell_type": "code",
   "execution_count": 122,
   "id": "3d1ef514-f6ba-4069-b1c6-f8e2930fc4c9",
   "metadata": {
    "tags": []
   },
   "outputs": [],
   "source": [
    "# identifying the top phyla to plot\n",
    "total_phycounts = combodf.groupby('phylum',as_index = False)['read_id'].sum()\n",
    "\n",
    "# keeping them as a list of top phyla, ordered by abundance\n",
    "top_phyla = list(total_phycounts[total_phycounts['read_id'] > 500].sort_values(by = 'read_id', ascending = False)['phylum'])\n",
    "\n",
    "# add column labelling top phyla and calling all others 'Other'\n",
    "combodf['plot_phyla'] = [i if i in top_phyla else 'Other' for i in combodf['phylum']]"
   ]
  },
  {
   "cell_type": "code",
   "execution_count": 123,
   "id": "09b2d9d3-214e-4911-a4b9-a86e15597fda",
   "metadata": {
    "tags": []
   },
   "outputs": [
    {
     "data": {
      "text/plain": [
       "Text(0, 0.5, 'Reads Assigned to Phylum')"
      ]
     },
     "execution_count": 123,
     "metadata": {},
     "output_type": "execute_result"
    },
    {
     "data": {
      "image/png": "[encoded data removed]",
      "text/plain": [
       "<Figure size 800x500 with 1 Axes>"
      ]
     },
     "metadata": {},
     "output_type": "display_data"
    }
   ],
   "source": [
    "# group data by month and this new category, and create a pivot table for plotting\n",
    "to_plot = combodf.groupby(['month','plot_phyla'], as_index = False)['read_id'].sum().pivot(index = 'month', columns = 'plot_phyla', values = 'read_id')\n",
    "\n",
    "fig, ax = plt.subplots(figsize=(8,5))\n",
    "\n",
    "column_order = top_phyla + ['Other']\n",
    "\n",
    "to_plot[column_order].plot.bar(stacked = True, ax = ax)\n",
    "plt.legend(bbox_to_anchor=(1, 1))\n",
    "ax.set_ylabel('Reads Assigned to Phylum')"
   ]
  },
  {
   "cell_type": "markdown",
   "id": "97c6257b-ec54-4509-8019-7c574acae01a",
   "metadata": {},
   "source": [
    "This essentially looks the same, but now our legend isn't crowded with all of the taxa present at low abundances in our samples.  \n",
    "\n",
    "Something interesting we can see with this visualization is that there are variable numbers of unmapped reads. This could be due to a number of reasons. This variability influences the relative dynamics of taxa in this plot. \n",
    "\n",
    "An alternative is to calculate taxonomic distributions based on the abundance of only those reads that were assigned a taxonomy.\n",
    "\n",
    "To do this, I'm going to remove the 'no assignment' column from the table, and consider the relative abundance of taxa based on the total reads that were assigned taxa overall."
   ]
  },
  {
   "cell_type": "code",
   "execution_count": 124,
   "id": "b62d1735-175c-42bd-baf6-ef50edfe6b9d",
   "metadata": {
    "tags": []
   },
   "outputs": [
    {
     "data": {
      "text/plain": [
       "Text(0, 0.5, 'Proportion Assigned Reads')"
      ]
     },
     "execution_count": 124,
     "metadata": {},
     "output_type": "execute_result"
    },
    {
     "data": {
      "image/png": "[encoded data removed]",
      "text/plain": [
       "<Figure size 640x480 with 1 Axes>"
      ]
     },
     "metadata": {},
     "output_type": "display_data"
    }
   ],
   "source": [
    "# remove the 'no assignment' column and calculate relative abundance of assigned reads only\n",
    "new_mat = to_plot.drop(columns = 'unmapped')\n",
    "\n",
    "# calculate relative abundance based on total reads recruited per sample\n",
    "new_mat_ra = new_mat.div(new_mat.sum(axis = 1), axis = 0)\n",
    "\n",
    "# plot\n",
    "new_mat_ra[column_order[1:]].plot.bar(stacked = True)\n",
    "plt.legend(bbox_to_anchor=(1, 1))\n",
    "plt.ylabel('Proportion Assigned Reads')"
   ]
  },
  {
   "cell_type": "markdown",
   "id": "45acf55d-9d04-4416-981e-50e9fed4322d",
   "metadata": {},
   "source": [
    "These two ways of normalizing counts show slightly different distributions!\n",
    "\n",
    "Let's look at how dyanamics of the Phylum 'Proteobacteria' looks based on these two different visualizations."
   ]
  },
  {
   "cell_type": "code",
   "execution_count": 125,
   "id": "c5b2a12e-0a0c-477d-a539-5ba7d182518f",
   "metadata": {
    "tags": []
   },
   "outputs": [
    {
     "data": {
      "text/plain": [
       "Text(0.5, 0, 'Month')"
      ]
     },
     "execution_count": 125,
     "metadata": {},
     "output_type": "execute_result"
    },
    {
     "data": {
      "image/png": "[encoded data removed]",
      "text/plain": [
       "<Figure size 640x480 with 1 Axes>"
      ]
     },
     "metadata": {},
     "output_type": "display_data"
    }
   ],
   "source": [
    "compdf = to_plot[['Proteobacteria']].copy().rename(columns = {'Proteobacteria':'Proteobacteria_all_reads_considered'})\n",
    "\n",
    "# normalizing it to total reads considered so that it's comparable \n",
    "# because we subsampled our metagenomes prior to running Kaiju, we can divide all these counts by the same number of reads\n",
    "\n",
    "compdf['Proteobacteria_all_reads_considered'] = compdf['Proteobacteria_all_reads_considered'] / 100000\n",
    "compdf = compdf.merge(new_mat_ra[['Proteobacteria']].rename(columns = {'Proteobacteria':'Proteobacteria_mapped_reads_considered'}), \n",
    "                      left_index = True, right_index = True)\n",
    "\n",
    "compdf.plot()\n",
    "plt.legend(bbox_to_anchor=(1, 1))\n",
    "plt.ylabel('Relative Read Abundance')\n",
    "plt.xlabel('Month')"
   ]
  },
  {
   "cell_type": "markdown",
   "id": "a59cb65a-cecb-45ef-ae69-f9d402a54783",
   "metadata": {},
   "source": [
    "The shape of distributions look similar but are not look entirely the same, and obviously show vastly different relative abundances. \n",
    "\n",
    "Ommitting the unmapped reads makes the assumption that the database being used is representative of microbial taxonomic diversity, even if it misses some of the read assignments. "
   ]
  },
  {
   "cell_type": "markdown",
   "id": "d24a24d0-e9c4-43d4-a4a3-f69d83d30ed7",
   "metadata": {},
   "source": [
    "### PCA for beta diversity\n",
    "\n",
    "Phylum-level taxonomic groups are not super informative for understanding the dynamics of microbial communities. It would be better to compare overall relationships of samples based on more granular taxonomic levels.\n",
    "\n",
    "One way to do this is to use a dimensionality reduction method such as PCA. This gives an overall idea of the relationships in community structure between samples.  \n",
    "\n",
    "First I am going to read in the output files from Kaiju like before, but now will consider the entirety of a taxonomic lineage, rather than Phylum-level taxonomic assignments."
   ]
  },
  {
   "cell_type": "code",
   "execution_count": 127,
   "id": "30e9ee72-571d-4fe8-b55c-7213100b0699",
   "metadata": {
    "tags": []
   },
   "outputs": [],
   "source": [
    "outs = glob.glob('/home/jovyan/shared/omics_tutorial/kaiju_results/results/*.out')\n",
    "\n",
    "def read_in_kaiju(outfile):\n",
    "    library = op.basename(outfile).split(\"_\")[0]\n",
    "    df = pd.read_csv(outfile, \n",
    "                  sep = \"\\t\", \n",
    "                  names = ['status','read_id','tax_id','taxonomy'])\n",
    "    df['library'] = library\n",
    "    for j, rank in enumerate('superkingdom,phylum,class,order,family,genus,species'.split(',')):\n",
    "        df[rank] = df['taxonomy'].apply(lambda t: (get_rank(t, j)))\n",
    "    df = df.fillna('unmapped')\n",
    "    return df\n",
    "\n",
    "tax_level = 'taxonomy'\n",
    "\n",
    "combodf = pd.DataFrame()\n",
    "\n",
    "for o in outs:\n",
    "    df = read_in_kaiju(o)\n",
    "    phycount = df.groupby(['library',tax_level], as_index = False)['read_id'].count()\n",
    "    combodf = pd.concat([combodf, phycount])"
   ]
  },
  {
   "cell_type": "markdown",
   "id": "a9bc053d-cb22-4f51-8d34-97673caf3e31",
   "metadata": {},
   "source": [
    "As before, I'm adding some sample information to these data so that we can map the sequence collections back to the dates they were collected.\n",
    "\n",
    "Then, I'll count reads assigned to each taxonomic category per sample, omit those reads where no taxonomy was assigned and create a matrix that contains the relative abundance of each taxonomic group per sample. "
   ]
  },
  {
   "cell_type": "code",
   "execution_count": 129,
   "id": "4e309e0b-e37a-47d4-b570-09fa534f4e55",
   "metadata": {
    "tags": []
   },
   "outputs": [
    {
     "data": {
      "text/html": [
       "<div>\n",
       "<style scoped>\n",
       "    .dataframe tbody tr th:only-of-type {\n",
       "        vertical-align: middle;\n",
       "    }\n",
       "\n",
       "    .dataframe tbody tr th {\n",
       "        vertical-align: top;\n",
       "    }\n",
       "\n",
       "    .dataframe thead th {\n",
       "        text-align: right;\n",
       "    }\n",
       "</style>\n",
       "<table border=\"1\" class=\"dataframe\">\n",
       "  <thead>\n",
       "    <tr style=\"text-align: right;\">\n",
       "      <th>taxonomy</th>\n",
       "      <th>Archaea (superkingdom); Ca. Woesearchaeota; Pacearchaeota; NA; NA; NA; NA;</th>\n",
       "      <th>Archaea (superkingdom); Euryarchaeota; Thermoplasmata; Marine Group II; NA; NA; NA;</th>\n",
       "      <th>Archaea (superkingdom); Euryarchaeota; Thermoplasmata; Marine Group III; NA; NA; NA;</th>\n",
       "      <th>Archaea (superkingdom); Euryarchaeota; Thermoplasmata; NA; NA; NA; NA;</th>\n",
       "      <th>Archaea (superkingdom); Thaumarchaeota; Nitrososphaeria; Ca. Nitrosopumilales; Ca. Nitrosopelagicus family incertae sedis; Ca. Nitrosopelagicus; NA;</th>\n",
       "      <th>Archaea (superkingdom); Thaumarchaeota; Nitrososphaeria; Ca. Nitrosopumilales; Ca. Nitrosopumilus family incertae sedis; Ca. Nitrosopumilus; NA;</th>\n",
       "      <th>Archaea (superkingdom); Thaumarchaeota; Nitrososphaeria; Ca. Nitrosopumilales; NA; NA; NA;</th>\n",
       "      <th>Bacteria; Actinobacteria; Acidimicrobiia; Acidimicrobiales; NA; NA; NA;</th>\n",
       "      <th>Bacteria; Actinobacteria; Acidimicrobiia; Acidimicrobiales; OM1 clade; Candidatus Actinomarina; NA;</th>\n",
       "      <th>Bacteria; Actinobacteria; Acidimicrobiia; Acidimicrobiales; OM1 clade; NA; NA;</th>\n",
       "      <th>...</th>\n",
       "      <th>Bacteria; Verrucomicrobia; NA; NA; NA; NA; NA;</th>\n",
       "      <th>Bacteria; Verrucomicrobia; Opitutae; MB11C04 marine group; NA; NA; NA;</th>\n",
       "      <th>Bacteria; Verrucomicrobia; Opitutae; NA; NA; NA; NA;</th>\n",
       "      <th>Bacteria; Verrucomicrobia; Opitutae; Puniceicoccales; Puniceicoccaceae; Coraliomargarita; NA;</th>\n",
       "      <th>Bacteria; Verrucomicrobia; Opitutae; Puniceicoccales; Puniceicoccaceae; NA; NA;</th>\n",
       "      <th>Bacteria; Verrucomicrobia; Opitutae; Puniceicoccales; Puniceicoccaceae; marine group (Puniceicoccaceae); NA;</th>\n",
       "      <th>Bacteria; Verrucomicrobia; Verrucomicrobiae; Verrucomicrobiales; DEV007; NA; NA;</th>\n",
       "      <th>Bacteria; Verrucomicrobia; Verrucomicrobiae; Verrucomicrobiales; NA; NA; NA;</th>\n",
       "      <th>Bacteria; Verrucomicrobia; Verrucomicrobiae; Verrucomicrobiales; Rubritalecea; Roseibacillus; NA;</th>\n",
       "      <th>NA; NA; NA; NA; NA; NA; NA;</th>\n",
       "    </tr>\n",
       "    <tr>\n",
       "      <th>month</th>\n",
       "      <th></th>\n",
       "      <th></th>\n",
       "      <th></th>\n",
       "      <th></th>\n",
       "      <th></th>\n",
       "      <th></th>\n",
       "      <th></th>\n",
       "      <th></th>\n",
       "      <th></th>\n",
       "      <th></th>\n",
       "      <th></th>\n",
       "      <th></th>\n",
       "      <th></th>\n",
       "      <th></th>\n",
       "      <th></th>\n",
       "      <th></th>\n",
       "      <th></th>\n",
       "      <th></th>\n",
       "      <th></th>\n",
       "      <th></th>\n",
       "      <th></th>\n",
       "    </tr>\n",
       "  </thead>\n",
       "  <tbody>\n",
       "    <tr>\n",
       "      <th>1</th>\n",
       "      <td>0.000027</td>\n",
       "      <td>0.056736</td>\n",
       "      <td>0.006792</td>\n",
       "      <td>0.000027</td>\n",
       "      <td>0.024604</td>\n",
       "      <td>0.000245</td>\n",
       "      <td>0.001146</td>\n",
       "      <td>0.000027</td>\n",
       "      <td>0.029268</td>\n",
       "      <td>0.000273</td>\n",
       "      <td>...</td>\n",
       "      <td>0.000109</td>\n",
       "      <td>0.001037</td>\n",
       "      <td>0.000027</td>\n",
       "      <td>0.000136</td>\n",
       "      <td>0.000327</td>\n",
       "      <td>0.000136</td>\n",
       "      <td>0.005510</td>\n",
       "      <td>0.001337</td>\n",
       "      <td>0.000027</td>\n",
       "      <td>0.000164</td>\n",
       "    </tr>\n",
       "    <tr>\n",
       "      <th>2</th>\n",
       "      <td>0.000017</td>\n",
       "      <td>0.050026</td>\n",
       "      <td>0.007969</td>\n",
       "      <td>0.000017</td>\n",
       "      <td>0.020651</td>\n",
       "      <td>0.000151</td>\n",
       "      <td>0.000923</td>\n",
       "      <td>0.000017</td>\n",
       "      <td>0.036370</td>\n",
       "      <td>0.000302</td>\n",
       "      <td>...</td>\n",
       "      <td>0.000017</td>\n",
       "      <td>0.000419</td>\n",
       "      <td>0.000017</td>\n",
       "      <td>0.000101</td>\n",
       "      <td>0.000101</td>\n",
       "      <td>0.000084</td>\n",
       "      <td>0.001678</td>\n",
       "      <td>0.000352</td>\n",
       "      <td>0.000017</td>\n",
       "      <td>0.000201</td>\n",
       "    </tr>\n",
       "    <tr>\n",
       "      <th>3</th>\n",
       "      <td>0.000024</td>\n",
       "      <td>0.036509</td>\n",
       "      <td>0.004850</td>\n",
       "      <td>0.000024</td>\n",
       "      <td>0.009940</td>\n",
       "      <td>0.000215</td>\n",
       "      <td>0.000311</td>\n",
       "      <td>0.000024</td>\n",
       "      <td>0.039448</td>\n",
       "      <td>0.000239</td>\n",
       "      <td>...</td>\n",
       "      <td>0.000024</td>\n",
       "      <td>0.001290</td>\n",
       "      <td>0.000024</td>\n",
       "      <td>0.001219</td>\n",
       "      <td>0.000072</td>\n",
       "      <td>0.002700</td>\n",
       "      <td>0.000621</td>\n",
       "      <td>0.000143</td>\n",
       "      <td>0.000024</td>\n",
       "      <td>0.000239</td>\n",
       "    </tr>\n",
       "    <tr>\n",
       "      <th>4</th>\n",
       "      <td>0.000025</td>\n",
       "      <td>0.027693</td>\n",
       "      <td>0.003459</td>\n",
       "      <td>0.000025</td>\n",
       "      <td>0.009468</td>\n",
       "      <td>0.000172</td>\n",
       "      <td>0.000245</td>\n",
       "      <td>0.000025</td>\n",
       "      <td>0.028428</td>\n",
       "      <td>0.000294</td>\n",
       "      <td>...</td>\n",
       "      <td>0.000025</td>\n",
       "      <td>0.001153</td>\n",
       "      <td>0.000025</td>\n",
       "      <td>0.010326</td>\n",
       "      <td>0.000343</td>\n",
       "      <td>0.013589</td>\n",
       "      <td>0.001006</td>\n",
       "      <td>0.000196</td>\n",
       "      <td>0.000025</td>\n",
       "      <td>0.000098</td>\n",
       "    </tr>\n",
       "    <tr>\n",
       "      <th>5</th>\n",
       "      <td>0.000015</td>\n",
       "      <td>0.000061</td>\n",
       "      <td>0.000015</td>\n",
       "      <td>0.000015</td>\n",
       "      <td>0.000031</td>\n",
       "      <td>0.000015</td>\n",
       "      <td>0.000015</td>\n",
       "      <td>0.000015</td>\n",
       "      <td>0.019884</td>\n",
       "      <td>0.000061</td>\n",
       "      <td>...</td>\n",
       "      <td>0.000015</td>\n",
       "      <td>0.010209</td>\n",
       "      <td>0.000031</td>\n",
       "      <td>0.005120</td>\n",
       "      <td>0.000153</td>\n",
       "      <td>0.002613</td>\n",
       "      <td>0.000107</td>\n",
       "      <td>0.000046</td>\n",
       "      <td>0.000015</td>\n",
       "      <td>0.000031</td>\n",
       "    </tr>\n",
       "  </tbody>\n",
       "</table>\n",
       "<p>5 rows × 124 columns</p>\n",
       "</div>"
      ],
      "text/plain": [
       "taxonomy  Archaea (superkingdom); Ca. Woesearchaeota; Pacearchaeota; NA; NA; NA; NA;   \\\n",
       "month                                                                                   \n",
       "1                                                  0.000027                             \n",
       "2                                                  0.000017                             \n",
       "3                                                  0.000024                             \n",
       "4                                                  0.000025                             \n",
       "5                                                  0.000015                             \n",
       "\n",
       "taxonomy  Archaea (superkingdom); Euryarchaeota; Thermoplasmata; Marine Group II; NA; NA; NA;   \\\n",
       "month                                                                                            \n",
       "1                                                  0.056736                                      \n",
       "2                                                  0.050026                                      \n",
       "3                                                  0.036509                                      \n",
       "4                                                  0.027693                                      \n",
       "5                                                  0.000061                                      \n",
       "\n",
       "taxonomy  Archaea (superkingdom); Euryarchaeota; Thermoplasmata; Marine Group III; NA; NA; NA;   \\\n",
       "month                                                                                             \n",
       "1                                                  0.006792                                       \n",
       "2                                                  0.007969                                       \n",
       "3                                                  0.004850                                       \n",
       "4                                                  0.003459                                       \n",
       "5                                                  0.000015                                       \n",
       "\n",
       "taxonomy  Archaea (superkingdom); Euryarchaeota; Thermoplasmata; NA; NA; NA; NA;   \\\n",
       "month                                                                               \n",
       "1                                                  0.000027                         \n",
       "2                                                  0.000017                         \n",
       "3                                                  0.000024                         \n",
       "4                                                  0.000025                         \n",
       "5                                                  0.000015                         \n",
       "\n",
       "taxonomy  Archaea (superkingdom); Thaumarchaeota; Nitrososphaeria; Ca. Nitrosopumilales; Ca. Nitrosopelagicus family incertae sedis; Ca. Nitrosopelagicus; NA;   \\\n",
       "month                                                                                                                                                             \n",
       "1                                                  0.024604                                                                                                       \n",
       "2                                                  0.020651                                                                                                       \n",
       "3                                                  0.009940                                                                                                       \n",
       "4                                                  0.009468                                                                                                       \n",
       "5                                                  0.000031                                                                                                       \n",
       "\n",
       "taxonomy  Archaea (superkingdom); Thaumarchaeota; Nitrososphaeria; Ca. Nitrosopumilales; Ca. Nitrosopumilus family incertae sedis; Ca. Nitrosopumilus; NA;   \\\n",
       "month                                                                                                                                                         \n",
       "1                                                  0.000245                                                                                                   \n",
       "2                                                  0.000151                                                                                                   \n",
       "3                                                  0.000215                                                                                                   \n",
       "4                                                  0.000172                                                                                                   \n",
       "5                                                  0.000015                                                                                                   \n",
       "\n",
       "taxonomy  Archaea (superkingdom); Thaumarchaeota; Nitrososphaeria; Ca. Nitrosopumilales; NA; NA; NA;   \\\n",
       "month                                                                                                   \n",
       "1                                                  0.001146                                             \n",
       "2                                                  0.000923                                             \n",
       "3                                                  0.000311                                             \n",
       "4                                                  0.000245                                             \n",
       "5                                                  0.000015                                             \n",
       "\n",
       "taxonomy  Bacteria; Actinobacteria; Acidimicrobiia; Acidimicrobiales; NA; NA; NA;   \\\n",
       "month                                                                                \n",
       "1                                                  0.000027                          \n",
       "2                                                  0.000017                          \n",
       "3                                                  0.000024                          \n",
       "4                                                  0.000025                          \n",
       "5                                                  0.000015                          \n",
       "\n",
       "taxonomy  Bacteria; Actinobacteria; Acidimicrobiia; Acidimicrobiales; OM1 clade; Candidatus Actinomarina; NA;   \\\n",
       "month                                                                                                            \n",
       "1                                                  0.029268                                                      \n",
       "2                                                  0.036370                                                      \n",
       "3                                                  0.039448                                                      \n",
       "4                                                  0.028428                                                      \n",
       "5                                                  0.019884                                                      \n",
       "\n",
       "taxonomy  Bacteria; Actinobacteria; Acidimicrobiia; Acidimicrobiales; OM1 clade; NA; NA;   \\\n",
       "month                                                                                       \n",
       "1                                                  0.000273                                 \n",
       "2                                                  0.000302                                 \n",
       "3                                                  0.000239                                 \n",
       "4                                                  0.000294                                 \n",
       "5                                                  0.000061                                 \n",
       "\n",
       "taxonomy  ...  Bacteria; Verrucomicrobia; NA; NA; NA; NA; NA;   \\\n",
       "month     ...                                                    \n",
       "1         ...                                         0.000109   \n",
       "2         ...                                         0.000017   \n",
       "3         ...                                         0.000024   \n",
       "4         ...                                         0.000025   \n",
       "5         ...                                         0.000015   \n",
       "\n",
       "taxonomy  Bacteria; Verrucomicrobia; Opitutae; MB11C04 marine group; NA; NA; NA;   \\\n",
       "month                                                                               \n",
       "1                                                  0.001037                         \n",
       "2                                                  0.000419                         \n",
       "3                                                  0.001290                         \n",
       "4                                                  0.001153                         \n",
       "5                                                  0.010209                         \n",
       "\n",
       "taxonomy  Bacteria; Verrucomicrobia; Opitutae; NA; NA; NA; NA;   \\\n",
       "month                                                             \n",
       "1                                                  0.000027       \n",
       "2                                                  0.000017       \n",
       "3                                                  0.000024       \n",
       "4                                                  0.000025       \n",
       "5                                                  0.000031       \n",
       "\n",
       "taxonomy  Bacteria; Verrucomicrobia; Opitutae; Puniceicoccales; Puniceicoccaceae; Coraliomargarita; NA;   \\\n",
       "month                                                                                                      \n",
       "1                                                  0.000136                                                \n",
       "2                                                  0.000101                                                \n",
       "3                                                  0.001219                                                \n",
       "4                                                  0.010326                                                \n",
       "5                                                  0.005120                                                \n",
       "\n",
       "taxonomy  Bacteria; Verrucomicrobia; Opitutae; Puniceicoccales; Puniceicoccaceae; NA; NA;   \\\n",
       "month                                                                                        \n",
       "1                                                  0.000327                                  \n",
       "2                                                  0.000101                                  \n",
       "3                                                  0.000072                                  \n",
       "4                                                  0.000343                                  \n",
       "5                                                  0.000153                                  \n",
       "\n",
       "taxonomy  Bacteria; Verrucomicrobia; Opitutae; Puniceicoccales; Puniceicoccaceae; marine group (Puniceicoccaceae); NA;   \\\n",
       "month                                                                                                                     \n",
       "1                                                  0.000136                                                               \n",
       "2                                                  0.000084                                                               \n",
       "3                                                  0.002700                                                               \n",
       "4                                                  0.013589                                                               \n",
       "5                                                  0.002613                                                               \n",
       "\n",
       "taxonomy  Bacteria; Verrucomicrobia; Verrucomicrobiae; Verrucomicrobiales; DEV007; NA; NA;   \\\n",
       "month                                                                                         \n",
       "1                                                  0.005510                                   \n",
       "2                                                  0.001678                                   \n",
       "3                                                  0.000621                                   \n",
       "4                                                  0.001006                                   \n",
       "5                                                  0.000107                                   \n",
       "\n",
       "taxonomy  Bacteria; Verrucomicrobia; Verrucomicrobiae; Verrucomicrobiales; NA; NA; NA;   \\\n",
       "month                                                                                     \n",
       "1                                                  0.001337                               \n",
       "2                                                  0.000352                               \n",
       "3                                                  0.000143                               \n",
       "4                                                  0.000196                               \n",
       "5                                                  0.000046                               \n",
       "\n",
       "taxonomy  Bacteria; Verrucomicrobia; Verrucomicrobiae; Verrucomicrobiales; Rubritalecea; Roseibacillus; NA;   \\\n",
       "month                                                                                                          \n",
       "1                                                  0.000027                                                    \n",
       "2                                                  0.000017                                                    \n",
       "3                                                  0.000024                                                    \n",
       "4                                                  0.000025                                                    \n",
       "5                                                  0.000015                                                    \n",
       "\n",
       "taxonomy  NA; NA; NA; NA; NA; NA; NA;   \n",
       "month                                   \n",
       "1                             0.000164  \n",
       "2                             0.000201  \n",
       "3                             0.000239  \n",
       "4                             0.000098  \n",
       "5                             0.000031  \n",
       "\n",
       "[5 rows x 124 columns]"
      ]
     },
     "execution_count": 129,
     "metadata": {},
     "output_type": "execute_result"
    }
   ],
   "source": [
    "combodf_w_metadata = combodf.merge(mg_metadata, left_on = 'library', right_on = 'Run', how = 'left')\n",
    "\n",
    "# creating a pivot table with month as the index and taxonomy as the columns. NA values are zeros, but will substitute with 1 instead for eventual log transformation  \n",
    "matdf = combodf_w_metadata.pivot(index = 'month', columns = 'taxonomy', values = 'read_id').fillna(1)\n",
    "\n",
    "# consider only reads that were assigned an annotation in final count, calculate relative abundance (ar = annotated relative abundance)\n",
    "armat = matdf.drop(columns = 'unmapped').div(matdf.drop(columns = 'unmapped').sum(axis = 1), axis = 0)\n",
    "armat.head()"
   ]
  },
  {
   "cell_type": "markdown",
   "id": "5c22970a-8372-49db-925d-102a746e7972",
   "metadata": {},
   "source": [
    "To normalize the data, we'll preform a center-log-ratio transformation, which is common for phylogenetic comparisons of sample data such as this.  \n",
    "\n",
    "The package skbio has a function for this ([see here](http://scikit-bio.org/docs/0.4.2/generated/skbio.stats.composition.html#module-skbio.stats.composition)), but we'll do it the old fashion way to see how it works more closely.\n",
    "\n",
    "We will take the log of the above pivot table of relative abundances, and then subtract the mean per column."
   ]
  },
  {
   "cell_type": "code",
   "execution_count": 130,
   "id": "b44448fb-824b-4484-ba98-ced9937d30cc",
   "metadata": {
    "tags": []
   },
   "outputs": [],
   "source": [
    "# Calculate the geometric mean along each row\n",
    "geom_mean = np.array(np.exp(np.mean(np.log(armat), axis=1)))\n",
    "\n",
    "# Calculate the centered log-ratio transformation\n",
    "\n",
    "clr_transformed = np.log(armat / geom_mean[:, np.newaxis])"
   ]
  },
  {
   "cell_type": "code",
   "execution_count": 131,
   "id": "21d06b3c-d885-4747-bda3-6827f64530ae",
   "metadata": {
    "tags": []
   },
   "outputs": [
    {
     "data": {
      "image/png": "[encoded data removed]",
      "text/plain": [
       "<Figure size 640x480 with 1 Axes>"
      ]
     },
     "metadata": {},
     "output_type": "display_data"
    }
   ],
   "source": [
    "indf = clr_transformed\n",
    "\n",
    "pca_components = 5\n",
    "pca = PCA(n_components=pca_components)\n",
    "fpca = pca.fit(indf)\n",
    "X = pca.transform(indf)\n",
    "(x_evr, y_evr) = fpca.explained_variance_ratio_[:2]\n",
    "\n",
    "# establish point labels as the months\n",
    "labels = list(matdf.index)\n",
    "\n",
    "plt.scatter(x = X[:,0], y = X[:,1])\n",
    "\n",
    "plt.xlabel('PC1 ({}% variance explained)'.format(round(x_evr * 100,1)))\n",
    "plt.ylabel('PC2 ({}% variance explained)'.format(round(y_evr * 100,1)))\n",
    "\n",
    "for i, label in enumerate(labels):\n",
    "    plt.annotate(label, (X[i, 0], X[i, 1]), textcoords=\"offset points\", xytext=(0,10), ha='right')\n"
   ]
  },
  {
   "cell_type": "markdown",
   "id": "d33e3ad7-b38c-42d3-a59c-87c890a98210",
   "metadata": {},
   "source": [
    "Here we've plotted the first two principal components. I've added the amount of variance explained to each component to the axis labels. This image tells a story of seasons, and raises some questions about what would happen if we added additional time series data to it. \n",
    "\n",
    "\n",
    "\n",
    "\n",
    "\n",
    "\n",
    "\n",
    "\n",
    "\n",
    "\n",
    "\n",
    "\n",
    "\n",
    "\n",
    "\n",
    "\n",
    "\n",
    "\n",
    "\n"
   ]
  },
  {
   "cell_type": "markdown",
   "id": "d1c6b5d5-afd5-4e34-b91d-b9ecdd8daf93",
   "metadata": {},
   "source": [
    "That's all I have for this tutorial. There's only one more thing to say...\n",
    "\n",
    "![HBD](tutorial_images/HBD.png)"
   ]
  },
  {
   "cell_type": "code",
   "execution_count": null,
   "id": "720e6cf5-6a93-493b-92dd-f5b093efb7e1",
   "metadata": {},
   "outputs": [],
   "source": []
  }
 ],
 "metadata": {
  "kernelspec": {
   "display_name": "Python [conda env:root] *",
   "language": "python",
   "name": "conda-root-py"
  },
  "language_info": {
   "codemirror_mode": {
    "name": "ipython",
    "version": 3
   },
   "file_extension": ".py",
   "mimetype": "text/x-python",
   "name": "python",
   "nbconvert_exporter": "python",
   "pygments_lexer": "ipython3",
   "version": "3.9.16"
  }
 },
 "nbformat": 4,
 "nbformat_minor": 5
}
