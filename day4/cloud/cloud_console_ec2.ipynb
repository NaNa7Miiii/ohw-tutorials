{
 "cells": [
  {
   "cell_type": "markdown",
   "metadata": {
    "slideshow": {
     "slide_type": "-"
    }
   },
   "source": [
    "# AWS Console, EC2, CLI and s3 and AMIs"
   ]
  },
  {
   "cell_type": "markdown",
   "metadata": {
    "slideshow": {
     "slide_type": "-"
    }
   },
   "source": [
    "### Objectives\n",
    "- Learn how to spin up an instance, install the AWS CLI and create an s3 bucket\n",
    "- Learn how to shut down your instance, save an image and restart an instance from an AMI\n",
    "- Understand the scalability and flexibility of cloud resources"
   ]
  },
  {
   "cell_type": "markdown",
   "metadata": {
    "slideshow": {
     "slide_type": "-"
    }
   },
   "source": [
    "### Jargon, Blah, Jargon\n",
    "\n",
    "- AWS: Amazon Web Services\n",
    "- Instance: AWS Virtual Machine\n",
    "- CLI: Command Line Interface\n",
    "- s3: Object storage on Amazon Web Services\n",
    "- AMI: Amazon Machine Image "
   ]
  },
  {
   "cell_type": "markdown",
   "metadata": {
    "slideshow": {
     "slide_type": "-"
    }
   },
   "source": [
    "### Why do I care?\n",
    "\n",
    "1. If you're learning how to use the Cloud, you will need to learn how to manage cost\n",
    "2. Managing costs means terminating instances and related disk/resources when you don't need them\n",
    "3. How can you spin up instances quickly the next time you need them without reinstalling everything?! FREEZE-DRYING TO THE RESCUE!\n",
    "4. Why AWS? Follow the money --> $$$\n",
    "\n",
    "\n",
    "\n",
    "  "
   ]
  },
  {
   "cell_type": "markdown",
   "metadata": {
    "slideshow": {
     "slide_type": "-"
    }
   },
   "source": [
    "### Prerequisites\n",
    "\n",
    "To follow the steps below, you will need a terminal program, such as iTerm/Terminal on the Mac or Windows bash or Putty on Windows.\n",
    "\n",
    "\n",
    "  "
   ]
  },
  {
   "cell_type": "markdown",
   "metadata": {
    "slideshow": {
     "slide_type": "-"
    }
   },
   "source": [
    "### Logging in to the AWS Console & Creating an EC2 instance\n",
    "\n",
    "Logging in to the AWS Console & Creating an EC2 instance\n",
    "Log in to the http://aws.amazon.com. Use the IAM Username and Password that was provided to you \n",
    "\n",
    "> Account ID/Alias: uwescience\n",
    "\n",
    "<img src=\"./images/aws_cloud101_1.png\" width=20%/>\n",
    "\n",
    "Once you are logged on the the console, on the right top hand corner next to your IAM username you will see a region. Please make sure that **US-East(Ohio)** is selected from the drop down menu. We will be solely using the Ohio region for Oceanhackweek cloud work.\n",
    "\n",
    "Under Build a Solution, select Launch A Virtual Machine\n",
    "\n",
    "<img src=\"./images/aws_cloud101_2.png\" width=50%/>\n",
    "\n",
    "**Step 1: Choose an Amazon Machine Image (AMI)**\n",
    "\n",
    "Select Ubuntu Server 16.04 LTS (HVM), SSD Volume Type\n",
    "\n",
    "<img src=\"./images/aws_cloud101_3.png\" width=50%/>\n",
    "\n",
    "**Step 2: Choose an Instance Type**\n",
    "\n",
    "Select ‘t2.micro’, click Next: Configure Instance Details\n",
    "\n",
    "<img src=\"./images/aws_cloud101_4.png\" width=50%/>\n",
    "\n",
    "**Step 3: Configure Instance Details**\n",
    "\n",
    "The only thing you will need to change is the IAM role. Select **ohw_s3fullaccess** from the Drop Down List. IAM roles allow AWS resources to communicate with one another without the use of access keys. Click Next: Add Storage\n",
    "\n",
    "<img src=\"./images/aws_cloud101_5.png\" width=50%/>\n",
    "\n",
    "**Step 4: Add Storage**\n",
    "\n",
    "Change the Size to 25GiB. Click Next: Add Tags\n",
    "\n",
    "<img src=\"./images/aws_cloud101_7.png\" width=50%/>\n",
    "\n",
    "**Step 5: Add Tags**\n",
    "\n",
    "Key - Name, Value - ohwamanda-tan Key - Owner, Value - ohwamanda-tan\n",
    "\n",
    "Please append to your IAM username for all AWS resources you provision. This helps us keep track of the resources.\n",
    "\n",
    "<img src=\"./images/aws_cloud101_9.png\" width=50%/>\n",
    "\n",
    "**Step 6: Configure Security Group**\n",
    "\n",
    "Select the Select an existing security group button Check the **ohw-SG** and click Review and Launch\n",
    "\n",
    "<img src=\"./images/aws_cloud101_10.png\" width=50%/>\n",
    "\n",
    "**Step 7: Review Instance Launch**\n",
    "\n",
    "Click Launch\n",
    "\n",
    "The Select an existing key pair or Create a new key pair window will pop up.\n",
    "\n",
    "From the drop down menu, select Create a new key pair. The key pair name will be ohwIAMusername\n",
    "\n",
    "Make sure to Download Key Pair. Note where the Key Pair is saved (for Mac/Linux, it is usually automatically saved to your Downloads folder).\n",
    "\n",
    "If you want to use the hub for the next few steps, upload the key file into the hub using the upload button.\n",
    "\n",
    "Once you have saved the Key Pair (e.g. ohwamanda-tan.pem), click Launch Instances.\n",
    "\n",
    "<img src=\"./images/aws_cloud101_11.png\" width=50%/>\n",
    "\n",
    "You will see the Launch Status screen. Click on ID number associated with your instance.\n",
    "\n",
    "You will be taken to the EC2 dashboard. Look for the IPv4 Public IP. You will need this IP to ssh into your instance.\n",
    "\n",
    "<img src=\"./images/aws_cloud101_12.png\" width=50%/>\n",
    "\n",
    "\n",
    "  "
   ]
  },
  {
   "cell_type": "markdown",
   "metadata": {
    "slideshow": {
     "slide_type": "-"
    }
   },
   "source": [
    "\n",
    "### Logging on to the EC2 instance, installing the AWS CLI and creating s3 buckets\n",
    "\n",
    "To figure out how to connect to your machine, highlight it in the console, and then click on “connect”\n",
    "\n",
    "This will show you the instructions for how to connect, including the unique IP address of your machine.\n",
    "\n",
    "Using your terminal of choice (iTerm or Terminal on Mac, Windows Bash or the hub) and locate the Key Pair file you downloaded (in my case, it would be in my Downloads folder). Change the permission of the file using:\n",
    "\n",
    "```\n",
    "chmod 400 ohwamanda-tan.pem\n",
    "```\n",
    "\n",
    "> Note: The pem file could also have been saved as ohwamanda-tan.pem.txt\n",
    "\n",
    "Log on to your instance with ssh:\n",
    "\n",
    "```\n",
    "ssh -i \"ohwamanda-tan.pem\" ubuntu@52.14.247.95\n",
    "```\n",
    "\n",
    "\n",
    "Once logged on, update and upgrade packages and install the awscli:\n",
    "\n",
    "```\n",
    "sudo apt update\n",
    "\n",
    "sudo apt upgrade\n",
    "\n",
    "sudo apt install awscli\n",
    "\n",
    "```\n",
    "\n",
    "To list bucket contents (this will list ALL the s3 buckets in the account):\n",
    "\n",
    "```\n",
    "aws s3 ls\n",
    "```\n",
    "\n",
    "\n",
    "To create a new bucket (please use **ohwgithubusername**)\n",
    "\n",
    "```\n",
    "aws s3 mb s3://ohwgithubusername\n",
    "```\n",
    "\n",
    "You should now be able to see your bucket when you list the bucket contents again.\n",
    "\n",
    "S3 manipulation\n",
    "To sync files from one s3 bucket to another:\n",
    "\n",
    "```\n",
    "aws s3 sync s3://ohw2018-test s3://ohwgithubusername --recursive\n",
    "```\n",
    "\n",
    "List contents of your bucket:\n",
    "\n",
    "```\n",
    "aws s3 ls s3://ohwgithubusername\n",
    "```\n",
    "\n",
    "You should now see one file: rob.tar\n",
    "\n",
    "\n",
    "We will copy that file from your s3 bucket onto your instance. \n",
    "\n",
    "```\n",
    "aws s3 cp s3://ohwgithubusername/rob.tar .\n",
    "```\n",
    "\n",
    "We will untar the folder, and you will see a whole bunch of Rob's random files on there becase I stole his files for demo. \n",
    "\n",
    "```\n",
    "tar -xvf rob.tar\n",
    "\n",
    "```"
   ]
  },
  {
   "cell_type": "markdown",
   "metadata": {
    "slideshow": {
     "slide_type": "-"
    }
   },
   "source": [
    "### Freeze-drying Raspberries and Rehydrating Potatoes\n",
    "\n",
    "1. Select your instance\n",
    "2. Select the Actions > Image > Create Image\n",
    "3. Create image\n",
    "\n",
    "    - Image Name: ohwamanda-tan\n",
    "    - Image Description: AMI for ohwamanda-tan\n",
    "    - Click the Create Image button \n",
    "\n",
    "The image will take a while to create. PLEASE PROCEED TO STEP 4 ONLY AFTER YOUR IMAGE CREATION IS COMPLETE!\n",
    "\n",
    "4. Terminating your instance\n",
    "\n",
    "    - Let's go back to the main EC2 dashboard\n",
    "    - Find your own instance (**PLEASE DO NOT DELETE SOMEONE ELSE'S INSTANCE**)\n",
    "    - Select Actions > Instance State > Terminate\n",
    "    - When prompted, select YES\n",
    "    \n",
    "5. Rehydrating your instance into a Potato(es)\n",
    "    - On the left hand size of the screen, click AMI\n",
    "    - Find your AMI name and select, then click Launch\n",
    "    - You will be taken back to the step of Launching an Instance \n",
    "    - Let's select a larger instance this time: Let's choose a **t2.large**\n",
    "    - We will walk through the familiar steps outlined in the sections above\n",
    "\n",
    "------\n",
    "\n",
    "**IF WE HAVE MORE TIME**\n",
    "    \n",
    " \n",
    "6. Logging on to your new instance\n",
    "    - We can repeat logging in to the instance and you will see that all the libraries and dependencies and files have persisted. \n",
    "  "
   ]
  },
  {
   "cell_type": "markdown",
   "metadata": {
    "slideshow": {
     "slide_type": ""
    }
   },
   "source": [
    "### Addendum\n",
    "\n",
    "- AMIs are important because they are what is used if you need to spin-up/provision tens - hundreds of these instances for parallel processing e.g. using AWS Batch. \n",
    "\n",
    "- AMIs are known as Machine Images across all cloud vendors\n",
    "\n"
   ]
  },
  {
   "cell_type": "code",
   "execution_count": null,
   "metadata": {},
   "outputs": [],
   "source": []
  }
 ],
 "metadata": {
  "celltoolbar": "Slideshow",
  "kernelspec": {
   "display_name": "Python [default]",
   "language": "python",
   "name": "python3"
  },
  "language_info": {
   "codemirror_mode": {
    "name": "ipython",
    "version": 3
   },
   "file_extension": ".py",
   "mimetype": "text/x-python",
   "name": "python",
   "nbconvert_exporter": "python",
   "pygments_lexer": "ipython3",
   "version": "3.6.6"
  },
  "livereveal": {
   "auto_select": "none",
   "autolaunch": "true",
   "footer": " ",
   "header": "<script src='/files/static/theme/reveal.js'></script>",
   "start_slideshow_at": "selected"
  }
 },
 "nbformat": 4,
 "nbformat_minor": 2
}
