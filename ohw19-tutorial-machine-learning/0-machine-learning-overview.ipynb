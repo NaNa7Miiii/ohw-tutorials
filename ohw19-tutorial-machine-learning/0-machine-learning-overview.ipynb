{
 "cells": [
  {
   "cell_type": "markdown",
   "metadata": {},
   "source": [
    "# Machine Learning Tutorial\n",
    "\n",
    "## Oceanhackweek 2019"
   ]
  },
  {
   "cell_type": "markdown",
   "metadata": {},
   "source": [
    "In the recent years we have heard of many success stories of applications of Machine Learning for solving problems across domains. However, machine learning is not new: it has a long history intertwined with other fields such as Statistics, Data Mining, Pattern Recognition, Artificial Intelligence, Deep Learning, Data Science, etc."
   ]
  },
  {
   "cell_type": "markdown",
   "metadata": {},
   "source": [
    "So let's spend a few minutes and compare our own understanding of what all these terms mean to us."
   ]
  },
  {
   "cell_type": "markdown",
   "metadata": {},
   "source": [
    "### Activity 1:\n",
    "\n",
    "Discuss with your neighbor and provide your own definition of these terms in this etherpad:\n",
    "\n",
    "[https://etherpad.net/p/Oceanhackweek2019](https://etherpad.net/p/Oceanhackweek2019)"
   ]
  },
  {
   "cell_type": "markdown",
   "metadata": {},
   "source": [
    "![](img/Terms.png)"
   ]
  },
  {
   "cell_type": "markdown",
   "metadata": {},
   "source": [
    "**Some History**:\n",
    "\n",
    "Statistics: [The Lady Tasting Tea]()\n",
    "\n",
    "Machine Learning: [Statistical Modeling: The Two Cultures]()\n",
    "\n",
    "Artificial Intelligence: [A Proposal for the Dartmouth Summer Research Project on Artificial Intelligence]()\n",
    "\n",
    "Data Science: [An Action Plan for Expanding the Technical Areas of the Field of Statistics]()\n"
   ]
  },
  {
   "cell_type": "markdown",
   "metadata": {},
   "source": [
    "**Focus on the problems not the names!**"
   ]
  },
  {
   "cell_type": "markdown",
   "metadata": {},
   "source": [
    "Machines (i.e. algorithms) which are learning from data. "
   ]
  },
  {
   "cell_type": "markdown",
   "metadata": {},
   "source": [
    "**Machine Learning Categories**:\n",
    "* Supervised Learning\n",
    "* Unsupervised Learning\n",
    "* Semi-supervised Learning\n",
    "* Reinforcement Learning"
   ]
  },
  {
   "cell_type": "markdown",
   "metadata": {},
   "source": [
    "### Some popular Machine Learning Tasks \n",
    "(and a roadmap for solving them Andrea Mueller '13)"
   ]
  },
  {
   "cell_type": "markdown",
   "metadata": {},
   "source": [
    "![](img/MLmap.png)"
   ]
  },
  {
   "cell_type": "markdown",
   "metadata": {},
   "source": [
    "![](img/Classification.png)\n",
    "\n",
    "---\n",
    "\n",
    "![](img/Regression.png)\n",
    "\n",
    "---\n",
    "![](img/Clustering.png)\n",
    "\n",
    "---\n",
    "![](img/DimensionalityReduction.png)\n",
    "---\n",
    "![](img/ReinforcementLearning.png)"
   ]
  },
  {
   "cell_type": "markdown",
   "metadata": {},
   "source": [
    "**Regression:** each observation has a corresponding output value. We want to learn a mapping which can predict the labels of future observations which do not have output values."
   ]
  },
  {
   "cell_type": "markdown",
   "metadata": {},
   "source": [
    "**Clustering:** combine the observations into several groups according to some measure of 'closeness'."
   ]
  },
  {
   "cell_type": "markdown",
   "metadata": {},
   "source": [
    "**Dimensionality Reduction:** embed the observations into a smaller dimensional space by preserving some measure of 'closeness'."
   ]
  },
  {
   "cell_type": "markdown",
   "metadata": {},
   "source": [
    "## Example of Applications in Oceanography"
   ]
  },
  {
   "cell_type": "markdown",
   "metadata": {},
   "source": [
    "**Classification:** Quality Control with Machine Learning\n",
    "\n",
    "Detect outliers in hydrographic profiles.\n",
    "\n",
    "* Annotations of outliers\n",
    "\n",
    "![](img/Labels.png)\n",
    "\n",
    "* Set of Features\n",
    "\n",
    "![](img/Features.png)\n",
    "\n",
    "Guilherme P. Castelão, *A Flexible System for Automatic Quality Control of Oceanographic Data*, [https://arxiv.org/pdf/1503.02714.pdf](https://arxiv.org/pdf/1503.02714.pdf)\n"
   ]
  },
  {
   "cell_type": "markdown",
   "metadata": {},
   "source": [
    "**Regression:** Sea Surface Temperature Interpolation with Gaussian Process regression.\n",
    "\n",
    "Argo Raw Data\n",
    "\n",
    "<img src = https://raw.githubusercontent.com/oceanhackweek/ohw19-tutorial-machine-learning/master/img/Argo_raw.png width=\"600\">\n",
    "\n",
    "Argo Predictions\n",
    "\n",
    "![Argo Predictions](img/Argo_Predictions.png)\n",
    "\n"
   ]
  },
  {
   "cell_type": "markdown",
   "metadata": {},
   "source": [
    "Mikael Kuusela and Michael L. Stein, Locally stationary spatio-temporal interpolation of Argo profiling float data [https://arxiv.org/abs/1711.00460](https://arxiv.org/abs/1711.00460)"
   ]
  },
  {
   "cell_type": "markdown",
   "metadata": {},
   "source": [
    "**Dimensionality Reduction**: PCA of Sea Surface Temperature\n",
    "    \n",
    "![](img/ElNinoEOF.png)"
   ]
  },
  {
   "cell_type": "markdown",
   "metadata": {},
   "source": [
    "**Clustering:**\n",
    "\n",
    "Marine Bacteria Gene Clustering \n",
    "\n",
    "![](img/gene_clustering.png)\n",
    "\n",
    "\n",
    "\n",
    "Leão T, Castelão G, Korobeynikov A, Monroe EA, Podell S, Glukhov E, Allen EE, Gerwick WH, Gerwick L. 2017. Comparative genomics uncovers the prolific and distinctive metabolic potential of the cyanobacterial genus Moorea. Proc Natl Acad Sci U S A 114:3198–3203. doi:10.1073/pnas.1618556114."
   ]
  },
  {
   "cell_type": "markdown",
   "metadata": {},
   "source": [
    "### Activity 2:\n",
    "Go to the [etherpad]([https://etherpad.net/p/Oceanhackweek2019](https://etherpad.net/p/Oceanhackweek2019)) and try to provide one example of the above problems in oceanography."
   ]
  },
  {
   "cell_type": "markdown",
   "metadata": {},
   "source": [
    "### Oceanography Data Comes in all Sizes and Shapes"
   ]
  },
  {
   "cell_type": "markdown",
   "metadata": {},
   "source": [
    "Oceans can be observed through multiple sensors at many different scales. Oceans are complex ecosystems and this results in abundance of intercorrelated measurements. Many machine learning techniques make assumptions about the data being in a specific format with explicit independence constraints. To apply standard techniques, and extract meaningful information from the data, researchers often need to transform them into a standard format so that they can be run through existing libraries."
   ]
  },
  {
   "cell_type": "markdown",
   "metadata": {},
   "source": [
    "<img src = \"https://raw.githubusercontent.com/oceanhackweek/ohw19-tutorial-machine-learning/master/img/ocean_data.png\" width=\"600\">"
   ]
  },
  {
   "cell_type": "markdown",
   "metadata": {},
   "source": [
    "### Feature Extraction"
   ]
  },
  {
   "cell_type": "markdown",
   "metadata": {},
   "source": [
    "Many of the existing machine learning libraries assume observations are represented by a set of features and can be stored in a table format. But oceanography data often has time, spatial, frequency, channel or other dimensions. \n",
    "\n",
    "\n",
    "<img src=\"https://raw.githubusercontent.com/oceanhackweek/ohw19-tutorial-machine-learning/master/img/feature_table.png\" width=300>       <img src=\"img/dataset-diagram.png\" width=300>\n",
    "\n",
    "[Image Source](https://www.superhumaninvesting.com/understand-machine-learning-five-minutes/)\n",
    "\n",
    "This requires either to extract simple features from the compex data, or use machine learning libraries which can handle complex relationships.\n"
   ]
  },
  {
   "cell_type": "markdown",
   "metadata": {},
   "source": [
    "### What about Deep Learning?\n",
    "\n",
    "Can't deep learning solve all problems?"
   ]
  },
  {
   "cell_type": "markdown",
   "metadata": {},
   "source": [
    "![](img/ML_DL.png)"
   ]
  },
  {
   "cell_type": "markdown",
   "metadata": {},
   "source": [
    "Deep learning is the methodology of using deep neural networks to solve machine learning problems.\n",
    "\n",
    "![](img/History_DL.png)\n",
    "\n",
    "Li Deng and Dong Yu: Deep Learning Methods and Applications.\n",
    "Foundations and Trends in Signal Processing, 7 (3-4), 197-387. 2014.)"
   ]
  },
  {
   "cell_type": "markdown",
   "metadata": {},
   "source": [
    "#### Shallow vs Deep Learning\n",
    "\n",
    "![a](img/LogisticRegressionNN.png)\n",
    "\n",
    "Logistic Regression is a single layer neural network.\n",
    "\n",
    "Image Source: http://samuelhermanblog.blogspot.com/2017/01/deep-learning-part-1-logistic.html"
   ]
  },
  {
   "cell_type": "markdown",
   "metadata": {},
   "source": [
    "<!--[](https://i.stack.imgur.com/fKvva.png)-->"
   ]
  },
  {
   "cell_type": "markdown",
   "metadata": {},
   "source": [
    "Fully connected networks have too many paramaters:\n",
    "\n",
    "$$\\# \\textrm{parameters for two fully connected layers} \\approx \\# \\textrm{ neurons in layer}_1 \\times \\# \\textrm{ neurons in layer}_2 \\times +  \\#\\textrm{ neurons in layer}_2 $$"
   ]
  },
  {
   "cell_type": "code",
   "execution_count": 1,
   "metadata": {},
   "outputs": [
    {
     "data": {
      "text/plain": [
       "50500"
      ]
     },
     "execution_count": 1,
     "metadata": {},
     "output_type": "execute_result"
    }
   ],
   "source": [
    "# 5 x 100\n",
    "\n",
    "(100*100+100)*5"
   ]
  },
  {
   "cell_type": "markdown",
   "metadata": {},
   "source": [
    "With sufficiently enough parameters a fully connected network can perfectly predict the labels. "
   ]
  },
  {
   "cell_type": "markdown",
   "metadata": {},
   "source": [
    "### Bias-Variance Trade-off"
   ]
  },
  {
   "cell_type": "markdown",
   "metadata": {},
   "source": [
    "![](img/target_bias_variance_tradeoff.png)\n",
    "![](img/bias_variance_tradeoff.png)\n",
    "https://djsaunde.wordpress.com/2017/07/17/the-bias-variance-tradeoff/"
   ]
  },
  {
   "cell_type": "markdown",
   "metadata": {},
   "source": [
    "The most useful neural network architectures usually have more complex structure which aims to \n",
    "\n",
    "* reduce the number of model parameters\n",
    "* capture repeatable patterns in the data"
   ]
  },
  {
   "cell_type": "markdown",
   "metadata": {},
   "source": [
    "![](img/NeuralNetworkZo19High.png)"
   ]
  },
  {
   "cell_type": "markdown",
   "metadata": {},
   "source": [
    "**Popular Architectures:**\n",
    "\n",
    "* Convolutional Neural Networks: images, spatial data, localized temporal data\n",
    "    \n",
    "* Long Short Term Memory Networks (LSTM): temporal data with longer term dependencies\n",
    "    \n",
    "* Autoencoders: large data => dimensionality reduction "
   ]
  },
  {
   "cell_type": "markdown",
   "metadata": {},
   "source": [
    "**Examples in Oceanography:**\n",
    "* finding patterns in multidimensional data: [plankton classification](http://benanne.github.io/2015/03/17/plankton.html), [whale call detection](https://docs.meridian.cs.dal.ca/ketos/tutorials/index.html)\n",
    "* timeseries forecasting: [predicting El Nino Southern Oscillation](https://developers.arcgis.com/python/sample-notebooks/predicting-enso/)\n",
    "* speedup of model simulation: [predicting ocean waves](https://www.ibm.com/blogs/research/2017/09/deep-learning-forecast-ocean-waves/)\n",
    "* missing data generation, super-resolution: [coarser grid weather models](https://ai.googleblog.com/2019/07/learning-better-simulation-methods-for.html)"
   ]
  },
  {
   "cell_type": "code",
   "execution_count": null,
   "metadata": {},
   "outputs": [],
   "source": []
  },
  {
   "cell_type": "code",
   "execution_count": null,
   "metadata": {},
   "outputs": [],
   "source": []
  }
 ],
 "metadata": {
  "kernelspec": {
   "display_name": "Python 3",
   "language": "python",
   "name": "python3"
  },
  "language_info": {
   "codemirror_mode": {
    "name": "ipython",
    "version": 3
   },
   "file_extension": ".py",
   "mimetype": "text/x-python",
   "name": "python",
   "nbconvert_exporter": "python",
   "pygments_lexer": "ipython3",
   "version": "3.6.6"
  }
 },
 "nbformat": 4,
 "nbformat_minor": 4
}
